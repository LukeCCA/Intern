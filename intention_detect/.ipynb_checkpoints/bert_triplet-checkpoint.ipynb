{
 "cells": [
  {
   "cell_type": "code",
   "execution_count": 4,
   "metadata": {},
   "outputs": [],
   "source": [
    "!pip install torch\n",
    "!pip install transformers\n",
    "!pip install tqdm\n",
    "!pip install opencc\n",
    "from IPython.display import clear_output\n",
    "clear_output()"
   ]
  },
  {
   "cell_type": "code",
   "execution_count": 1,
   "metadata": {},
   "outputs": [],
   "source": [
    "import pandas as pd\n",
    "import numpy as np\n",
    "import torch\n",
    "import torch.nn as nn\n",
    "from transformers import BertTokenizerFast, BertForSequenceClassification, BertModel, AdamW\n",
    "from tqdm import tqdm\n",
    "import random\n",
    "import json\n",
    "import opencc\n",
    "from sklearn.manifold import TSNE\n",
    "import seaborn as sns\n",
    "from torch.utils.tensorboard import SummaryWriter"
   ]
  },
  {
   "cell_type": "markdown",
   "metadata": {},
   "source": [
    "## Hyper parameter"
   ]
  },
  {
   "cell_type": "code",
   "execution_count": 2,
   "metadata": {},
   "outputs": [
    {
     "name": "stdout",
     "output_type": "stream",
     "text": [
      "device: cuda:0\n"
     ]
    }
   ],
   "source": [
    "tokenizer_LM = \"../bert-base-chinese\"\n",
    "# LM = \"ckiplab/bert-base-chinese\"\n",
    "# LM = \"hfl/chinese-bert-wwm\"\n",
    "# LM = \"hfl/rbtl3\"\n",
    "LM = \"../bert-base-chinese\"\n",
    "DATASET = \"SMP2018\"\n",
    "ALPHA = 0.2\n",
    "CLASSES_PER_BATCH = 5\n",
    "ITEMS_PER_CLASS = 30\n",
    "TRAIN_BATCH_SIZE = 16 # true batch= TRAIN_BTCH_SIZE *3\n",
    "TEST_BATCH_SIZE = 64\n",
    "MODEL_PATH = \"model/tri/bert_base_chinese\" # svae/load model name/path\n",
    "EPOCHS = 100 # sample time\n",
    "device = torch.device(\"cuda:0\" if torch.cuda.is_available() else \"cpu\")\n",
    "# device=\"cpu\"\n",
    "print(\"device:\", device)"
   ]
  },
  {
   "cell_type": "markdown",
   "metadata": {},
   "source": [
    "## Utility"
   ]
  },
  {
   "cell_type": "code",
   "execution_count": 3,
   "metadata": {},
   "outputs": [],
   "source": [
    "from datetime import datetime,timezone,timedelta\n",
    "def timestamp(msg=\"\"):\n",
    "    dt1 = datetime.utcnow().replace(tzinfo=timezone.utc)\n",
    "    dt2 = dt1.astimezone(timezone(timedelta(hours=8))) # 轉換時區 -> 東八區\n",
    "    print(str(dt2)[:-13] + '\\t' + msg)\n",
    "    return (str(dt2)[:-13] + '\\t' + msg)"
   ]
  },
  {
   "cell_type": "code",
   "execution_count": 2,
   "metadata": {},
   "outputs": [],
   "source": [
    "import matplotlib.pyplot as plt\n",
    "def show_distribute(file_path):\n",
    "    df = pd.read_csv(file_path, sep='\\t')\n",
    "    labels = sorted(set(df.labels.tolist()))\n",
    "    num_labels = len(labels)\n",
    "\n",
    "    plt.bar(list(range(0,num_labels)), df.groupby('labels').count()[\"texts\"])\n",
    "    plt.show()\n",
    "    return"
   ]
  },
  {
   "cell_type": "code",
   "execution_count": 5,
   "metadata": {},
   "outputs": [],
   "source": [
    "# high-level 顯示此模型裡的 modules\n",
    "def model_info(model):\n",
    "    print(\"\"\"\n",
    "    name            module\n",
    "    ----------------------\"\"\")\n",
    "    for name, module in model.named_children():\n",
    "        if name == \"bert\":\n",
    "            for n, _ in module.named_children():\n",
    "                print(f\"{name}:{n}\")\n",
    "    #             print(_)\n",
    "        else:\n",
    "            print(\"{:15} {}\".format(name, module))"
   ]
  },
  {
   "cell_type": "code",
   "execution_count": 6,
   "metadata": {},
   "outputs": [],
   "source": [
    "class dotdict(dict):\n",
    "    \"\"\"dot.notation access to dictionary attributes\"\"\"\n",
    "    __getattr__ = dict.get\n",
    "    __setattr__ = dict.__setitem__\n",
    "    __delattr__ = dict.__delitem__"
   ]
  },
  {
   "cell_type": "markdown",
   "metadata": {},
   "source": [
    "## Data Preprocess"
   ]
  },
  {
   "cell_type": "code",
   "execution_count": 8,
   "metadata": {},
   "outputs": [],
   "source": [
    "tokenizer = BertTokenizerFast.from_pretrained(tokenizer_LM)\n",
    "def get_bert_data(mode, file_path):\n",
    "    assert mode in [\"train\", \"test\", \"dev\"]\n",
    "    df = pd.read_csv(file_path, sep='\\t')\n",
    "    df = df.sort_values(by=[\"labels\"], ignore_index=True)\n",
    "    src_labels = sorted(set(df.labels.tolist()))\n",
    "    num_labels = len(src_labels)\n",
    "    df[\"labels\"] = [src_labels.index(l) for l in df.labels.tolist()]\n",
    "\n",
    "    bert_data = []\n",
    "    texts = df[\"texts\"]\n",
    "    labels = df[\"labels\"]\n",
    "    for i, t in enumerate(texts):\n",
    "        label = labels[i]\n",
    "        bert_dict = {\"label\": label, \"src_texts\": t, \"src_label\": src_labels[label]}\n",
    "        bert_dict.update(\n",
    "            tokenizer(t, \n",
    "                      max_length=128,\n",
    "                      padding='max_length',\n",
    "                      return_token_type_ids=True,\n",
    "                      truncation=True,\n",
    "                      ))\n",
    "        bert_data += [bert_dict]\n",
    "    torch.save(bert_data, f\"bert_data/{DATASET}/{mode}.pt\")\n",
    "    if mode == \"train\":\n",
    "        return bert_data, num_labels #List[Dict[List]] = List[tokenizer output]\n",
    "    else:\n",
    "        return bert_data"
   ]
  },
  {
   "cell_type": "code",
   "execution_count": 9,
   "metadata": {},
   "outputs": [
    {
     "name": "stdout",
     "output_type": "stream",
     "text": [
      "2299 31\n",
      "31\n",
      "770\n"
     ]
    }
   ],
   "source": [
    "\"\"\"get_bert_data\"\"\"\n",
    "bert_train, num_labels = get_bert_data(\"train\", f\"data/{DATASET}/train.tsv\")\n",
    "print(len(bert_train), num_labels)\n",
    "bert_train_by_class = []\n",
    "for c in range(num_labels):\n",
    "    bert_train_by_class += [[item for item in bert_train if item['label']==c]]\n",
    "print(len(bert_train_by_class))\n",
    "bert_test = get_bert_data(\"test\", f\"data/{DATASET}/test.tsv\")\n",
    "print(len(bert_test))"
   ]
  },
  {
   "cell_type": "code",
   "execution_count": 8,
   "metadata": {},
   "outputs": [
    {
     "name": "stdout",
     "output_type": "stream",
     "text": [
      "2299\n",
      "31\n"
     ]
    }
   ],
   "source": [
    "\"\"\"train data\"\"\"\n",
    "bert_train = torch.load(f\"bert_data/{DATASET}/train.pt\")\n",
    "print(len(bert_train))\n",
    "num_labels = 41 if DATASET==\"base\" else 31\n",
    "bert_train_by_class = []\n",
    "for c in range(num_labels):\n",
    "    bert_train_by_class += [[item for item in bert_train if item['label']==c]]\n",
    "print(len(bert_train_by_class))\n",
    "# bert_train = torch.load(f\"bert_data/{DATASET}/tri_train.pt\")\n",
    "# len(bert_train)"
   ]
  },
  {
   "cell_type": "raw",
   "metadata": {},
   "source": [
    "\"\"\"develoment data\"\"\"\n",
    "bert_test = torch.load(f\"bert_data/{DATASET}/dev.pt\")\n",
    "len(bert_test)"
   ]
  },
  {
   "cell_type": "code",
   "execution_count": 9,
   "metadata": {},
   "outputs": [
    {
     "data": {
      "text/plain": [
       "770"
      ]
     },
     "execution_count": 9,
     "metadata": {},
     "output_type": "execute_result"
    }
   ],
   "source": [
    "\"\"\"testing data\"\"\"\n",
    "bert_test = torch.load(f\"bert_data/{DATASET}/test.pt\")\n",
    "len(bert_test)"
   ]
  },
  {
   "cell_type": "code",
   "execution_count": 10,
   "metadata": {},
   "outputs": [],
   "source": [
    "from torch.utils.data import Dataset\n",
    "from torch.utils.data import DataLoader\n",
    "class intent_Dataset(Dataset):\n",
    "    def __init__(self, mode, list_of_bert):\n",
    "        assert mode in [\"train\", \"test\", \"dev\"]\n",
    "        self.mode = mode\n",
    "        self.data = list_of_bert\n",
    "    def __getitem__(self, idx):\n",
    "        if self.mode == \"train\": # List[List[Dict(a,p,n)]]\n",
    "            input_ids = torch.tensor([self.data[idx][i][\"input_ids\"] for i in range(3)])\n",
    "            seg_emb = torch.tensor([self.data[idx][i][\"token_type_ids\"] for i in range(3)])\n",
    "            att_emb = torch.tensor([self.data[idx][i][\"attention_mask\"] for i in range(3)])\n",
    "            label = torch.tensor([self.data[idx][i][\"label\"] for i in range(3)])\n",
    "            src_text = [self.data[idx][i][\"src_texts\"] for i in range(3)]\n",
    "            src_label = [self.data[idx][i][\"src_label\"] for i in range(3)]\n",
    "        \n",
    "        else: # List[Dict]\n",
    "            input_ids = torch.tensor(self.data[idx][\"input_ids\"])\n",
    "            seg_emb = torch.tensor(self.data[idx][\"token_type_ids\"])\n",
    "            att_emb = torch.tensor(self.data[idx][\"attention_mask\"])\n",
    "            label = torch.tensor(self.data[idx][\"label\"])\n",
    "            src_text = self.data[idx][\"src_texts\"]\n",
    "            src_label = self.data[idx][\"src_label\"]\n",
    "        \n",
    "        return input_ids, seg_emb, att_emb, label, src_text, src_label\n",
    "\n",
    "    def __len__(self):\n",
    "        return len(self.data)"
   ]
  },
  {
   "cell_type": "markdown",
   "metadata": {},
   "source": [
    "## Model"
   ]
  },
  {
   "cell_type": "code",
   "execution_count": 11,
   "metadata": {},
   "outputs": [],
   "source": [
    "class intent_classifier(nn.Module):\n",
    "    def __init__(self, LM, encoder_hidden_size, decoder_hidden_size, num_labels):\n",
    "        super().__init__()\n",
    "        self.bert = BertModel.from_pretrained(LM, return_dict=True)\n",
    "        hidden_size = self.bert.config.hidden_size\n",
    "        self.encoder = nn.Sequential(\n",
    "            nn.Linear(hidden_size, hidden_size),\n",
    "            nn.Tanh(),\n",
    "            nn.Linear(hidden_size, hidden_size),\n",
    "            nn.Tanh(),\n",
    "            nn.Linear(hidden_size, encoder_hidden_size),\n",
    "            nn.Tanh(),\n",
    "            nn.LayerNorm(encoder_hidden_size)\n",
    "        )\n",
    "        self.decoder = nn.Sequential(\n",
    "            nn.Dropout(0.1),\n",
    "            nn.Linear(encoder_hidden_size, decoder_hidden_size),\n",
    "            nn.Tanh(),\n",
    "            nn.Dropout(0.1),\n",
    "            nn.Linear(decoder_hidden_size, num_labels),\n",
    "            nn.Softmax(dim=1)\n",
    "        )\n",
    "        \n",
    "    def forward(self, \n",
    "                input_ids=None,\n",
    "                token_type_ids=None,\n",
    "                attention_mask=None):\n",
    "        bert_outputs = self.bert(input_ids, token_type_ids, attention_mask)\n",
    "        cls_token = bert_outputs.last_hidden_state[:, 0, :]\n",
    "        utterance_embedding = self.encoder(cls_token)\n",
    "        intent_cls = self.decoder(utterance_embedding)\n",
    "        \n",
    "        return dotdict(\n",
    "            utterance_emb=utterance_embedding, # batch_size * encoder_hidden_size\n",
    "            intent_cls=intent_cls) # batch_size * num_labels"
   ]
  },
  {
   "cell_type": "code",
   "execution_count": 12,
   "metadata": {},
   "outputs": [
    {
     "name": "stdout",
     "output_type": "stream",
     "text": [
      "\n",
      "    name            module\n",
      "    ----------------------\n",
      "bert:embeddings\n",
      "bert:encoder\n",
      "bert:pooler\n",
      "encoder         Sequential(\n",
      "  (0): Linear(in_features=768, out_features=768, bias=True)\n",
      "  (1): Tanh()\n",
      "  (2): Linear(in_features=768, out_features=768, bias=True)\n",
      "  (3): Tanh()\n",
      "  (4): Linear(in_features=768, out_features=50, bias=True)\n",
      "  (5): Tanh()\n",
      "  (6): LayerNorm((50,), eps=1e-05, elementwise_affine=True)\n",
      ")\n",
      "decoder         Sequential(\n",
      "  (0): Dropout(p=0.1, inplace=False)\n",
      "  (1): Linear(in_features=50, out_features=64, bias=True)\n",
      "  (2): Tanh()\n",
      "  (3): Dropout(p=0.1, inplace=False)\n",
      "  (4): Linear(in_features=64, out_features=31, bias=True)\n",
      "  (5): Softmax(dim=1)\n",
      ")\n"
     ]
    }
   ],
   "source": [
    "model = intent_classifier(LM, 50, 64, num_labels)\n",
    "model_info(model)"
   ]
  },
  {
   "cell_type": "code",
   "execution_count": 13,
   "metadata": {},
   "outputs": [],
   "source": [
    "\"\"\"optimizer & loss function\"\"\"\n",
    "bert_optimizer = AdamW([{'params':model.bert.parameters()}, {'params':model.encoder.parameters()}], lr=3e-5, weight_decay=1e-6)\n",
    "cls_optimizer = AdamW(model.decoder.parameters(), lr=2e-4) # AdamW = BertAdam\n",
    "# TripletMarginLoss(margin=1.0, p=2.0, eps=1e-06, swap=False, size_average=None, reduce=None, reduction='mean')\n",
    "# TRIPLETMARGINWITHDISTANCELOSS (custom destance function)\n",
    "triplet_loss = nn.TripletMarginLoss(margin=ALPHA)"
   ]
  },
  {
   "cell_type": "code",
   "execution_count": 14,
   "metadata": {},
   "outputs": [],
   "source": [
    "trainSet = intent_Dataset(\"test\", bert_train)\n",
    "trainLoader = DataLoader(trainSet, batch_size=TRAIN_BATCH_SIZE, shuffle=True)\n",
    "\n",
    "# devSet = intent_Dataset(\"dev\", bert_dev)\n",
    "# devLoader = DataLoader(devSet, batch_size=TEST_BATCH_SIZE)\n",
    "testSet = intent_Dataset(\"test\", bert_test)\n",
    "testLoader = DataLoader(testSet, batch_size=TEST_BATCH_SIZE)"
   ]
  },
  {
   "cell_type": "markdown",
   "metadata": {},
   "source": [
    "## Train & validate"
   ]
  },
  {
   "cell_type": "code",
   "execution_count": 15,
   "metadata": {},
   "outputs": [],
   "source": [
    "def get_predictions(model, dataloader, compute_acc, get_emb):\n",
    "    predictions = None\n",
    "    correct = 0\n",
    "    total = 0\n",
    "    emb = None\n",
    "      \n",
    "    with torch.no_grad():\n",
    "        # 遍巡整個資料集\n",
    "        for data in dataloader:\n",
    "            tokens_tensors, segments_tensors, masks_tensors,\\\n",
    "            labels = [t.to(device) for t in data if torch.is_tensor(t)]\n",
    "            \n",
    "            outputs = model(input_ids=tokens_tensors, \n",
    "                            token_type_ids=segments_tensors, \n",
    "                            attention_mask=masks_tensors)\n",
    "            \n",
    "            _, pred = torch.max(outputs.intent_cls.data, 1) # _: logits最大數值; pred: 最大數值的 index\n",
    "            \n",
    "            # 用來計算訓練集的分類準確率\n",
    "            if compute_acc:\n",
    "                total += labels.size(0)\n",
    "                correct += (pred == labels).sum().item()\n",
    "                \n",
    "#                 correct_list = (pred == labels).nonzero().squeeze().tolist()\n",
    "#                 for i in correct_list:\n",
    "#                     print(data[-1][i], data[-2][i])\n",
    "#                 return\n",
    "                \n",
    "            # 將當前 batch 記錄下來\n",
    "            if predictions is None:\n",
    "                predictions = pred\n",
    "            else:\n",
    "                predictions = torch.cat((predictions, pred))\n",
    "            \n",
    "            if emb is None:\n",
    "                emb = outputs.utterance_emb\n",
    "            else:\n",
    "                emb = torch.cat((emb, outputs.utterance_emb))\n",
    "\n",
    "\n",
    "    if compute_acc and get_emb:\n",
    "        return predictions, acc, emb\n",
    "    if compute_acc:\n",
    "        acc = correct / total\n",
    "        return predictions, acc\n",
    "    if get_emb:\n",
    "        return predictions, emb\n",
    "    return predictions"
   ]
  },
  {
   "cell_type": "code",
   "execution_count": 16,
   "metadata": {},
   "outputs": [],
   "source": [
    "\"\"\"\n",
    "Select the triplets for training\n",
    "from facenet https://github.com/davidsandberg/facenet/blob/master/src/train_tripletloss.py#L313\n",
    ":param dataset: data group by class (List[List[bert_data]])\n",
    ":return num_per_class: list of sample num per class\n",
    "\"\"\"\n",
    "def sample_item(dataset, class_per_batch, items_per_class):\n",
    "    nrof_items = class_per_batch * items_per_class\n",
    "  \n",
    "    # Sample classes from the dataset\n",
    "    nrof_classes = len(dataset) # num of classes\n",
    "    class_indices = np.arange(nrof_classes)\n",
    "    np.random.shuffle(class_indices)\n",
    "    \n",
    "    i = 0\n",
    "    item_list = []\n",
    "    num_per_class = []\n",
    "    sampled_class_indices = []\n",
    "    # Sample items from these classes until we have enough\n",
    "    while len(item_list)<nrof_items:\n",
    "        class_index = class_indices[i]\n",
    "        nrof_items_in_class = len(dataset[class_index])\n",
    "        item_indices = np.arange(nrof_items_in_class)\n",
    "        np.random.shuffle(item_indices)\n",
    "        nrof_items_from_class = min(nrof_items_in_class, items_per_class, nrof_items-len(item_list))\n",
    "        idx = item_indices[0:nrof_items_from_class]\n",
    "        item_paths_for_class = [dataset[class_index][j] for j in idx]\n",
    "        sampled_class_indices += [class_index]*nrof_items_from_class\n",
    "        item_list += item_paths_for_class\n",
    "        num_per_class.append(nrof_items_from_class)\n",
    "        i+=1\n",
    "  \n",
    "    return item_list, num_per_class"
   ]
  },
  {
   "cell_type": "code",
   "execution_count": 17,
   "metadata": {},
   "outputs": [],
   "source": [
    "\"\"\"\n",
    "Select the triplets for training\n",
    "from facenet https://github.com/davidsandberg/facenet/blob/master/src/train_tripletloss.py#L271 \n",
    ":param embeddings: 2d array(nrof_example * hidden_size)\n",
    ":param nrof_items_per_class: num_per_class (List)\n",
    ":param bert_data: list of bert data (List[Dict{input_ids...}])\n",
    "\"\"\"\n",
    "\n",
    "def triplet_sample(embeddings, nrof_items_per_class, bert_data, class_per_batch, alpha):\n",
    "    trip_idx = 0\n",
    "    emb_start_idx = 0\n",
    "    num_trips = 0\n",
    "    triplets = []\n",
    "    \n",
    "    # VGG Face: Choosing good triplets is crucial and should strike a balance between\n",
    "    #  selecting informative (i.e. challenging) examples and swamping training with examples that\n",
    "    #  are too hard. This is achieve by extending each pair (a, p) to a triplet (a, p, n) by sampling\n",
    "    #  the image n at random, but only between the ones that violate the triplet loss margin. The\n",
    "    #  latter is a form of hard-negative mining, but it is not as aggressive (and much cheaper) than\n",
    "    #  choosing the maximally violating example, as often done in structured output learning.\n",
    "\n",
    "    for i in range(class_per_batch): # 跑 n 個 class\n",
    "        nrof_items = int(nrof_items_per_class[i])\n",
    "        for j in range(1,nrof_items): # 跑該 class 有幾個\n",
    "            a_idx = emb_start_idx + j - 1 # 選 anchor idx\n",
    "            neg_dists_sqr = torch.sum(torch.pow(embeddings[a_idx] - embeddings, 2), 1) # anchor 對所有 emb 相減平方後橫向相加 (變1D)\n",
    "            for pair in range(j, nrof_items): # For every possible positive pair.\n",
    "                p_idx = emb_start_idx + pair\n",
    "                pos_dist_sqr = torch.sum(torch.pow(embeddings[a_idx]-embeddings[p_idx], 2)) # achor - postive 平方相加 (scalar)\n",
    "                neg_dists_sqr[emb_start_idx:emb_start_idx+nrof_items] = np.NaN # mask 跟 anchor 同類的 dists\n",
    "                #all_neg = np.where(np.logical_and(neg_dists_sqr-pos_dist_sqr<alpha, pos_dist_sqr<neg_dists_sqr))[0]  # FaceNet selection\n",
    "                # FaceNet selection\n",
    "#                 cons_1 = torch.where(neg_dists_sqr-pos_dist_sqr<alpha)\n",
    "#                 cons_2 = torch.where(pos_dist_sqr<neg_dists_sqr)\n",
    "#                 all_neg = (cons_1 and cons_2)[0].tolist()\n",
    "#                 all_neg = torch.where(neg_dists_sqr-pos_dist_sqr<alpha)[0].tolist() # VGG Face selecction\n",
    "                all_neg = torch.where(neg_dists_sqr-pos_dist_sqr>alpha)[0].tolist() # paper\n",
    "\n",
    "                nrof_random_negs = len(all_neg)\n",
    "                if nrof_random_negs>0: # 有 < alpha 的 neg 就隨機取\n",
    "                    rnd_idx = np.random.randint(nrof_random_negs)\n",
    "                    n_idx = all_neg[rnd_idx]\n",
    "                    triplets.append([bert_data[a_idx], bert_data[p_idx], bert_data[n_idx]])\n",
    "#                     print('Triplet %d: (%d, %d, %d), pos_dist=%2.6f, neg_dist=%2.6f (%d, %d, %d, %d, %d)' % \n",
    "#                        (trip_idx, a_idx, p_idx, n_idx, pos_dist_sqr, neg_dists_sqr[n_idx], nrof_random_negs, rnd_idx, i, j, emb_start_idx))\n",
    "                    trip_idx += 1\n",
    "\n",
    "                num_trips += 1\n",
    "\n",
    "        emb_start_idx += nrof_items\n",
    "\n",
    "    np.random.shuffle(triplets)\n",
    "    return triplets, num_trips, len(triplets)"
   ]
  },
  {
   "cell_type": "code",
   "execution_count": 18,
   "metadata": {},
   "outputs": [
    {
     "name": "stdout",
     "output_type": "stream",
     "text": [
      "2021-03-23 16:52:14\t\n"
     ]
    }
   ],
   "source": [
    "# default `log_dir` is \"runs\" - we'll be more specific here\n",
    "writer = SummaryWriter(f\"runs/visual_{timestamp()[-9:-4].replace(':','_')}\")\n",
    "\n",
    "train_from = 0\n",
    "if MODEL_PATH.find(\".pt\") != -1:\n",
    "    model.load_state_dict(torch.load(MODEL_PATH))\n",
    "    p = MODEL_PATH.rfind('_')\n",
    "    train_from = int(MODEL_PATH[p+1 : -3])\n",
    "    MODEL_PATH = MODEL_PATH[: p-2]\n",
    "model = model.to(device)"
   ]
  },
  {
   "cell_type": "code",
   "execution_count": 19,
   "metadata": {},
   "outputs": [
    {
     "name": "stdout",
     "output_type": "stream",
     "text": [
      "2021-03-23 16:52:21\tstart training model/tri/bert_base_chinese from epoch 1 to 100\n"
     ]
    },
    {
     "ename": "IndexError",
     "evalue": "list index out of range",
     "output_type": "error",
     "traceback": [
      "\u001b[0;31m---------------------------------------------------------------------------\u001b[0m",
      "\u001b[0;31mIndexError\u001b[0m                                Traceback (most recent call last)",
      "\u001b[0;32m<ipython-input-19-f2fb0f7a58db>\u001b[0m in \u001b[0;36m<module>\u001b[0;34m\u001b[0m\n\u001b[1;32m     12\u001b[0m \u001b[0;34m\u001b[0m\u001b[0m\n\u001b[1;32m     13\u001b[0m     \u001b[0;31m# sample triplet\u001b[0m\u001b[0;34m\u001b[0m\u001b[0;34m\u001b[0m\u001b[0;34m\u001b[0m\u001b[0m\n\u001b[0;32m---> 14\u001b[0;31m     \u001b[0mbert_train_tri\u001b[0m\u001b[0;34m,\u001b[0m \u001b[0mnum_trips\u001b[0m\u001b[0;34m,\u001b[0m \u001b[0min_margin\u001b[0m\u001b[0;34m,\u001b[0m \u001b[0;34m=\u001b[0m \u001b[0mtriplet_sample\u001b[0m\u001b[0;34m(\u001b[0m\u001b[0memb\u001b[0m\u001b[0;34m,\u001b[0m \u001b[0mnum_per_class\u001b[0m\u001b[0;34m,\u001b[0m \u001b[0mbert_train_by_class\u001b[0m\u001b[0;34m,\u001b[0m \u001b[0mCLASSES_PER_BATCH\u001b[0m\u001b[0;34m,\u001b[0m \u001b[0mALPHA\u001b[0m\u001b[0;34m)\u001b[0m\u001b[0;34m\u001b[0m\u001b[0;34m\u001b[0m\u001b[0m\n\u001b[0m\u001b[1;32m     15\u001b[0m \u001b[0;31m#     break\u001b[0m\u001b[0;34m\u001b[0m\u001b[0;34m\u001b[0m\u001b[0;34m\u001b[0m\u001b[0m\n\u001b[1;32m     16\u001b[0m     \u001b[0mprint\u001b[0m\u001b[0;34m(\u001b[0m\u001b[0;34mf\"num_trips: {num_trips}, in_margin: {in_margin}\"\u001b[0m\u001b[0;34m)\u001b[0m\u001b[0;34m\u001b[0m\u001b[0;34m\u001b[0m\u001b[0m\n",
      "\u001b[0;32m<ipython-input-17-93d6e978bad7>\u001b[0m in \u001b[0;36mtriplet_sample\u001b[0;34m(embeddings, nrof_items_per_class, bert_data, class_per_batch, alpha)\u001b[0m\n\u001b[1;32m     41\u001b[0m                     \u001b[0mrnd_idx\u001b[0m \u001b[0;34m=\u001b[0m \u001b[0mnp\u001b[0m\u001b[0;34m.\u001b[0m\u001b[0mrandom\u001b[0m\u001b[0;34m.\u001b[0m\u001b[0mrandint\u001b[0m\u001b[0;34m(\u001b[0m\u001b[0mnrof_random_negs\u001b[0m\u001b[0;34m)\u001b[0m\u001b[0;34m\u001b[0m\u001b[0;34m\u001b[0m\u001b[0m\n\u001b[1;32m     42\u001b[0m                     \u001b[0mn_idx\u001b[0m \u001b[0;34m=\u001b[0m \u001b[0mall_neg\u001b[0m\u001b[0;34m[\u001b[0m\u001b[0mrnd_idx\u001b[0m\u001b[0;34m]\u001b[0m\u001b[0;34m\u001b[0m\u001b[0;34m\u001b[0m\u001b[0m\n\u001b[0;32m---> 43\u001b[0;31m                     \u001b[0mtriplets\u001b[0m\u001b[0;34m.\u001b[0m\u001b[0mappend\u001b[0m\u001b[0;34m(\u001b[0m\u001b[0;34m[\u001b[0m\u001b[0mbert_data\u001b[0m\u001b[0;34m[\u001b[0m\u001b[0ma_idx\u001b[0m\u001b[0;34m]\u001b[0m\u001b[0;34m,\u001b[0m \u001b[0mbert_data\u001b[0m\u001b[0;34m[\u001b[0m\u001b[0mp_idx\u001b[0m\u001b[0;34m]\u001b[0m\u001b[0;34m,\u001b[0m \u001b[0mbert_data\u001b[0m\u001b[0;34m[\u001b[0m\u001b[0mn_idx\u001b[0m\u001b[0;34m]\u001b[0m\u001b[0;34m]\u001b[0m\u001b[0;34m)\u001b[0m\u001b[0;34m\u001b[0m\u001b[0;34m\u001b[0m\u001b[0m\n\u001b[0m\u001b[1;32m     44\u001b[0m \u001b[0;31m#                     print('Triplet %d: (%d, %d, %d), pos_dist=%2.6f, neg_dist=%2.6f (%d, %d, %d, %d, %d)' %\u001b[0m\u001b[0;34m\u001b[0m\u001b[0;34m\u001b[0m\u001b[0;34m\u001b[0m\u001b[0m\n\u001b[1;32m     45\u001b[0m \u001b[0;31m#                        (trip_idx, a_idx, p_idx, n_idx, pos_dist_sqr, neg_dists_sqr[n_idx], nrof_random_negs, rnd_idx, i, j, emb_start_idx))\u001b[0m\u001b[0;34m\u001b[0m\u001b[0;34m\u001b[0m\u001b[0;34m\u001b[0m\u001b[0m\n",
      "\u001b[0;31mIndexError\u001b[0m: list index out of range"
     ]
    }
   ],
   "source": [
    "timestamp(f\"start training {MODEL_PATH} from epoch {train_from+1} to {EPOCHS}\")\n",
    "for epoch in range(train_from, EPOCHS):\n",
    "    running_bert_loss = 0.0\n",
    "    running_cls_loss = 0.0\n",
    "    \n",
    "    # smaple item\n",
    "    sample_list, num_per_class = sample_item(bert_train_by_class, CLASSES_PER_BATCH, ITEMS_PER_CLASS)\n",
    "    sampleSet = intent_Dataset(\"test\", sample_list)\n",
    "    sampleLoader = DataLoader(sampleSet, batch_size=50)\n",
    "    # get sample's embedding\n",
    "    _, emb = get_predictions(model, sampleLoader, compute_acc=False, get_emb=True)\n",
    "    \n",
    "    # sample triplet\n",
    "    bert_train_tri, num_trips, in_margin, = triplet_sample(emb, num_per_class, bert_train, CLASSES_PER_BATCH, ALPHA)\n",
    "#     break\n",
    "    print(f\"num_trips: {num_trips}, in_margin: {in_margin}\")\n",
    "    triSet = intent_Dataset(\"train\", bert_train_tri)\n",
    "    triLoader = DataLoader(triSet, batch_size=TRAIN_BATCH_SIZE)\n",
    "#     print((bert_train_tri[0]))\n",
    "#     break\n",
    "    \n",
    "    for data in (triLoader):\n",
    "\n",
    "        tokens_tensors, segments_tensors, masks_tensors, \\\n",
    "        labels = [t.to(device) for t in data if torch.is_tensor(t)]\n",
    "\n",
    "\n",
    "        # 將參數梯度歸零\n",
    "        bert_optimizer.zero_grad()\n",
    "        \n",
    "        # forward pass; view for reshape\n",
    "        resize = labels.view(-1).shape[0]\n",
    "        outputs = model(input_ids = tokens_tensors.view(resize, -1), \n",
    "                        token_type_ids = segments_tensors.view(resize, -1), \n",
    "                        attention_mask = masks_tensors.view(resize, -1))\n",
    "        \n",
    "        cls_token = outputs.utterance_emb\n",
    "        anchor = torch.stack([cls_token[i] for i in range(0, resize, 3)])\n",
    "        positive = torch.stack([cls_token[i] for i in range(1, resize, 3)])\n",
    "        negative = torch.stack([cls_token[i] for i in range(2, resize, 3)])\n",
    "        bert_loss = triplet_loss(anchor, positive, negative)\n",
    "        \n",
    "        # backward\n",
    "        model.bert.train()\n",
    "        model.encoder.train()\n",
    "        model.decoder.eval()\n",
    "        bert_loss.backward()\n",
    "        bert_optimizer.step()\n",
    "\n",
    "        # 紀錄當前 batch loss\n",
    "        running_bert_loss += bert_loss.item()\n",
    "#         print(running_bert_loss)\n",
    "        \n",
    "#     torch.save(model.state_dict(), F\"{MODEL_PATH}_E_{str(epoch+1)}.pt\")\n",
    "    timestamp(f\"[epoch {epoch+1}] bert_loss: {running_bert_loss:.3f}\")\n",
    "    writer.add_scalar('Loss/bert', running_bert_loss, epoch)"
   ]
  },
  {
   "cell_type": "code",
   "execution_count": null,
   "metadata": {},
   "outputs": [],
   "source": [
    "timestamp(f\"start training {MODEL_PATH} from epoch {train_from+1} to {EPOCHS}\")\n",
    "for epoch in range(train_from, EPOCHS):\n",
    "    running_bert_loss = 0.0\n",
    "    running_cls_loss = 0.0\n",
    "\n",
    "    for data in (trainLoader):\n",
    "        tokens_tensors, segments_tensors, masks_tensors, \\\n",
    "        labels = [t.to(device) for t in data if torch.is_tensor(t)]\n",
    "#         print(tokens_tensors.shape, labels.shape)\n",
    "#         break\n",
    "        \n",
    "        # 將參數梯度歸零\n",
    "        cls_optimizer.zero_grad()\n",
    "        \n",
    "        # forward pass\n",
    "        resize = labels.view(-1).shape[0]\n",
    "        outputs = model(input_ids = tokens_tensors.view(resize, -1), \n",
    "                        token_type_ids = segments_tensors.view(resize, -1), \n",
    "                        attention_mask = masks_tensors.view(resize, -1))\n",
    "        \n",
    "        loss_fct = nn.CrossEntropyLoss()\n",
    "        if outputs.intent_cls.shape[0] != labels.view(-1).shape[0]:\n",
    "            print(tokens_tensors.shape, labels.shape)\n",
    "            print(outputs.intent_cls.shape, labels.view(-1).shape)\n",
    "            break\n",
    "        cls_loss = loss_fct(outputs.intent_cls, labels.view(-1))\n",
    "        \n",
    "        # backward\n",
    "        model.bert.eval()\n",
    "        model.encoder.eval()\n",
    "        model.decoder.train()\n",
    "        cls_loss.backward()\n",
    "        cls_optimizer.step()\n",
    "        \n",
    "        # 紀錄當前 batch loss\n",
    "        running_cls_loss += cls_loss.item()\n",
    "#         print(running_cls_loss)\n",
    "    \n",
    "#     break\n",
    "    timestamp(f\"[epoch {epoch+1}] cls_loss: {running_cls_loss:.3f}\")    \n",
    "    writer.add_scalar('Loss/bert', running_cls_loss, epoch)\n",
    "    \n",
    "    _, acc = get_predictions(model, trainLoader, compute_acc=True, get_emb=False)\n",
    "    print(f\"[epoch {epoch+1}] training acc: {acc:.6f}\")\n",
    "    writer.add_scalar('Acc/train', acc, epoch)\n",
    "    \n",
    "    _, acc = get_predictions(model, testLoader, compute_acc=True, get_emb=False)\n",
    "    print(f\"[epoch {epoch+1}] testing acc: {acc:.6f}\")\n",
    "    writer.add_scalar('Acc/test', acc, epoch)\n"
   ]
  },
  {
   "cell_type": "code",
   "execution_count": 20,
   "metadata": {},
   "outputs": [],
   "source": [
    "torch.save(model.state_dict(), F\"{MODEL_PATH}_a_02_E_100.pt\")"
   ]
  },
  {
   "cell_type": "markdown",
   "metadata": {},
   "source": [
    "## Visualization"
   ]
  },
  {
   "cell_type": "code",
   "execution_count": 22,
   "metadata": {},
   "outputs": [],
   "source": [
    "model.load_state_dict(torch.load(f\"{MODEL_PATH}_a_02_E_100.pt\"))\n",
    "model = model.to(device)\n",
    "df = pd.read_csv(f\"data/SMP2018/train.tsv\", sep='\\t')\n",
    "# assert len(dataloader.dataset) == df.shape[0]\n",
    "df = df.sort_values(by=\"labels\", ignore_index=True)\n",
    "_, emb = get_predictions(model, trainLoader, compute_acc=False, get_emb=True)\n",
    "#     for p in range(5,50,5):\n",
    "low_dim_emb = TSNE(n_components=2, perplexity=30).fit_transform(emb.cpu())\n",
    "\n",
    "df[\"f1\"] = low_dim_emb[:, 0]\n",
    "df[\"f2\"] = low_dim_emb[:, 1]\n",
    "#     sns.scatterplot(df, x=\"f1\", y=\"f2\", hue=\"labels\")\n"
   ]
  },
  {
   "cell_type": "code",
   "execution_count": 29,
   "metadata": {},
   "outputs": [
    {
     "data": {
      "text/plain": [
       "<matplotlib.axes._subplots.AxesSubplot at 0x7efcb15a80f0>"
      ]
     },
     "execution_count": 29,
     "metadata": {},
     "output_type": "execute_result"
    },
    {
     "data": {
      "image/png": "[encoded data removed]",
      "text/plain": [
       "<Figure size 432x288 with 1 Axes>"
      ]
     },
     "metadata": {
      "needs_background": "light"
     },
     "output_type": "display_data"
    }
   ],
   "source": [
    "sns.scatterplot(data=df, x=\"f1\", y=\"f2\", hue=\"labels\")\n"
   ]
  },
  {
   "cell_type": "code",
   "execution_count": null,
   "metadata": {},
   "outputs": [],
   "source": [
    "g = sns.FacetGrid(df, row=\"labels\")\n",
    "g.map(sns.scatterplot, \"f1\", \"f2\", alpha=.7)"
   ]
  },
  {
   "cell_type": "code",
   "execution_count": 12,
   "metadata": {},
   "outputs": [],
   "source": [
    "def plot_emb(model, dataloader, dataset, mode):\n",
    "    df = pd.read_csv(f\"data/{dataset}/{mode}.tsv\", sep='\\t')\n",
    "    assert len(dataloader.dataset) == df.shape[0]\n",
    "    df = df.sort_values(by=\"labels\", ignore_index=True)\n",
    "    _, emb = get_predictions(model, dataloader, compute_acc=False, get_emb=True)\n",
    "#     for p in range(5,50,5):\n",
    "    low_dim_emb = TSNE(n_components=2, perplexity=30).fit_transform(emb.cpu())\n",
    "\n",
    "    df[\"f1\"] = low_dim_emb[:, 0]\n",
    "    df[\"f2\"] = low_dim_emb[:, 1]\n",
    "    sns.scatterplot(df, x=\"f1\", y=\"f2\", hue=\"labels\")\n",
    "    \n",
    "    return"
   ]
  },
  {
   "cell_type": "code",
   "execution_count": null,
   "metadata": {},
   "outputs": [],
   "source": [
    "plot_emb(model, testLoader, DATASET, \"test\")"
   ]
  },
  {
   "cell_type": "markdown",
   "metadata": {},
   "source": [
    "## Test"
   ]
  },
  {
   "cell_type": "code",
   "execution_count": null,
   "metadata": {},
   "outputs": [],
   "source": [
    "testSet = intent_Dataset(\"test\", bert_test)\n",
    "testLoader = DataLoader(testSet, batch_size=TEST_BATCH_SIZE)"
   ]
  },
  {
   "cell_type": "code",
   "execution_count": null,
   "metadata": {},
   "outputs": [],
   "source": [
    "model = BertForSequenceClassification.from_pretrained(LM, num_labels=num_labels, return_dict=True)"
   ]
  },
  {
   "cell_type": "code",
   "execution_count": null,
   "metadata": {},
   "outputs": [],
   "source": [
    "for e in range(1,9):\n",
    "    model.load_state_dict(torch.load(f\"{MODEL_PATH}_E_{e}.pt\"))\n",
    "    model.eval()\n",
    "    model = model.to(device)\n",
    "    _, acc = get_predictions(model, testLoader, compute_acc=True)\n",
    "    print(f\"[epoch {e}] testing acc: {acc:.6f}\")"
   ]
  },
  {
   "cell_type": "markdown",
   "metadata": {},
   "source": [
    "---"
   ]
  }
 ],
 "metadata": {
  "kernelspec": {
   "display_name": "Python 3",
   "language": "python",
   "name": "python3"
  },
  "language_info": {
   "codemirror_mode": {
    "name": "ipython",
    "version": 3
   },
   "file_extension": ".py",
   "mimetype": "text/x-python",
   "name": "python",
   "nbconvert_exporter": "python",
   "pygments_lexer": "ipython3",
   "version": "3.6.10"
  }
 },
 "nbformat": 4,
 "nbformat_minor": 5
}

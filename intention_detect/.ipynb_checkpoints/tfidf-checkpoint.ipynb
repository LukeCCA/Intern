{
 "cells": [
  {
   "cell_type": "code",
   "execution_count": 4,
   "metadata": {},
   "outputs": [],
   "source": [
    "from gensim.models import KeyedVectors\n",
    "import jieba\n",
    "import torch\n",
    "import torch.nn as nn\n",
    "import torch.nn.functional as F\n",
    "from torch.autograd import Variable\n",
    "from tqdm import tqdm\n",
    "import pandas as pd\n",
    "import opencc\n",
    "from ckiptagger import WS\n"
   ]
  },
  {
   "cell_type": "markdown",
   "metadata": {},
   "source": [
    "## Hyper Parameter"
   ]
  },
  {
   "cell_type": "code",
   "execution_count": 5,
   "metadata": {},
   "outputs": [
    {
     "name": "stdout",
     "output_type": "stream",
     "text": [
      "device: cuda:0\n"
     ]
    }
   ],
   "source": [
    "DATASET = \"base\"\n",
    "NUM_ROUTING_ITERATIONS = 4\n",
    "BATCH_SIZE = 16\n",
    "MODEL_PATH = \"model/transCapsule\" # svae/load model name/path\n",
    "EPOCHS = 10\n",
    "device = torch.device(\"cuda:0\" if torch.cuda.is_available() else \"cpu\")\n",
    "print(\"device:\", device)"
   ]
  },
  {
   "cell_type": "markdown",
   "metadata": {},
   "source": [
    "## Utility Function"
   ]
  },
  {
   "cell_type": "code",
   "execution_count": null,
   "metadata": {},
   "outputs": [],
   "source": []
  },
  {
   "cell_type": "markdown",
   "metadata": {},
   "source": [
    "## Data Preprocess"
   ]
  },
  {
   "cell_type": "code",
   "execution_count": 6,
   "metadata": {},
   "outputs": [
    {
     "name": "stderr",
     "output_type": "stream",
     "text": [
      "/opt/conda/lib/python3.6/site-packages/smart_open/smart_open_lib.py:253: UserWarning: This function is deprecated, use smart_open.open instead. See the migration notes for details: https://github.com/RaRe-Technologies/smart_open/blob/master/README.rst#migrating-to-the-new-open-function\n",
      "  'See the migration notes for details: %s' % _MIGRATION_NOTES_URL\n"
     ]
    }
   ],
   "source": [
    "W2V = KeyedVectors.load_word2vec_format(\"../zhwiki_20180420_100d.txt\")"
   ]
  },
  {
   "cell_type": "code",
   "execution_count": 140,
   "metadata": {},
   "outputs": [
    {
     "name": "stdout",
     "output_type": "stream",
     "text": [
      "WARNING: Entity <bound method LSTMCell.call of <tensorflow.python.ops.rnn_cell_impl.LSTMCell object at 0x7f38f8791438>> could not be transformed and will be executed as-is. Please report this to the AutgoGraph team. When filing the bug, set the verbosity to 10 (on Linux, `export AUTOGRAPH_VERBOSITY=10`) and attach the full output. Cause: converting <bound method LSTMCell.call of <tensorflow.python.ops.rnn_cell_impl.LSTMCell object at 0x7f38f8791438>>: AttributeError: module 'gast' has no attribute 'Num'\n",
      "WARNING: Entity <bound method LSTMCell.call of <tensorflow.python.ops.rnn_cell_impl.LSTMCell object at 0x7f361c9d3d68>> could not be transformed and will be executed as-is. Please report this to the AutgoGraph team. When filing the bug, set the verbosity to 10 (on Linux, `export AUTOGRAPH_VERBOSITY=10`) and attach the full output. Cause: converting <bound method LSTMCell.call of <tensorflow.python.ops.rnn_cell_impl.LSTMCell object at 0x7f361c9d3d68>>: AttributeError: module 'gast' has no attribute 'Num'\n",
      "WARNING: Entity <bound method LSTMCell.call of <tensorflow.python.ops.rnn_cell_impl.LSTMCell object at 0x7f38f85317b8>> could not be transformed and will be executed as-is. Please report this to the AutgoGraph team. When filing the bug, set the verbosity to 10 (on Linux, `export AUTOGRAPH_VERBOSITY=10`) and attach the full output. Cause: converting <bound method LSTMCell.call of <tensorflow.python.ops.rnn_cell_impl.LSTMCell object at 0x7f38f85317b8>>: AttributeError: module 'gast' has no attribute 'Num'\n",
      "WARNING: Entity <bound method LSTMCell.call of <tensorflow.python.ops.rnn_cell_impl.LSTMCell object at 0x7f39ac2f8278>> could not be transformed and will be executed as-is. Please report this to the AutgoGraph team. When filing the bug, set the verbosity to 10 (on Linux, `export AUTOGRAPH_VERBOSITY=10`) and attach the full output. Cause: converting <bound method LSTMCell.call of <tensorflow.python.ops.rnn_cell_impl.LSTMCell object at 0x7f39ac2f8278>>: AttributeError: module 'gast' has no attribute 'Num'\n",
      "WARNING: Entity <bound method Dense.call of <tensorflow.python.layers.core.Dense object at 0x7f361ccc9b70>> could not be transformed and will be executed as-is. Please report this to the AutgoGraph team. When filing the bug, set the verbosity to 10 (on Linux, `export AUTOGRAPH_VERBOSITY=10`) and attach the full output. Cause: converting <bound method Dense.call of <tensorflow.python.layers.core.Dense object at 0x7f361ccc9b70>>: AssertionError: Bad argument number for Name: 3, expecting 4\n"
     ]
    }
   ],
   "source": [
    "ws = WS(\"../ckiptagger/data\")\n",
    "def get_model_data(file_path):\n",
    "    t2s_converter = opencc.OpenCC(\"t2s.json\")\n",
    "    df = pd.read_csv(file_path, sep='\\t')\n",
    "    src_labels = sorted(set(df.labels.tolist()))\n",
    "    num_labels = len(src_labels)\n",
    "    df[\"labels\"] = [src_labels.index(l) for l in df.labels.tolist()]\n",
    "    data = []\n",
    "    texts = df[\"texts\"]\n",
    "\n",
    "    labels = df[\"labels\"]\n",
    "    oov = []\n",
    "    for i, t in (enumerate(texts)):\n",
    "        label = labels[i]\n",
    "        sentence_seg = [seg_t for seg_t in ws([t])[0] if seg_t!=' ']\n",
    "#         print(sentence_seg)\n",
    "#         break\n",
    "#         sentence_seg = [seg_t for seg_t in jieba.lcut(t2s_converter.convert(t)) if seg_t !=\" \"]\n",
    "#         s2t_converter = opencc.OpenCC(\"s2t.json\")\n",
    "#         sentence_seg = [s2t_converter.convert(seg_t) for seg_t in sentence_seg]\n",
    "        \n",
    "        data_dict = dict()\n",
    "        emb = []\n",
    "\n",
    "        for seg_t in sentence_seg:\n",
    "            try:\n",
    "                emb += [W2V[seg_t].tolist()]\n",
    "            except:\n",
    "                try:\n",
    "                    emb += [W2V[t2s_converter.convert(seg_t)].tolist()]\n",
    "                except: # oov exception\n",
    "#                     print(f\"{i} {sentence_seg} '{seg_t}'\")\n",
    "                    emb += [[0]*100]\n",
    "                    oov += [seg_t]\n",
    "        \n",
    "        data_dict = {\"emb\": emb, \"label\":label, \"src_texts\": t, \"src_label\": src_labels[label]}\n",
    "        data += [data_dict]\n",
    "    \n",
    "    print(f\"oov: {len(oov)} {len(set(oov))}, {set(oov)}\")\n",
    "    \n",
    "    return data, num_labels # List[Dict[List]] = List[tokenizer output]"
   ]
  },
  {
   "cell_type": "code",
   "execution_count": 141,
   "metadata": {},
   "outputs": [
    {
     "name": "stdout",
     "output_type": "stream",
     "text": [
      "oov: 109 68, {'企網銀', '增行員', '財管', 'm ', '員工帳', '信卡版', ' 銷案', '法金器', '\\\\he', '登打', '外存掉', 'record not existed', '公用槽', '使用不了', '轉帳掉', '益常', '參考到', '沒收到', '影像檔', '信卡', '委辦單', '主管卡', '通買', '不見了', '20301', '幣別', '工具列', 'j槽', 'oant', '曹珊東西', '益價', \" 'tabctl\", '影像出來', '依存檔', \"' \", '存款掉', '若是', '能不能', '維護檔', 'ims-3099', '收件匣', '簽名檔', '跑出', 'not existed', '申請不了', '常件', '受款人', \" '\", '銷戶', '漏信', ' id', '益架', 'emai', '傳錯', '米馬', '理專', '需求單', '銀銷戶', '企網', \"ocx'\", '正常戶', 'record not exist', '行網銀', ' j', '單銷案', '結購掉', '步道信', '送寄'}\n"
     ]
    }
   ],
   "source": [
    "data_train, num_labels = get_model_data(f\"data/{DATASET}/train.tsv\")"
   ]
  },
  {
   "cell_type": "code",
   "execution_count": null,
   "metadata": {},
   "outputs": [],
   "source": []
  },
  {
   "cell_type": "code",
   "execution_count": null,
   "metadata": {},
   "outputs": [],
   "source": []
  },
  {
   "cell_type": "markdown",
   "metadata": {},
   "source": [
    "## Model"
   ]
  },
  {
   "cell_type": "code",
   "execution_count": null,
   "metadata": {},
   "outputs": [],
   "source": [
    "# source from: https://github.com/leftthomas/CapsNet/blob/master/capsule.py\n",
    "class CapsuleLayer(nn.Module):\n",
    "    def __init__(self, num_capsules, num_route_nodes, in_channels, out_channels, kernel_size=None, stride=None,\n",
    "                 num_iterations=NUM_ROUTING_ITERATIONS):\n",
    "        super(CapsuleLayer, self).__init__()\n",
    "\n",
    "        self.num_route_nodes = num_route_nodes\n",
    "        self.num_iterations = num_iterations\n",
    "\n",
    "        self.num_capsules = num_capsules\n",
    "\n",
    "        if num_route_nodes != -1: # digit_capsules\n",
    "            self.route_weights = nn.Parameter(torch.randn(num_capsules, num_route_nodes, in_channels, out_channels))\n",
    "#         else: # primary_capsules\n",
    "#             self.capsules = nn.ModuleList(\n",
    "#                 [nn.Conv2d(in_channels, out_channels, kernel_size=kernel_size, stride=stride, padding=0) for _ in\n",
    "#                  range(num_capsules)])\n",
    "\n",
    "    @staticmethod\n",
    "    def squash(tensor, dim=-1):\n",
    "        squared_norm = (tensor ** 2).sum(dim=dim, keepdim=True)\n",
    "        scale = squared_norm / (1 + squared_norm)\n",
    "        return scale * tensor / torch.sqrt(squared_norm)\n",
    "\n",
    "    def forward(self, x):\n",
    "        if self.num_route_nodes != -1: # digit_capsules\n",
    "            priors = x[None, :, :, None, :] @ self.route_weights[:, None, :, :, :] # random initial hat u_j|i\n",
    "            logits = Variable(torch.zeros(*priors.size())) # b_ij = 0\n",
    "            if torch.cuda.is_available():\n",
    "                logits = logits.cuda()\n",
    "            for i in range(self.num_iterations):\n",
    "                probs = F.softmax(logits, dim=2) # c_ij = softmax(b_ij)\n",
    "                outputs = self.squash((probs * priors).sum(dim=2, keepdim=True)) # squash(sum c_ij * hat u_j|i)\n",
    "\n",
    "                if i != self.num_iterations - 1:\n",
    "                    delta_logits = (priors * outputs).sum(dim=-1, keepdim=True) # hat u_j|i * v_j\n",
    "                    logits = logits + delta_logits #b_ij = b_ij + hat u_j|i * v_j\n",
    "#         else: # primary_capsules\n",
    "#             outputs = [capsule(x).view(x.size(0), -1, 1) for capsule in self.capsules]\n",
    "#             outputs = torch.cat(outputs, dim=-1)\n",
    "#             outputs = self.squash(outputs)\n",
    "\n",
    "        return outputs"
   ]
  },
  {
   "cell_type": "code",
   "execution_count": null,
   "metadata": {},
   "outputs": [],
   "source": [
    "class intent_classifier(nn.Module):\n",
    "    def __init__(self, seq_lenght):\n",
    "        super().__init__()\n",
    "        self.transformer = nn.TransformerEncoderLayer(d_model=100, nhead=12, dim_feedforward=300)\n",
    "        self.cnn = nn.Conv1d(in_channels=100, out_channels=15, kernel_size=seq_lenght-100+1)\n",
    "        \n",
    "    def forward():\n",
    "        return"
   ]
  },
  {
   "cell_type": "markdown",
   "metadata": {},
   "source": [
    "---"
   ]
  },
  {
   "cell_type": "code",
   "execution_count": 144,
   "metadata": {},
   "outputs": [
    {
     "data": {
      "text/plain": [
       "torch.Size([10, 32, 512])"
      ]
     },
     "execution_count": 144,
     "metadata": {},
     "output_type": "execute_result"
    }
   ],
   "source": [
    "encoder_layer = nn.TransformerEncoderLayer(d_model=512, nhead=8, dim_feedforward=128)\n",
    "src = torch.rand(10, 32, 512)\n",
    "encoder_layer(src).shape"
   ]
  },
  {
   "cell_type": "code",
   "execution_count": null,
   "metadata": {},
   "outputs": [],
   "source": [
    "\n",
    "s = [\"櫃員系統無法登入\", \"密碼錯誤問題\"]\n",
    "\n",
    "seg_list = jieba.lcut(s, cut_all=False)\n",
    "print(\"Default Mode: \" + \"/ \".join(seg_list))  # 精确模式\n",
    "\n",
    "seg_list = jieba.lcut(s)  # 默认是精确模式\n",
    "print(\", \".join(seg_list))\n",
    "\n"
   ]
  },
  {
   "cell_type": "code",
   "execution_count": 63,
   "metadata": {},
   "outputs": [
    {
     "name": "stdout",
     "output_type": "stream",
     "text": [
      "WARNING: Entity <bound method LSTMCell.call of <tensorflow.python.ops.rnn_cell_impl.LSTMCell object at 0x7f39ac97d128>> could not be transformed and will be executed as-is. Please report this to the AutgoGraph team. When filing the bug, set the verbosity to 10 (on Linux, `export AUTOGRAPH_VERBOSITY=10`) and attach the full output. Cause: converting <bound method LSTMCell.call of <tensorflow.python.ops.rnn_cell_impl.LSTMCell object at 0x7f39ac97d128>>: AttributeError: module 'gast' has no attribute 'Num'\n",
      "WARNING: Entity <bound method LSTMCell.call of <tensorflow.python.ops.rnn_cell_impl.LSTMCell object at 0x7f39ac91a2b0>> could not be transformed and will be executed as-is. Please report this to the AutgoGraph team. When filing the bug, set the verbosity to 10 (on Linux, `export AUTOGRAPH_VERBOSITY=10`) and attach the full output. Cause: converting <bound method LSTMCell.call of <tensorflow.python.ops.rnn_cell_impl.LSTMCell object at 0x7f39ac91a2b0>>: AttributeError: module 'gast' has no attribute 'Num'\n",
      "WARNING: Entity <bound method LSTMCell.call of <tensorflow.python.ops.rnn_cell_impl.LSTMCell object at 0x7f39a306de10>> could not be transformed and will be executed as-is. Please report this to the AutgoGraph team. When filing the bug, set the verbosity to 10 (on Linux, `export AUTOGRAPH_VERBOSITY=10`) and attach the full output. Cause: converting <bound method LSTMCell.call of <tensorflow.python.ops.rnn_cell_impl.LSTMCell object at 0x7f39a306de10>>: AttributeError: module 'gast' has no attribute 'Num'\n",
      "WARNING: Entity <bound method LSTMCell.call of <tensorflow.python.ops.rnn_cell_impl.LSTMCell object at 0x7f39a347f0b8>> could not be transformed and will be executed as-is. Please report this to the AutgoGraph team. When filing the bug, set the verbosity to 10 (on Linux, `export AUTOGRAPH_VERBOSITY=10`) and attach the full output. Cause: converting <bound method LSTMCell.call of <tensorflow.python.ops.rnn_cell_impl.LSTMCell object at 0x7f39a347f0b8>>: AttributeError: module 'gast' has no attribute 'Num'\n",
      "WARNING: Entity <bound method Dense.call of <tensorflow.python.layers.core.Dense object at 0x7f39a7de1160>> could not be transformed and will be executed as-is. Please report this to the AutgoGraph team. When filing the bug, set the verbosity to 10 (on Linux, `export AUTOGRAPH_VERBOSITY=10`) and attach the full output. Cause: converting <bound method Dense.call of <tensorflow.python.layers.core.Dense object at 0x7f39a7de1160>>: AssertionError: Bad argument number for Name: 3, expecting 4\n"
     ]
    },
    {
     "data": {
      "text/plain": [
       "[['櫃員', '系統', '無法', '登入'], ['密碼', '錯誤', '問題']]"
      ]
     },
     "execution_count": 63,
     "metadata": {},
     "output_type": "execute_result"
    }
   ],
   "source": [
    "from ckiptagger import WS\n",
    "ws = WS(\"../ckiptagger/data\")\n",
    "ws(s)"
   ]
  },
  {
   "cell_type": "code",
   "execution_count": null,
   "metadata": {},
   "outputs": [],
   "source": [
    "ckiptag = tagger.CkipTaggerWordSegmenter()\n",
    "ckiptag(s)"
   ]
  },
  {
   "cell_type": "code",
   "execution_count": 156,
   "metadata": {},
   "outputs": [
    {
     "data": {
      "text/plain": [
       "torch.Size([3, 1, 1, 2])"
      ]
     },
     "execution_count": 156,
     "metadata": {},
     "output_type": "execute_result"
    }
   ],
   "source": [
    "import numpy as np\n",
    "a = torch.tensor([[1,2,3], [4,5,6], [7,8,9]])\n",
    "a[:,None,None,:2].shape"
   ]
  },
  {
   "cell_type": "code",
   "execution_count": 169,
   "metadata": {},
   "outputs": [],
   "source": [
    "rnn = nn.LSTM(10, 20, 1)\n",
    "input = torch.randn(5, 3, 10)\n",
    "h0 = torch.randn(1, 3, 20)\n",
    "c0 = torch.randn(1, 3, 20)\n",
    "output, (hn, cn) = rnn(input, (h0, c0))"
   ]
  },
  {
   "cell_type": "code",
   "execution_count": 173,
   "metadata": {},
   "outputs": [
    {
     "data": {
      "text/plain": [
       "tensor([[[-0.3983, -0.2468,  0.1459, -0.0064, -0.1925,  0.0117,  0.1175,\n",
       "          -0.1226, -0.2181, -0.1073, -0.0207, -0.0306, -0.0581,  0.0362,\n",
       "           0.2209,  0.6800,  0.1205, -0.0251,  0.5145,  0.2882],\n",
       "         [-0.3422,  0.1210,  0.2169,  0.5492,  0.3653, -0.0845,  0.2652,\n",
       "           0.2822, -0.0933, -0.5243,  0.4137,  0.2197, -0.1433, -0.1577,\n",
       "           0.0623, -0.1756,  0.0949,  0.0527, -0.2568, -0.3275],\n",
       "         [-0.3034,  0.0158, -0.3174, -0.3105, -0.2804,  0.5755,  0.0104,\n",
       "           0.0078, -0.1082, -0.0507, -0.0117, -0.5644, -0.1583, -0.3996,\n",
       "          -0.1249, -0.2443,  0.0202,  0.2009, -0.0942,  0.0634]],\n",
       "\n",
       "        [[-0.3765,  0.0249,  0.1254,  0.0148, -0.1267, -0.2198,  0.0719,\n",
       "           0.0418, -0.2440, -0.1140,  0.0334,  0.0577,  0.0476, -0.1700,\n",
       "           0.2587,  0.1882,  0.0708,  0.1081,  0.3236,  0.0045],\n",
       "         [-0.0638,  0.1591,  0.1337,  0.1481,  0.2341, -0.1607, -0.0007,\n",
       "           0.1286, -0.2169, -0.3931,  0.3697,  0.2022, -0.0589, -0.2118,\n",
       "          -0.0109, -0.2066,  0.0466,  0.1268,  0.0688, -0.2198],\n",
       "         [-0.0951,  0.0257, -0.2281, -0.2074, -0.0858,  0.2865, -0.0419,\n",
       "          -0.0722, -0.1422, -0.1631,  0.0849, -0.3845,  0.0536, -0.1203,\n",
       "          -0.0342, -0.1317,  0.0635,  0.0633,  0.0156,  0.0020]],\n",
       "\n",
       "        [[-0.3208,  0.2091, -0.0259,  0.0622, -0.0490, -0.1157,  0.0568,\n",
       "           0.0406, -0.1491, -0.2379,  0.1051,  0.0914,  0.0659, -0.1235,\n",
       "           0.2135,  0.0768,  0.1270,  0.1722,  0.3384, -0.0119],\n",
       "         [-0.0797,  0.2377,  0.1086,  0.0056,  0.2599, -0.1148,  0.1186,\n",
       "           0.0573, -0.0454, -0.2772,  0.3450,  0.1773, -0.1229, -0.1570,\n",
       "           0.0783, -0.0752, -0.0138,  0.2286,  0.0186,  0.0939],\n",
       "         [-0.1257,  0.1319, -0.1165, -0.1485, -0.0074,  0.0336,  0.0747,\n",
       "          -0.0540, -0.0042, -0.2002,  0.1939, -0.0848, -0.0669, -0.0442,\n",
       "          -0.0695, -0.0537,  0.0689,  0.1046, -0.0768,  0.0724]],\n",
       "\n",
       "        [[-0.2583,  0.0264,  0.0673,  0.0748, -0.0469, -0.2393, -0.0019,\n",
       "          -0.0119, -0.1014, -0.1177,  0.1595,  0.1476,  0.1012, -0.1797,\n",
       "          -0.0339,  0.0196,  0.1598,  0.1788,  0.0751, -0.1578],\n",
       "         [-0.1495,  0.2048,  0.0758, -0.1111,  0.1880, -0.1164,  0.0071,\n",
       "           0.0119, -0.0384, -0.3002,  0.2090,  0.1370, -0.1670, -0.0160,\n",
       "          -0.0953, -0.0449,  0.0897,  0.1652,  0.1223,  0.1666],\n",
       "         [-0.2981,  0.1203,  0.1204, -0.1824,  0.0483, -0.1712, -0.0174,\n",
       "          -0.0430,  0.0012, -0.3466,  0.0959, -0.1630,  0.0593,  0.0266,\n",
       "          -0.0471, -0.2931,  0.0746,  0.1533,  0.0382,  0.0237]],\n",
       "\n",
       "        [[-0.1757, -0.0594,  0.1062, -0.0475, -0.2297, -0.2909, -0.2486,\n",
       "          -0.1529, -0.0163, -0.1391, -0.0120,  0.2292,  0.0971, -0.1070,\n",
       "          -0.0858, -0.0935,  0.2488,  0.2365,  0.1653,  0.0551],\n",
       "         [-0.0138, -0.0788,  0.0602, -0.1534,  0.0821, -0.1310, -0.0384,\n",
       "          -0.0783, -0.0974, -0.1324,  0.1774,  0.0293, -0.0413, -0.0940,\n",
       "          -0.0920,  0.1346,  0.1244,  0.0691,  0.0507,  0.0355],\n",
       "         [-0.1543,  0.1188,  0.1494, -0.2982,  0.0724, -0.1987, -0.1333,\n",
       "          -0.0844, -0.0948, -0.3483, -0.0283, -0.0888,  0.1346, -0.0131,\n",
       "          -0.0894, -0.2121,  0.1568,  0.0965,  0.1056,  0.0166]]],\n",
       "       grad_fn=<StackBackward>)"
      ]
     },
     "execution_count": 173,
     "metadata": {},
     "output_type": "execute_result"
    }
   ],
   "source": [
    "output"
   ]
  },
  {
   "cell_type": "code",
   "execution_count": 174,
   "metadata": {},
   "outputs": [
    {
     "data": {
      "text/plain": [
       "tensor([[[-0.1757, -0.0594,  0.1062, -0.0475, -0.2297, -0.2909, -0.2486,\n",
       "          -0.1529, -0.0163, -0.1391, -0.0120,  0.2292,  0.0971, -0.1070,\n",
       "          -0.0858, -0.0935,  0.2488,  0.2365,  0.1653,  0.0551],\n",
       "         [-0.0138, -0.0788,  0.0602, -0.1534,  0.0821, -0.1310, -0.0384,\n",
       "          -0.0783, -0.0974, -0.1324,  0.1774,  0.0293, -0.0413, -0.0940,\n",
       "          -0.0920,  0.1346,  0.1244,  0.0691,  0.0507,  0.0355],\n",
       "         [-0.1543,  0.1188,  0.1494, -0.2982,  0.0724, -0.1987, -0.1333,\n",
       "          -0.0844, -0.0948, -0.3483, -0.0283, -0.0888,  0.1346, -0.0131,\n",
       "          -0.0894, -0.2121,  0.1568,  0.0965,  0.1056,  0.0166]]],\n",
       "       grad_fn=<StackBackward>)"
      ]
     },
     "execution_count": 174,
     "metadata": {},
     "output_type": "execute_result"
    }
   ],
   "source": [
    "hn"
   ]
  },
  {
   "cell_type": "code",
   "execution_count": 172,
   "metadata": {},
   "outputs": [
    {
     "data": {
      "text/plain": [
       "tensor([[[-0.3128, -0.1520,  0.1923, -0.0974, -0.5530, -0.5327, -0.4046,\n",
       "          -0.3796, -0.0352, -0.1957, -0.0307,  0.3517,  0.2614, -0.1639,\n",
       "          -0.1920, -0.1671,  0.5510,  0.4918,  0.4412,  0.0942],\n",
       "         [-0.0237, -0.1502,  0.1504, -0.4009,  0.1535, -0.4096, -0.0820,\n",
       "          -0.1255, -0.2669, -0.2709,  0.2836,  0.0692, -0.0864, -0.1933,\n",
       "          -0.2055,  0.2187,  0.2121,  0.1343,  0.0995,  0.0696],\n",
       "         [-0.2832,  0.2618,  0.2944, -0.7182,  0.1558, -0.3669, -0.2299,\n",
       "          -0.1659, -0.1623, -0.6655, -0.0472, -0.1362,  0.2670, -0.0304,\n",
       "          -0.2808, -0.4160,  0.2825,  0.1609,  0.2771,  0.0263]]],\n",
       "       grad_fn=<StackBackward>)"
      ]
     },
     "execution_count": 172,
     "metadata": {},
     "output_type": "execute_result"
    }
   ],
   "source": [
    "cn"
   ]
  },
  {
   "cell_type": "code",
   "execution_count": null,
   "metadata": {},
   "outputs": [],
   "source": []
  }
 ],
 "metadata": {
  "kernelspec": {
   "display_name": "Python 3",
   "language": "python",
   "name": "python3"
  },
  "language_info": {
   "codemirror_mode": {
    "name": "ipython",
    "version": 3
   },
   "file_extension": ".py",
   "mimetype": "text/x-python",
   "name": "python",
   "nbconvert_exporter": "python",
   "pygments_lexer": "ipython3",
   "version": "3.6.10"
  }
 },
 "nbformat": 4,
 "nbformat_minor": 4
}

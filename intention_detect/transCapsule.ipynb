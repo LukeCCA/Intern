{
 "cells": [
  {
   "cell_type": "code",
   "execution_count": 1,
   "metadata": {},
   "outputs": [],
   "source": [
    "from gensim.models import KeyedVectors\n",
    "import jieba\n",
    "import torch\n",
    "import torch.nn as nn\n",
    "import torch.nn.functional as F\n",
    "from torch.autograd import Variable\n",
    "from tqdm import tqdm\n",
    "import numpy as np\n",
    "import pandas as pd\n",
    "import opencc\n",
    "from ckiptagger import WS\n",
    "from datetime import datetime,timezone,timedelta\n",
    "from torch.utils.data import Dataset, DataLoader\n",
    "from torch.utils.tensorboard import SummaryWriter\n",
    "import math"
   ]
  },
  {
   "cell_type": "markdown",
   "metadata": {},
   "source": [
    "## Hyper Parameter"
   ]
  },
  {
   "cell_type": "code",
   "execution_count": 16,
   "metadata": {},
   "outputs": [
    {
     "name": "stdout",
     "output_type": "stream",
     "text": [
      "device: cuda:0\n"
     ]
    }
   ],
   "source": [
    "DATASET = \"ATIS\"\n",
    "NUM_ROUTING_ITERATIONS = 4\n",
    "KERNEL_SIZE = 2\n",
    "HIDDEN_SIZE = 300\n",
    "TRAIN_BATCH_SIZE = 8\n",
    "TEST_BATCH_SIZE = 64\n",
    "MODEL_PATH = \"model/transCapsule\" # svae/load model name/path\n",
    "EPOCHS = 20\n",
    "MAX_LENGTH = 64\n",
    "device = torch.device(\"cuda:0\" if torch.cuda.is_available() else \"cpu\")\n",
    "print(\"device:\", device)"
   ]
  },
  {
   "cell_type": "markdown",
   "metadata": {},
   "source": [
    "## Utility Function"
   ]
  },
  {
   "cell_type": "code",
   "execution_count": 3,
   "metadata": {},
   "outputs": [],
   "source": [
    "def timestamp(msg=\"\"):\n",
    "    dt1 = datetime.utcnow().replace(tzinfo=timezone.utc)\n",
    "    dt2 = dt1.astimezone(timezone(timedelta(hours=8))) # 轉換時區 -> 東八區\n",
    "    print(str(dt2)[:-13] + '\\t' + msg)"
   ]
  },
  {
   "cell_type": "code",
   "execution_count": 4,
   "metadata": {},
   "outputs": [],
   "source": [
    "# high-level 顯示此模型裡的 modules\n",
    "def model_info(model):\n",
    "    total_params = sum(p.numel() for p in model.parameters())\n",
    "    print(f\"total params: {total_params}\")\n",
    "#     print(model.device)\n",
    "    print(\"\"\"\n",
    "    name            module\n",
    "    ----------------------\"\"\")\n",
    "    for name, module in model.named_children():\n",
    "        if name == \"bert\" or name==\"0\":\n",
    "            for n, _ in module.named_children():\n",
    "                print(f\"{name}:{n}\")\n",
    "    #             print(_)\n",
    "        else:\n",
    "            print(\"{:15} {}\".format(name, module))"
   ]
  },
  {
   "cell_type": "markdown",
   "metadata": {},
   "source": [
    "## Data Preprocess"
   ]
  },
  {
   "cell_type": "raw",
   "metadata": {},
   "source": [
    "timestamp()\n",
    "W2V = KeyedVectors.load_word2vec_format(\"../zhwiki_20180420_300d.txt.bz2\")\n",
    "timestamp()\n",
    "W2V.save('w2v_300d.kv')\n",
    "timestamp()"
   ]
  },
  {
   "cell_type": "code",
   "execution_count": 5,
   "metadata": {},
   "outputs": [
    {
     "name": "stderr",
     "output_type": "stream",
     "text": [
      "/opt/conda/lib/python3.6/site-packages/smart_open/smart_open_lib.py:253: UserWarning: This function is deprecated, use smart_open.open instead. See the migration notes for details: https://github.com/RaRe-Technologies/smart_open/blob/master/README.rst#migrating-to-the-new-open-function\n",
      "  'See the migration notes for details: %s' % _MIGRATION_NOTES_URL\n"
     ]
    }
   ],
   "source": [
    "# W2V = KeyedVectors.load('w2v_100d.kv')\n",
    "W2V = KeyedVectors.load('glove_en_300d.kv')"
   ]
  },
  {
   "cell_type": "code",
   "execution_count": 6,
   "metadata": {},
   "outputs": [],
   "source": [
    "class ckipDict(dict):\n",
    "    def __init__(self, vocab, vec):\n",
    "        self.vocab = vocab\n",
    "        self.vec = vec\n",
    "        \n",
    "    def __getitem__(self, key):\n",
    "        if key in self.vocab:\n",
    "            idx = self.vocab.index(key)\n",
    "            return self.vec[idx]"
   ]
  },
  {
   "cell_type": "code",
   "execution_count": 7,
   "metadata": {},
   "outputs": [],
   "source": [
    "voc = np.load(\"../ckiptagger/data/embedding_word/token_list.npy\").tolist()\n",
    "vec = np.load(\"../ckiptagger/data/embedding_word/vector_list.npy\")\n",
    "W2V = ckipDict(voc, vec)"
   ]
  },
  {
   "cell_type": "raw",
   "metadata": {},
   "source": [
    "ws = WS(\"../ckiptagger/data\")\n",
    "def get_model_data(file_path, hidden_size=HIDDEN_SIZE):\n",
    "    t2s_converter = opencc.OpenCC(\"t2s.json\")\n",
    "    df = pd.read_csv(file_path, sep='\\t')\n",
    "    src_labels = sorted(set(df.labels.tolist()))\n",
    "    num_labels = len(src_labels)\n",
    "    df[\"labels\"] = [src_labels.index(l) for l in df.labels.tolist()]\n",
    "    data = []\n",
    "    texts = df[\"texts\"]\n",
    "\n",
    "    labels = df[\"labels\"]\n",
    "    oov = []\n",
    "    for i, t in (enumerate(texts)):\n",
    "        seg_texts = []\n",
    "        label = labels[i]\n",
    "        sentence_seg = [seg_t for seg_t in ws([t])[0] if seg_t!=' '] # ckip segment\n",
    "        \n",
    "        data_dict = dict()\n",
    "        emb = []\n",
    "\n",
    "        for seg_t in sentence_seg:\n",
    "            if seg_t in W2V.vocab:\n",
    "                emb += [W2V[seg_t].tolist()]\n",
    "                seg_texts += [seg_t]\n",
    "                \n",
    "            # if zh_tw not in w2v vocab try use zh_cn\n",
    "            elif t2s_converter.convert(seg_t) in W2V.vocab:\n",
    "                emb += [W2V[t2s_converter.convert(seg_t)].tolist()]\n",
    "                seg_texts += [seg_t]\n",
    "                \n",
    "            # also not in w2v vocab, try jeiba \n",
    "            else:\n",
    "                for sseg_t in jieba.cut(seg_t):\n",
    "                    if sseg_t == ' ':\n",
    "                        continue\n",
    "                    seg_texts += [sseg_t]\n",
    "\n",
    "                    if sseg_t in W2V.vocab:\n",
    "                        emb += [W2V[sseg_t]]\n",
    "\n",
    "                    else: # oov: mean vector of each character\n",
    "#                         print(f\"{sentence_seg} {seg_t} {sseg_t}\")\n",
    "                        temp = []\n",
    "                        for char in sseg_t:\n",
    "                            if char in W2V.vocab:\n",
    "                                temp += [W2V[char]]\n",
    "                        if len(temp) != 0:\n",
    "                            emb += [np.stack(temp).mean(axis=0).tolist()]\n",
    "                        oov += [sseg_t]\n",
    "        \n",
    "#         if len(emb) < MAX_LENGTH: # padding\n",
    "#             emb += [[0]*hidden_size] * ((MAX_LENGTH)-len(emb))\n",
    "        \n",
    "        data_dict = {\"emb\": emb, \"label\":label, \n",
    "                     \"src_texts\": t, \"src_label\": src_labels[label],\n",
    "                     \"seg_texts\": seg_texts}\n",
    "        data += [data_dict]\n",
    "    \n",
    "    print(f\"oov: {len(oov)} {len(set(oov))}, {sorted(set(oov))}\")\n",
    "    \n",
    "    return data, num_labels # List[Dict[List]] = List[tokenizer output]"
   ]
  },
  {
   "cell_type": "code",
   "execution_count": 6,
   "metadata": {},
   "outputs": [],
   "source": [
    "# en\n",
    "def get_model_data(file_path, hidden_size=HIDDEN_SIZE):\n",
    "    df = pd.read_csv(file_path, sep='\\t')\n",
    "    src_labels = sorted(set(df.labels.tolist()))\n",
    "    num_labels = len(src_labels)\n",
    "    df[\"labels\"] = [src_labels.index(l) for l in df.labels.tolist()]\n",
    "    data = []\n",
    "    texts = df[\"texts\"]\n",
    "    labels = df[\"labels\"]\n",
    "    oov = []\n",
    "    for i, text in (enumerate(texts)):\n",
    "        seg_texts = []\n",
    "        label = labels[i]\n",
    "        sentence_seg = text.split()\n",
    "        \n",
    "        emb = []\n",
    "\n",
    "        for seg_t in sentence_seg:\n",
    "            if seg_t in W2V.vocab:\n",
    "                emb += [W2V[seg_t]]\n",
    "            else:\n",
    "                oov += [seg_t]\n",
    "\n",
    "        data_dict = {\"emb\": emb, \"label\":label, \n",
    "                     \"src_texts\": text, \"src_label\": src_labels[label],\n",
    "                     \"seg_texts\": seg_texts}\n",
    "        data += [data_dict]\n",
    "    \n",
    "    print(f\"oov: {len(oov)} {len(set(oov))}, {sorted(set(oov))}\")\n",
    "    \n",
    "    return data, num_labels # List[Dict[List]] = List[tokenizer output]"
   ]
  },
  {
   "cell_type": "code",
   "execution_count": 7,
   "metadata": {},
   "outputs": [
    {
     "name": "stdout",
     "output_type": "stream",
     "text": [
      "oov: 331 31, ['3357', '3724', '497766', \"american's\", 'ap57', 'ap68', 'ap80', \"atlanta's\", 'be1', 'd9s', \"delta's\", 'dh8', \"don't\", \"friday's\", \"i'd\", \"i'll\", \"i'm\", \"i've\", \"it's\", 'j31', 'l1011', \"let's\", 'nationair', \"one's\", \"sunday's\", \"that's\", \"we're\", \"what're\", \"what's\", \"york's\", 'yyz']\n",
      "oov: 55 10, ['137338', 'ap58', 'ap80', 'be1', 'd9s', \"doesn't\", \"i'd\", \"i'm\", 'nationair', \"what's\"]\n"
     ]
    }
   ],
   "source": [
    "data_train, num_labels = get_model_data(f\"data/{DATASET}/train.tsv\")\n",
    "data_test, _ = get_model_data(f\"data/{DATASET}/test.tsv\")"
   ]
  },
  {
   "cell_type": "code",
   "execution_count": 8,
   "metadata": {},
   "outputs": [],
   "source": [
    "torch.save(data_train, f\"bert_data/{DATASET}/transCapsule_train.pt\")\n",
    "torch.save(data_test, f\"bert_data/{DATASET}/transCapsule_test.pt\")\n",
    "\n",
    "del ws"
   ]
  },
  {
   "cell_type": "code",
   "execution_count": 5,
   "metadata": {},
   "outputs": [],
   "source": [
    "num_labels = 41 if DATASET == \"base\" else 31\n",
    "data_train = torch.load(f\"bert_data/{DATASET}/transCapsule_train.pt\")\n",
    "data_test = torch.load(f\"bert_data/{DATASET}/transCapsule_test.pt\")"
   ]
  },
  {
   "cell_type": "code",
   "execution_count": 8,
   "metadata": {},
   "outputs": [
    {
     "name": "stdout",
     "output_type": "stream",
     "text": [
      "46 1 11.23373888628919\n"
     ]
    }
   ],
   "source": [
    "ls = []\n",
    "for item in data_train:\n",
    "    ls += [np.array(item[\"emb\"]).shape[0]]\n",
    "ls = np.array(ls)\n",
    "print(ls.max(), ls.min(), ls.mean())"
   ]
  },
  {
   "cell_type": "markdown",
   "metadata": {},
   "source": [
    "## Dataset"
   ]
  },
  {
   "cell_type": "code",
   "execution_count": 9,
   "metadata": {},
   "outputs": [],
   "source": [
    "class intent_Dataset(Dataset):\n",
    "    def __init__(self, mode, list_of_bert):\n",
    "        assert mode in [\"train\", \"test\", \"dev\"]\n",
    "        self.mode = mode\n",
    "        self.data = list_of_bert\n",
    "    def __getitem__(self, idx):\n",
    "        emb = torch.tensor(self.data[idx][\"emb\"])\n",
    "        label = torch.tensor(self.data[idx][\"label\"])\n",
    "        return emb, label\n",
    "\n",
    "    def __len__(self):\n",
    "        return len(self.data)"
   ]
  },
  {
   "cell_type": "code",
   "execution_count": 10,
   "metadata": {},
   "outputs": [],
   "source": [
    "def minibatch(sample):\n",
    "    sample.sort(key=lambda x: x[0].shape[0], reverse=True)\n",
    "    embs, labels = zip(*sample)\n",
    "    max_length = MAX_LENGTH\n",
    "    masks = []\n",
    "    pad_embs = []\n",
    "    \n",
    "    \n",
    "    for e in embs:\n",
    "        # padding\n",
    "        pad_len = max_length - e.shape[0]\n",
    "        padding = torch.zeros(pad_len, HIDDEN_SIZE)\n",
    "        pad_embs += [torch.cat((e, padding)).tolist()]\n",
    "        \n",
    "        # attn masling\n",
    "        masking = [False] * e.shape[0] + [True] * pad_len\n",
    "        masks += [masking]\n",
    "        \n",
    "    pad_embs = torch.tensor(pad_embs)\n",
    "    masks = torch.tensor(masks)\n",
    "    labels = torch.tensor(labels)\n",
    "    return pad_embs, masks, labels"
   ]
  },
  {
   "cell_type": "markdown",
   "metadata": {},
   "source": [
    "## Model"
   ]
  },
  {
   "cell_type": "code",
   "execution_count": 11,
   "metadata": {},
   "outputs": [],
   "source": [
    "# sorce form: https://pytorch.org/tutorials/beginner/transformer_tutorial.html\n",
    "class PositionalEncoding(nn.Module):\n",
    "\n",
    "    def __init__(self, d_model, dropout=0.1, max_len=MAX_LENGTH):\n",
    "        super(PositionalEncoding, self).__init__()\n",
    "        self.dropout = nn.Dropout(p=dropout)\n",
    "\n",
    "        pe = torch.zeros(max_len, d_model)\n",
    "        position = torch.arange(0, max_len, dtype=torch.float).unsqueeze(1)\n",
    "        div_term = torch.exp(torch.arange(0, d_model, 2).float() * (-math.log(10000.0) / d_model))\n",
    "        pe[:, 0::2] = torch.sin(position * div_term)\n",
    "        pe[:, 1::2] = torch.cos(position * div_term)\n",
    "        pe = pe.unsqueeze(0).transpose(0, 1)\n",
    "        self.register_buffer('pe', pe)\n",
    "\n",
    "    def forward(self, x):\n",
    "        x = x + self.pe[:x.size(0), :]\n",
    "        return self.dropout(x)"
   ]
  },
  {
   "cell_type": "code",
   "execution_count": 12,
   "metadata": {},
   "outputs": [],
   "source": [
    "# source from: https://github.com/leftthomas/CapsNet/blob/master/capsule.py\n",
    "class CapsuleLayer(nn.Module):\n",
    "    def __init__(self, num_capsules, num_route_nodes, in_channels, out_channels, kernel_size=None, stride=None,\n",
    "                 num_iterations=NUM_ROUTING_ITERATIONS):\n",
    "        super(CapsuleLayer, self).__init__()\n",
    "\n",
    "        self.num_route_nodes = num_route_nodes\n",
    "        self.num_iterations = num_iterations\n",
    "\n",
    "        self.num_capsules = num_capsules\n",
    "\n",
    "        if num_route_nodes != -1: # digit_capsules\n",
    "            self.route_weights = nn.Parameter(torch.randn(num_capsules, num_route_nodes, in_channels, out_channels))\n",
    "        else: # primary_capsules\n",
    "            self.capsules = nn.ModuleList(\n",
    "                [nn.Conv1d(in_channels, out_channels, kernel_size=kernel_size, stride=stride, padding=0) for _ in\n",
    "                 range(num_capsules)])\n",
    "\n",
    "    @staticmethod\n",
    "    def squash(tensor, dim=-1):\n",
    "        squared_norm = (tensor ** 2).sum(dim=dim, keepdim=True)\n",
    "        scale = squared_norm / (1 + squared_norm)\n",
    "        return scale * tensor / torch.sqrt(squared_norm)\n",
    "\n",
    "    def forward(self, x):\n",
    "        if self.num_route_nodes != -1: # digit_capsules\n",
    "            priors = x[None, :, :, None, :] @ self.route_weights[:, None, :, :, :] # random initial hat u_j|i\n",
    "            logits = Variable(torch.zeros(*priors.size())) # b_ij = 0\n",
    "            if torch.cuda.is_available():\n",
    "                logits = logits.cuda()\n",
    "            for i in range(self.num_iterations):\n",
    "                probs = F.softmax(logits, dim=2) # c_ij = softmax(b_ij)\n",
    "                outputs = self.squash((probs * priors).sum(dim=2, keepdim=True)) # squash(sum c_ij * hat u_j|i)\n",
    "\n",
    "                if i != self.num_iterations - 1:\n",
    "                    delta_logits = (priors * outputs).sum(dim=-1, keepdim=True) # hat u_j|i * v_j\n",
    "                    logits = logits + delta_logits #b_ij = b_ij + hat u_j|i * v_j\n",
    "        else: # primary_capsules\n",
    "            outputs = [capsule(x).view(x.size(0), -1, 1) for capsule in self.capsules]\n",
    "            outputs = torch.cat(outputs, dim=-1)\n",
    "            outputs = self.squash(outputs)\n",
    "\n",
    "        return outputs"
   ]
  },
  {
   "cell_type": "code",
   "execution_count": 24,
   "metadata": {},
   "outputs": [],
   "source": [
    "class intent_classifier(nn.Module):\n",
    "    def __init__(self, kernel_size, num_labels, stride=1, hidden_size=HIDDEN_SIZE):\n",
    "        super().__init__()\n",
    "        self.pos_encoder = PositionalEncoding(d_model=hidden_size)\n",
    "        encoder_layer = nn.TransformerEncoderLayer(d_model=hidden_size, nhead=4, dim_feedforward=300)\n",
    "        self.transformer = nn.TransformerEncoder(encoder_layer, 1)\n",
    "        self.primary_capsules = CapsuleLayer(num_capsules=100, num_route_nodes=-1,\n",
    "                                in_channels=hidden_size, out_channels=1,\n",
    "                                kernel_size=kernel_size, stride=stride)\n",
    "        N = int((MAX_LENGTH - kernel_size + 1) / stride)\n",
    "        self.intent_capsules = CapsuleLayer(num_capsules=num_labels, num_route_nodes=1 * N,\n",
    "                                            in_channels=100, out_channels=15)\n",
    "        self.decoder = nn.Sequential(\n",
    "                        nn.Linear(15 * num_labels, num_labels),\n",
    "                        nn.Softmax(dim=1))\n",
    "    \n",
    "    def forward(self, word_emb, mask):\n",
    "        word_emb = self.pos_encoder(word_emb)\n",
    "#         mask = self.generate_square_subsequent_mask(word_emb.shape[0]).to(device)\n",
    "        word_emb = self.transformer(word_emb, src_key_padding_mask=mask)\n",
    "        # transpose for conv1d\n",
    "        # (len, batch, hidden_size) -> (batch, channel, len)\n",
    "        word_emb = word_emb.transpose(0,1)\n",
    "        word_emb = word_emb.transpose(1,2)\n",
    "        \n",
    "        word_emb = self.primary_capsules(word_emb)\n",
    "        word_emb = self.intent_capsules(word_emb).squeeze().transpose(0, 1)\n",
    "        word_emb = word_emb.flatten(start_dim=1)\n",
    "        intent_class = self.decoder(word_emb)\n",
    "        \n",
    "        return intent_class"
   ]
  },
  {
   "cell_type": "raw",
   "metadata": {},
   "source": [
    "self.primary_capsules = CapsuleLayer(num_capsules=1, num_route_nodes=-1, in_channels=300, out_channels=100,\n",
    "                                             kernel_size=, stride=)\n",
    "self.digit_capsules = CapsuleLayer(num_capsules=config.NUM_CLASSES, num_route_nodes=100 *  * , in_channels=1,\n",
    "                                           out_channels=15)"
   ]
  },
  {
   "cell_type": "code",
   "execution_count": 25,
   "metadata": {},
   "outputs": [
    {
     "name": "stdout",
     "output_type": "stream",
     "text": [
      "total params: 2213952\n",
      "\n",
      "    name            module\n",
      "    ----------------------\n",
      "pos_encoder     PositionalEncoding(\n",
      "  (dropout): Dropout(p=0.1, inplace=False)\n",
      ")\n",
      "transformer     TransformerEncoder(\n",
      "  (layers): ModuleList(\n",
      "    (0): TransformerEncoderLayer(\n",
      "      (self_attn): MultiheadAttention(\n",
      "        (out_proj): _LinearWithBias(in_features=300, out_features=300, bias=True)\n",
      "      )\n",
      "      (linear1): Linear(in_features=300, out_features=300, bias=True)\n",
      "      (dropout): Dropout(p=0.1, inplace=False)\n",
      "      (linear2): Linear(in_features=300, out_features=300, bias=True)\n",
      "      (norm1): LayerNorm((300,), eps=1e-05, elementwise_affine=True)\n",
      "      (norm2): LayerNorm((300,), eps=1e-05, elementwise_affine=True)\n",
      "      (dropout1): Dropout(p=0.1, inplace=False)\n",
      "      (dropout2): Dropout(p=0.1, inplace=False)\n",
      "    )\n",
      "  )\n",
      ")\n",
      "primary_capsules CapsuleLayer(\n",
      "  (capsules): ModuleList(\n",
      "    (0): Conv1d(300, 1, kernel_size=(2,), stride=(1,))\n",
      "    (1): Conv1d(300, 1, kernel_size=(2,), stride=(1,))\n",
      "    (2): Conv1d(300, 1, kernel_size=(2,), stride=(1,))\n",
      "    (3): Conv1d(300, 1, kernel_size=(2,), stride=(1,))\n",
      "    (4): Conv1d(300, 1, kernel_size=(2,), stride=(1,))\n",
      "    (5): Conv1d(300, 1, kernel_size=(2,), stride=(1,))\n",
      "    (6): Conv1d(300, 1, kernel_size=(2,), stride=(1,))\n",
      "    (7): Conv1d(300, 1, kernel_size=(2,), stride=(1,))\n",
      "    (8): Conv1d(300, 1, kernel_size=(2,), stride=(1,))\n",
      "    (9): Conv1d(300, 1, kernel_size=(2,), stride=(1,))\n",
      "    (10): Conv1d(300, 1, kernel_size=(2,), stride=(1,))\n",
      "    (11): Conv1d(300, 1, kernel_size=(2,), stride=(1,))\n",
      "    (12): Conv1d(300, 1, kernel_size=(2,), stride=(1,))\n",
      "    (13): Conv1d(300, 1, kernel_size=(2,), stride=(1,))\n",
      "    (14): Conv1d(300, 1, kernel_size=(2,), stride=(1,))\n",
      "    (15): Conv1d(300, 1, kernel_size=(2,), stride=(1,))\n",
      "    (16): Conv1d(300, 1, kernel_size=(2,), stride=(1,))\n",
      "    (17): Conv1d(300, 1, kernel_size=(2,), stride=(1,))\n",
      "    (18): Conv1d(300, 1, kernel_size=(2,), stride=(1,))\n",
      "    (19): Conv1d(300, 1, kernel_size=(2,), stride=(1,))\n",
      "    (20): Conv1d(300, 1, kernel_size=(2,), stride=(1,))\n",
      "    (21): Conv1d(300, 1, kernel_size=(2,), stride=(1,))\n",
      "    (22): Conv1d(300, 1, kernel_size=(2,), stride=(1,))\n",
      "    (23): Conv1d(300, 1, kernel_size=(2,), stride=(1,))\n",
      "    (24): Conv1d(300, 1, kernel_size=(2,), stride=(1,))\n",
      "    (25): Conv1d(300, 1, kernel_size=(2,), stride=(1,))\n",
      "    (26): Conv1d(300, 1, kernel_size=(2,), stride=(1,))\n",
      "    (27): Conv1d(300, 1, kernel_size=(2,), stride=(1,))\n",
      "    (28): Conv1d(300, 1, kernel_size=(2,), stride=(1,))\n",
      "    (29): Conv1d(300, 1, kernel_size=(2,), stride=(1,))\n",
      "    (30): Conv1d(300, 1, kernel_size=(2,), stride=(1,))\n",
      "    (31): Conv1d(300, 1, kernel_size=(2,), stride=(1,))\n",
      "    (32): Conv1d(300, 1, kernel_size=(2,), stride=(1,))\n",
      "    (33): Conv1d(300, 1, kernel_size=(2,), stride=(1,))\n",
      "    (34): Conv1d(300, 1, kernel_size=(2,), stride=(1,))\n",
      "    (35): Conv1d(300, 1, kernel_size=(2,), stride=(1,))\n",
      "    (36): Conv1d(300, 1, kernel_size=(2,), stride=(1,))\n",
      "    (37): Conv1d(300, 1, kernel_size=(2,), stride=(1,))\n",
      "    (38): Conv1d(300, 1, kernel_size=(2,), stride=(1,))\n",
      "    (39): Conv1d(300, 1, kernel_size=(2,), stride=(1,))\n",
      "    (40): Conv1d(300, 1, kernel_size=(2,), stride=(1,))\n",
      "    (41): Conv1d(300, 1, kernel_size=(2,), stride=(1,))\n",
      "    (42): Conv1d(300, 1, kernel_size=(2,), stride=(1,))\n",
      "    (43): Conv1d(300, 1, kernel_size=(2,), stride=(1,))\n",
      "    (44): Conv1d(300, 1, kernel_size=(2,), stride=(1,))\n",
      "    (45): Conv1d(300, 1, kernel_size=(2,), stride=(1,))\n",
      "    (46): Conv1d(300, 1, kernel_size=(2,), stride=(1,))\n",
      "    (47): Conv1d(300, 1, kernel_size=(2,), stride=(1,))\n",
      "    (48): Conv1d(300, 1, kernel_size=(2,), stride=(1,))\n",
      "    (49): Conv1d(300, 1, kernel_size=(2,), stride=(1,))\n",
      "    (50): Conv1d(300, 1, kernel_size=(2,), stride=(1,))\n",
      "    (51): Conv1d(300, 1, kernel_size=(2,), stride=(1,))\n",
      "    (52): Conv1d(300, 1, kernel_size=(2,), stride=(1,))\n",
      "    (53): Conv1d(300, 1, kernel_size=(2,), stride=(1,))\n",
      "    (54): Conv1d(300, 1, kernel_size=(2,), stride=(1,))\n",
      "    (55): Conv1d(300, 1, kernel_size=(2,), stride=(1,))\n",
      "    (56): Conv1d(300, 1, kernel_size=(2,), stride=(1,))\n",
      "    (57): Conv1d(300, 1, kernel_size=(2,), stride=(1,))\n",
      "    (58): Conv1d(300, 1, kernel_size=(2,), stride=(1,))\n",
      "    (59): Conv1d(300, 1, kernel_size=(2,), stride=(1,))\n",
      "    (60): Conv1d(300, 1, kernel_size=(2,), stride=(1,))\n",
      "    (61): Conv1d(300, 1, kernel_size=(2,), stride=(1,))\n",
      "    (62): Conv1d(300, 1, kernel_size=(2,), stride=(1,))\n",
      "    (63): Conv1d(300, 1, kernel_size=(2,), stride=(1,))\n",
      "    (64): Conv1d(300, 1, kernel_size=(2,), stride=(1,))\n",
      "    (65): Conv1d(300, 1, kernel_size=(2,), stride=(1,))\n",
      "    (66): Conv1d(300, 1, kernel_size=(2,), stride=(1,))\n",
      "    (67): Conv1d(300, 1, kernel_size=(2,), stride=(1,))\n",
      "    (68): Conv1d(300, 1, kernel_size=(2,), stride=(1,))\n",
      "    (69): Conv1d(300, 1, kernel_size=(2,), stride=(1,))\n",
      "    (70): Conv1d(300, 1, kernel_size=(2,), stride=(1,))\n",
      "    (71): Conv1d(300, 1, kernel_size=(2,), stride=(1,))\n",
      "    (72): Conv1d(300, 1, kernel_size=(2,), stride=(1,))\n",
      "    (73): Conv1d(300, 1, kernel_size=(2,), stride=(1,))\n",
      "    (74): Conv1d(300, 1, kernel_size=(2,), stride=(1,))\n",
      "    (75): Conv1d(300, 1, kernel_size=(2,), stride=(1,))\n",
      "    (76): Conv1d(300, 1, kernel_size=(2,), stride=(1,))\n",
      "    (77): Conv1d(300, 1, kernel_size=(2,), stride=(1,))\n",
      "    (78): Conv1d(300, 1, kernel_size=(2,), stride=(1,))\n",
      "    (79): Conv1d(300, 1, kernel_size=(2,), stride=(1,))\n",
      "    (80): Conv1d(300, 1, kernel_size=(2,), stride=(1,))\n",
      "    (81): Conv1d(300, 1, kernel_size=(2,), stride=(1,))\n",
      "    (82): Conv1d(300, 1, kernel_size=(2,), stride=(1,))\n",
      "    (83): Conv1d(300, 1, kernel_size=(2,), stride=(1,))\n",
      "    (84): Conv1d(300, 1, kernel_size=(2,), stride=(1,))\n",
      "    (85): Conv1d(300, 1, kernel_size=(2,), stride=(1,))\n",
      "    (86): Conv1d(300, 1, kernel_size=(2,), stride=(1,))\n",
      "    (87): Conv1d(300, 1, kernel_size=(2,), stride=(1,))\n",
      "    (88): Conv1d(300, 1, kernel_size=(2,), stride=(1,))\n",
      "    (89): Conv1d(300, 1, kernel_size=(2,), stride=(1,))\n",
      "    (90): Conv1d(300, 1, kernel_size=(2,), stride=(1,))\n",
      "    (91): Conv1d(300, 1, kernel_size=(2,), stride=(1,))\n",
      "    (92): Conv1d(300, 1, kernel_size=(2,), stride=(1,))\n",
      "    (93): Conv1d(300, 1, kernel_size=(2,), stride=(1,))\n",
      "    (94): Conv1d(300, 1, kernel_size=(2,), stride=(1,))\n",
      "    (95): Conv1d(300, 1, kernel_size=(2,), stride=(1,))\n",
      "    (96): Conv1d(300, 1, kernel_size=(2,), stride=(1,))\n",
      "    (97): Conv1d(300, 1, kernel_size=(2,), stride=(1,))\n",
      "    (98): Conv1d(300, 1, kernel_size=(2,), stride=(1,))\n",
      "    (99): Conv1d(300, 1, kernel_size=(2,), stride=(1,))\n",
      "  )\n",
      ")\n",
      "intent_capsules CapsuleLayer()\n",
      "decoder         Sequential(\n",
      "  (0): Linear(in_features=255, out_features=17, bias=True)\n",
      "  (1): Softmax(dim=1)\n",
      ")\n"
     ]
    }
   ],
   "source": [
    "model = intent_classifier(KERNEL_SIZE, num_labels)\n",
    "optimizer = torch.optim.AdamW(model.parameters(), lr=3e-5)\n",
    "loss_func = nn.CrossEntropyLoss()\n",
    "model_info(model)"
   ]
  },
  {
   "cell_type": "markdown",
   "metadata": {},
   "source": [
    "## Train"
   ]
  },
  {
   "cell_type": "code",
   "execution_count": 20,
   "metadata": {},
   "outputs": [],
   "source": [
    "def get_predictions(model, dataloader, compute_acc):\n",
    "    predictions = None\n",
    "    correct = 0\n",
    "    total = 0\n",
    "      \n",
    "    with torch.no_grad():\n",
    "        # 遍巡整個資料集\n",
    "        for data in dataloader:\n",
    "            word_embs, masks, labels = [t.to(device) for t in data if torch.is_tensor(t)]\n",
    "            \n",
    "            intent_cls = model(word_embs.transpose(0,1), masks)\n",
    "            \n",
    "            _, pred = torch.max(intent_cls, 1) # _: logits最大數值; pred: 最大數值的 index\n",
    "            \n",
    "            # 用來計算訓練集的分類準確率\n",
    "            if compute_acc:\n",
    "                total += labels.size(0)\n",
    "                correct += (pred == labels).sum().item()\n",
    "                \n",
    "            # 將當前 batch 記錄下來\n",
    "            if predictions is None:\n",
    "                predictions = pred\n",
    "            else:\n",
    "                predictions = torch.cat((predictions, pred))\n",
    "\n",
    "    if compute_acc:\n",
    "        acc = correct / total\n",
    "        return predictions, acc\n",
    "    return predictions"
   ]
  },
  {
   "cell_type": "code",
   "execution_count": 21,
   "metadata": {},
   "outputs": [],
   "source": [
    "trainSet = intent_Dataset(\"train\", data_train)\n",
    "trainLoader = DataLoader(trainSet, batch_size=TRAIN_BATCH_SIZE, collate_fn=minibatch, shuffle=True)\n",
    "testSet = intent_Dataset(\"test\", data_test)\n",
    "testLoader = DataLoader(testSet, batch_size=TEST_BATCH_SIZE, collate_fn=minibatch)"
   ]
  },
  {
   "cell_type": "code",
   "execution_count": 22,
   "metadata": {},
   "outputs": [
    {
     "data": {
      "text/plain": [
       "'tensorboard logger'"
      ]
     },
     "execution_count": 22,
     "metadata": {},
     "output_type": "execute_result"
    }
   ],
   "source": [
    "\"\"\"tensorboard logger\"\"\"\n",
    "# writer = SummaryWriter(f\"runs/{DATASET}/transCapsule/K_{KERNEL_SIZE}_E_{EPOCHS}\")"
   ]
  },
  {
   "cell_type": "code",
   "execution_count": 26,
   "metadata": {},
   "outputs": [
    {
     "name": "stderr",
     "output_type": "stream",
     "text": [
      "  0%|          | 2/535 [00:00<00:42, 12.54it/s]"
     ]
    },
    {
     "name": "stdout",
     "output_type": "stream",
     "text": [
      "2021-04-22 13:25:02\tstart training model/transCapsule from epoch 1 to 20\n"
     ]
    },
    {
     "name": "stderr",
     "output_type": "stream",
     "text": [
      "100%|██████████| 535/535 [00:34<00:00, 15.49it/s]\n"
     ]
    },
    {
     "name": "stdout",
     "output_type": "stream",
     "text": [
      "2021-04-22 13:25:37\t[epoch 1] loss: 1333.381\n",
      "[epoch 1] training acc: 0.742396\n"
     ]
    },
    {
     "name": "stderr",
     "output_type": "stream",
     "text": [
      "  0%|          | 2/535 [00:00<00:36, 14.52it/s]"
     ]
    },
    {
     "name": "stdout",
     "output_type": "stream",
     "text": [
      "[epoch 1] testing acc: 0.723549\n"
     ]
    },
    {
     "name": "stderr",
     "output_type": "stream",
     "text": [
      "100%|██████████| 535/535 [00:34<00:00, 15.43it/s]\n"
     ]
    },
    {
     "name": "stdout",
     "output_type": "stream",
     "text": [
      "2021-04-22 13:26:26\t[epoch 2] loss: 1211.218\n",
      "[epoch 2] training acc: 0.742396\n"
     ]
    },
    {
     "name": "stderr",
     "output_type": "stream",
     "text": [
      "  0%|          | 2/535 [00:00<00:34, 15.56it/s]"
     ]
    },
    {
     "name": "stdout",
     "output_type": "stream",
     "text": [
      "[epoch 2] testing acc: 0.723549\n"
     ]
    },
    {
     "name": "stderr",
     "output_type": "stream",
     "text": [
      "100%|██████████| 535/535 [00:34<00:00, 15.51it/s]\n"
     ]
    },
    {
     "name": "stdout",
     "output_type": "stream",
     "text": [
      "2021-04-22 13:27:14\t[epoch 3] loss: 1187.348\n",
      "[epoch 3] training acc: 0.742396\n"
     ]
    },
    {
     "name": "stderr",
     "output_type": "stream",
     "text": [
      "  0%|          | 2/535 [00:00<00:35, 14.95it/s]"
     ]
    },
    {
     "name": "stdout",
     "output_type": "stream",
     "text": [
      "[epoch 3] testing acc: 0.723549\n"
     ]
    },
    {
     "name": "stderr",
     "output_type": "stream",
     "text": [
      "100%|██████████| 535/535 [00:34<00:00, 15.51it/s]\n"
     ]
    },
    {
     "name": "stdout",
     "output_type": "stream",
     "text": [
      "2021-04-22 13:28:03\t[epoch 4] loss: 1179.019\n",
      "[epoch 4] training acc: 0.742396\n"
     ]
    },
    {
     "name": "stderr",
     "output_type": "stream",
     "text": [
      "  0%|          | 2/535 [00:00<00:34, 15.36it/s]"
     ]
    },
    {
     "name": "stdout",
     "output_type": "stream",
     "text": [
      "[epoch 4] testing acc: 0.723549\n"
     ]
    },
    {
     "name": "stderr",
     "output_type": "stream",
     "text": [
      "100%|██████████| 535/535 [00:34<00:00, 15.50it/s]\n"
     ]
    },
    {
     "name": "stdout",
     "output_type": "stream",
     "text": [
      "2021-04-22 13:28:52\t[epoch 5] loss: 1175.122\n",
      "[epoch 5] training acc: 0.742396\n"
     ]
    },
    {
     "name": "stderr",
     "output_type": "stream",
     "text": [
      "  0%|          | 2/535 [00:00<00:34, 15.30it/s]"
     ]
    },
    {
     "name": "stdout",
     "output_type": "stream",
     "text": [
      "[epoch 5] testing acc: 0.723549\n"
     ]
    },
    {
     "name": "stderr",
     "output_type": "stream",
     "text": [
      "100%|██████████| 535/535 [00:34<00:00, 15.55it/s]\n"
     ]
    },
    {
     "name": "stdout",
     "output_type": "stream",
     "text": [
      "2021-04-22 13:29:40\t[epoch 6] loss: 1173.262\n",
      "[epoch 6] training acc: 0.742396\n"
     ]
    },
    {
     "name": "stderr",
     "output_type": "stream",
     "text": [
      "  0%|          | 2/535 [00:00<00:33, 15.69it/s]"
     ]
    },
    {
     "name": "stdout",
     "output_type": "stream",
     "text": [
      "[epoch 6] testing acc: 0.723549\n"
     ]
    },
    {
     "name": "stderr",
     "output_type": "stream",
     "text": [
      "100%|██████████| 535/535 [00:34<00:00, 15.52it/s]\n"
     ]
    },
    {
     "name": "stdout",
     "output_type": "stream",
     "text": [
      "2021-04-22 13:30:29\t[epoch 7] loss: 1172.546\n",
      "[epoch 7] training acc: 0.742396\n"
     ]
    },
    {
     "name": "stderr",
     "output_type": "stream",
     "text": [
      "  0%|          | 2/535 [00:00<00:34, 15.23it/s]"
     ]
    },
    {
     "name": "stdout",
     "output_type": "stream",
     "text": [
      "[epoch 7] testing acc: 0.723549\n"
     ]
    },
    {
     "name": "stderr",
     "output_type": "stream",
     "text": [
      "100%|██████████| 535/535 [00:34<00:00, 15.47it/s]\n"
     ]
    },
    {
     "name": "stdout",
     "output_type": "stream",
     "text": [
      "2021-04-22 13:31:17\t[epoch 8] loss: 1171.863\n",
      "[epoch 8] training acc: 0.742396\n"
     ]
    },
    {
     "name": "stderr",
     "output_type": "stream",
     "text": [
      "  0%|          | 2/535 [00:00<00:34, 15.34it/s]"
     ]
    },
    {
     "name": "stdout",
     "output_type": "stream",
     "text": [
      "[epoch 8] testing acc: 0.723549\n"
     ]
    },
    {
     "name": "stderr",
     "output_type": "stream",
     "text": [
      "100%|██████████| 535/535 [00:34<00:00, 15.55it/s]\n"
     ]
    },
    {
     "name": "stdout",
     "output_type": "stream",
     "text": [
      "2021-04-22 13:32:06\t[epoch 9] loss: 1171.412\n",
      "[epoch 9] training acc: 0.742396\n"
     ]
    },
    {
     "name": "stderr",
     "output_type": "stream",
     "text": [
      "  0%|          | 2/535 [00:00<00:36, 14.60it/s]"
     ]
    },
    {
     "name": "stdout",
     "output_type": "stream",
     "text": [
      "[epoch 9] testing acc: 0.723549\n"
     ]
    },
    {
     "name": "stderr",
     "output_type": "stream",
     "text": [
      "100%|██████████| 535/535 [00:35<00:00, 15.22it/s]\n"
     ]
    },
    {
     "name": "stdout",
     "output_type": "stream",
     "text": [
      "2021-04-22 13:32:56\t[epoch 10] loss: 1171.103\n",
      "[epoch 10] training acc: 0.742396\n"
     ]
    },
    {
     "name": "stderr",
     "output_type": "stream",
     "text": [
      "  0%|          | 2/535 [00:00<00:34, 15.25it/s]"
     ]
    },
    {
     "name": "stdout",
     "output_type": "stream",
     "text": [
      "[epoch 10] testing acc: 0.723549\n"
     ]
    },
    {
     "name": "stderr",
     "output_type": "stream",
     "text": [
      "100%|██████████| 535/535 [00:35<00:00, 15.12it/s]\n"
     ]
    },
    {
     "name": "stdout",
     "output_type": "stream",
     "text": [
      "2021-04-22 13:33:45\t[epoch 11] loss: 1170.511\n",
      "[epoch 11] training acc: 0.742396\n"
     ]
    },
    {
     "name": "stderr",
     "output_type": "stream",
     "text": [
      "  0%|          | 2/535 [00:00<00:35, 14.98it/s]"
     ]
    },
    {
     "name": "stdout",
     "output_type": "stream",
     "text": [
      "[epoch 11] testing acc: 0.723549\n"
     ]
    },
    {
     "name": "stderr",
     "output_type": "stream",
     "text": [
      "100%|██████████| 535/535 [00:35<00:00, 15.16it/s]\n"
     ]
    },
    {
     "name": "stdout",
     "output_type": "stream",
     "text": [
      "2021-04-22 13:34:35\t[epoch 12] loss: 1170.355\n",
      "[epoch 12] training acc: 0.742396\n"
     ]
    },
    {
     "name": "stderr",
     "output_type": "stream",
     "text": [
      "  0%|          | 2/535 [00:00<00:36, 14.80it/s]"
     ]
    },
    {
     "name": "stdout",
     "output_type": "stream",
     "text": [
      "[epoch 12] testing acc: 0.723549\n"
     ]
    },
    {
     "name": "stderr",
     "output_type": "stream",
     "text": [
      "100%|██████████| 535/535 [00:35<00:00, 15.06it/s]\n"
     ]
    },
    {
     "name": "stdout",
     "output_type": "stream",
     "text": [
      "2021-04-22 13:35:25\t[epoch 13] loss: 1170.242\n",
      "[epoch 13] training acc: 0.742396\n"
     ]
    },
    {
     "name": "stderr",
     "output_type": "stream",
     "text": [
      "  0%|          | 2/535 [00:00<00:35, 15.09it/s]"
     ]
    },
    {
     "name": "stdout",
     "output_type": "stream",
     "text": [
      "[epoch 13] testing acc: 0.723549\n"
     ]
    },
    {
     "name": "stderr",
     "output_type": "stream",
     "text": [
      "100%|██████████| 535/535 [00:35<00:00, 15.03it/s]\n"
     ]
    },
    {
     "name": "stdout",
     "output_type": "stream",
     "text": [
      "2021-04-22 13:36:15\t[epoch 14] loss: 1170.159\n",
      "[epoch 14] training acc: 0.742396\n"
     ]
    },
    {
     "name": "stderr",
     "output_type": "stream",
     "text": [
      "  0%|          | 2/535 [00:00<00:35, 14.93it/s]"
     ]
    },
    {
     "name": "stdout",
     "output_type": "stream",
     "text": [
      "[epoch 14] testing acc: 0.723549\n"
     ]
    },
    {
     "name": "stderr",
     "output_type": "stream",
     "text": [
      "100%|██████████| 535/535 [00:35<00:00, 15.10it/s]\n"
     ]
    },
    {
     "name": "stdout",
     "output_type": "stream",
     "text": [
      "2021-04-22 13:37:05\t[epoch 15] loss: 1170.097\n",
      "[epoch 15] training acc: 0.742396\n"
     ]
    },
    {
     "name": "stderr",
     "output_type": "stream",
     "text": [
      "  0%|          | 2/535 [00:00<00:36, 14.51it/s]"
     ]
    },
    {
     "name": "stdout",
     "output_type": "stream",
     "text": [
      "[epoch 15] testing acc: 0.723549\n"
     ]
    },
    {
     "name": "stderr",
     "output_type": "stream",
     "text": [
      "100%|██████████| 535/535 [00:35<00:00, 14.98it/s]\n"
     ]
    },
    {
     "name": "stdout",
     "output_type": "stream",
     "text": [
      "2021-04-22 13:37:56\t[epoch 16] loss: 1170.426\n",
      "[epoch 16] training acc: 0.742396\n"
     ]
    },
    {
     "name": "stderr",
     "output_type": "stream",
     "text": [
      "  0%|          | 2/535 [00:00<00:35, 14.84it/s]"
     ]
    },
    {
     "name": "stdout",
     "output_type": "stream",
     "text": [
      "[epoch 16] testing acc: 0.723549\n"
     ]
    },
    {
     "name": "stderr",
     "output_type": "stream",
     "text": [
      "100%|██████████| 535/535 [00:35<00:00, 14.91it/s]\n"
     ]
    },
    {
     "name": "stdout",
     "output_type": "stream",
     "text": [
      "2021-04-22 13:38:46\t[epoch 17] loss: 1170.391\n",
      "[epoch 17] training acc: 0.742396\n"
     ]
    },
    {
     "name": "stderr",
     "output_type": "stream",
     "text": [
      "  0%|          | 2/535 [00:00<00:35, 15.02it/s]"
     ]
    },
    {
     "name": "stdout",
     "output_type": "stream",
     "text": [
      "[epoch 17] testing acc: 0.723549\n"
     ]
    },
    {
     "name": "stderr",
     "output_type": "stream",
     "text": [
      "100%|██████████| 535/535 [00:35<00:00, 14.94it/s]\n"
     ]
    },
    {
     "name": "stdout",
     "output_type": "stream",
     "text": [
      "2021-04-22 13:39:37\t[epoch 18] loss: 1169.990\n",
      "[epoch 18] training acc: 0.742396\n"
     ]
    },
    {
     "name": "stderr",
     "output_type": "stream",
     "text": [
      "  0%|          | 2/535 [00:00<00:35, 14.90it/s]"
     ]
    },
    {
     "name": "stdout",
     "output_type": "stream",
     "text": [
      "[epoch 18] testing acc: 0.723549\n"
     ]
    },
    {
     "name": "stderr",
     "output_type": "stream",
     "text": [
      "100%|██████████| 535/535 [00:35<00:00, 14.93it/s]\n"
     ]
    },
    {
     "name": "stdout",
     "output_type": "stream",
     "text": [
      "2021-04-22 13:40:27\t[epoch 19] loss: 1169.971\n",
      "[epoch 19] training acc: 0.742396\n"
     ]
    },
    {
     "name": "stderr",
     "output_type": "stream",
     "text": [
      "  0%|          | 2/535 [00:00<00:35, 15.19it/s]"
     ]
    },
    {
     "name": "stdout",
     "output_type": "stream",
     "text": [
      "[epoch 19] testing acc: 0.723549\n"
     ]
    },
    {
     "name": "stderr",
     "output_type": "stream",
     "text": [
      "100%|██████████| 535/535 [00:35<00:00, 15.01it/s]\n"
     ]
    },
    {
     "name": "stdout",
     "output_type": "stream",
     "text": [
      "2021-04-22 13:41:17\t[epoch 20] loss: 1170.706\n",
      "[epoch 20] training acc: 0.742396\n",
      "[epoch 20] testing acc: 0.723549\n"
     ]
    }
   ],
   "source": [
    "train_from = 0\n",
    "model = model.to(device)\n",
    "model.train()\n",
    "timestamp(f\"start training {MODEL_PATH} from epoch {train_from+1} to {EPOCHS}\")\n",
    "for epoch in range(train_from, EPOCHS):\n",
    "    running_loss = 0.0\n",
    "    for data in tqdm(trainLoader):\n",
    "        word_embs, masks, labels = [t.to(device) for t in data]\n",
    "#         print(word_emb.shape)\n",
    "#         break\n",
    "\n",
    "        # 將參數梯度歸零\n",
    "        optimizer.zero_grad()\n",
    "        \n",
    "        # forward pass\n",
    "        outputs = model(word_embs.transpose(0,1), masks) # transpose for transformer (len, batch, hidden_size)\n",
    "        \n",
    "        loss = loss_func(outputs, labels)\n",
    "        # backward\n",
    "        loss.backward()\n",
    "        optimizer.step()\n",
    "\n",
    "        # 紀錄當前 batch loss\n",
    "        running_loss += loss.item()\n",
    "\n",
    "#     torch.save(model.state_dict(), F\"{MODEL_PATH}_E_{str(epoch+1)}.pt\")\n",
    "    timestamp(f\"[epoch {epoch+1}] loss: {running_loss:.3f}\")\n",
    "#     writer.add_scalar('Loss/cls', running_loss, epoch)\n",
    "\n",
    "    _, acc = get_predictions(model, trainLoader, compute_acc=True)\n",
    "    print(f\"[epoch {epoch+1}] training acc: {acc:.6f}\")\n",
    "#     writer.add_scalar('Acc/train', acc, epoch)\n",
    "\n",
    "    _, acc = get_predictions(model, testLoader, compute_acc=True)\n",
    "    print(f\"[epoch {epoch+1}] testing acc: {acc:.6f}\")\n",
    "#     writer.add_scalar('Acc/test', acc, epoch)"
   ]
  },
  {
   "cell_type": "code",
   "execution_count": 17,
   "metadata": {},
   "outputs": [],
   "source": []
  },
  {
   "cell_type": "markdown",
   "metadata": {},
   "source": [
    "---"
   ]
  },
  {
   "cell_type": "code",
   "execution_count": 36,
   "metadata": {},
   "outputs": [
    {
     "data": {
      "text/plain": [
       "torch.Size([10, 32, 512])"
      ]
     },
     "execution_count": 36,
     "metadata": {},
     "output_type": "execute_result"
    }
   ],
   "source": [
    "encoder_layer = nn.TransformerEncoderLayer(d_model=512, nhead=8, dim_feedforward=128)\n",
    "src = torch.rand(10, 32, 512)\n",
    "encoder_layer(src).shape"
   ]
  },
  {
   "cell_type": "code",
   "execution_count": 17,
   "metadata": {},
   "outputs": [
    {
     "data": {
      "text/plain": [
       "torch.Size([32, 40, 100])"
      ]
     },
     "execution_count": 17,
     "metadata": {},
     "output_type": "execute_result"
    }
   ],
   "source": [
    "pos_encoder = PositionalEncoding(d_model=100)\n",
    "src = torch.rand(32,40,100)\n",
    "pos_encoder(src).shape"
   ]
  },
  {
   "cell_type": "code",
   "execution_count": 44,
   "metadata": {},
   "outputs": [
    {
     "data": {
      "text/plain": [
       "torch.Size([300])"
      ]
     },
     "execution_count": 44,
     "metadata": {},
     "output_type": "execute_result"
    }
   ],
   "source": [
    "src = torch.rand(15,20)\n",
    "src.flatten().shape"
   ]
  },
  {
   "cell_type": "code",
   "execution_count": null,
   "metadata": {},
   "outputs": [],
   "source": []
  },
  {
   "cell_type": "code",
   "execution_count": null,
   "metadata": {},
   "outputs": [],
   "source": []
  }
 ],
 "metadata": {
  "kernelspec": {
   "display_name": "Python 3",
   "language": "python",
   "name": "python3"
  },
  "language_info": {
   "codemirror_mode": {
    "name": "ipython",
    "version": 3
   },
   "file_extension": ".py",
   "mimetype": "text/x-python",
   "name": "python",
   "nbconvert_exporter": "python",
   "pygments_lexer": "ipython3",
   "version": "3.6.10"
  }
 },
 "nbformat": 4,
 "nbformat_minor": 4
}

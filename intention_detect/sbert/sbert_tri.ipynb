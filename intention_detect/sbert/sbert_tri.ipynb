{
 "cells": [
  {
   "cell_type": "code",
   "execution_count": 5,
   "id": "02dcb5e1",
   "metadata": {},
   "outputs": [],
   "source": [
    "!pip install torch\n",
    "!pip install transformers\n",
    "!pip install tqdm\n",
    "!pip install opencc\n",
    "!pip install -U sentence-transformers\n",
    "!pip install tensorboard\n",
    "from IPython.display import clear_output\n",
    "clear_output()"
   ]
  },
  {
   "cell_type": "code",
   "execution_count": null,
   "id": "663e491f",
   "metadata": {},
   "outputs": [],
   "source": [
    "import pandas as pd\n",
    "import numpy as np\n",
    "import torch\n",
    "import torch.nn as nn\n",
    "from sentence_transformers import SentenceTransformer, models, SentencesDataset, InputExample, losses, evaluation\n",
    "from tqdm import tqdm\n",
    "import random\n",
    "import json\n",
    "import opencc\n",
    "from sklearn.manifold import TSNE\n",
    "import seaborn as sns\n",
    "from torch.utils.tensorboard import SummaryWriter\n",
    "from torch.utils.data import DataLoader\n",
    "from transformers import AdamW\n",
    "import matplotlib.pyplot as plt"
   ]
  },
  {
   "cell_type": "markdown",
   "id": "407a031d",
   "metadata": {},
   "source": [
    "## Hyper parameter"
   ]
  },
  {
   "cell_type": "code",
   "execution_count": 2,
   "id": "48ea7b06",
   "metadata": {},
   "outputs": [
    {
     "name": "stdout",
     "output_type": "stream",
     "text": [
      "device: cuda:0\n"
     ]
    }
   ],
   "source": [
    "tokenizer_LM = \"../bert-base-chinese\"\n",
    "NO = 1\n",
    "LM_SET = [\"../bert-base-chinese\", \"../ckiplab/bert-base-chinese\", \"../hfl/chinese-bert-wwm\", \"../hfl/rbtl3\"]\n",
    "MODEL_NAME_SET = [\"base\", \"ckip\", \"wwm\", \"rbtl3\"]\n",
    "LM = LM_SET[NO]\n",
    "MODEL_NAME = MODEL_NAME_SET[NO] + '_vlight' + '_hs'\n",
    "\n",
    "DATASET = \"base\"\n",
    "ALPHA = 0.2\n",
    "CLASSES_PER_BATCH = 5\n",
    "ITEMS_PER_CLASS = 30\n",
    "TRAIN_BATCH_SIZE = 16 # true batch= TRAIN_BTCH_SIZE *3\n",
    "TEST_BATCH_SIZE = 64\n",
    "MODEL_PATH = f\"model/tri_{DATASET}/{MODEL_NAME}\" # svae/load model name/path\n",
    "EMB_EPOCHS = 10\n",
    "CLS_EPOCHS = 20\n",
    "device = torch.device(\"cuda:0\" if torch.cuda.is_available() else \"cpu\")\n",
    "print(\"device:\", device)"
   ]
  },
  {
   "cell_type": "markdown",
   "id": "aa70f3af",
   "metadata": {},
   "source": [
    "## Utility"
   ]
  },
  {
   "cell_type": "code",
   "execution_count": 3,
   "id": "e8c2b7bb",
   "metadata": {},
   "outputs": [],
   "source": [
    "from datetime import datetime,timezone,timedelta\n",
    "def timestamp(msg=\"\"):\n",
    "    dt1 = datetime.utcnow().replace(tzinfo=timezone.utc)\n",
    "    dt2 = dt1.astimezone(timezone(timedelta(hours=8))) # 轉換時區 -> 東八區\n",
    "    print(str(dt2)[:-13] + '\\t' + msg)\n",
    "    return (str(dt2)[:-13] + '\\t' + msg)"
   ]
  },
  {
   "cell_type": "code",
   "execution_count": 4,
   "id": "3b3b2ece",
   "metadata": {},
   "outputs": [],
   "source": [
    "# high-level 顯示此模型裡的 modules\n",
    "def model_info(model):\n",
    "#     print(model.device)\n",
    "    print(\"\"\"\n",
    "    name            module\n",
    "    ----------------------\"\"\")\n",
    "    for name, module in model.named_children():\n",
    "        if name == \"bert\" or name==\"0\":\n",
    "            for n, _ in module.named_children():\n",
    "                print(f\"{name}:{n}\")\n",
    "    #             print(_)\n",
    "        else:\n",
    "            print(\"{:15} {}\".format(name, module))"
   ]
  },
  {
   "cell_type": "code",
   "execution_count": 5,
   "id": "ae49a0d1",
   "metadata": {},
   "outputs": [],
   "source": [
    "class dotdict(dict):\n",
    "    \"\"\"dot.notation access to dictionary attributes\"\"\"\n",
    "    __getattr__ = dict.get\n",
    "    __setattr__ = dict.__setitem__\n",
    "    __delattr__ = dict.__delitem__"
   ]
  },
  {
   "cell_type": "code",
   "execution_count": 6,
   "id": "11e0a8b6",
   "metadata": {},
   "outputs": [],
   "source": [
    "def emb_visualize(bert_model, epoch, save=True):\n",
    "    df = pd.read_csv(f\"data/{DATASET}/train.tsv\", sep='\\t')\n",
    "    # assert len(dataloader.dataset) == df.shape[0]\n",
    "    df = df.sort_values(by=\"labels\", ignore_index=True)\n",
    "    # _, emb = get_predictions(model, trainLoader, compute_acc=False, get_emb=True)\n",
    "    emb = bert_model.encode(df[\"texts\"].tolist(), convert_to_numpy=True)\n",
    "    low_dim_emb = TSNE(n_components=2, perplexity=30).fit_transform(emb)\n",
    "\n",
    "    df[\"f1\"] = low_dim_emb[:, 0]\n",
    "    df[\"f2\"] = low_dim_emb[:, 1]\n",
    "    emb_fig = sns.relplot(\n",
    "        data=df, x=\"f1\", y=\"f2\",\n",
    "        hue=\"labels\", alpha=0.7,\n",
    "        kind=\"scatter\")\n",
    "#     emb_by_cls_fig = sns.relplot(\n",
    "#         data=df, x=\"f1\", y=\"f2\",\n",
    "#         col=\"labels\", col_wrap=4,\n",
    "#         kind=\"scatter\")\n",
    "    emb_fig.savefig(f\"runs/{DATASET}/{MODEL_NAME}/E_{EMB_EPOCHS}_E_{CLS_EPOCHS}/{epoch}_emb.png\")\n",
    "    \n",
    "    return emb_fig#, emb_by_cls_fig"
   ]
  },
  {
   "cell_type": "markdown",
   "id": "ce82b482",
   "metadata": {},
   "source": [
    "## Data Preprocess"
   ]
  },
  {
   "cell_type": "code",
   "execution_count": 7,
   "id": "715c628e",
   "metadata": {},
   "outputs": [],
   "source": [
    "def get_bert_data(mode, file_path):\n",
    "    assert mode in [\"train\", \"test\", \"dev\"]\n",
    "    df = pd.read_csv(file_path, sep='\\t')\n",
    "    df = df.sort_values(by=[\"labels\"], ignore_index=True)\n",
    "    src_labels = sorted(set(df.labels.tolist()))\n",
    "    num_labels = len(src_labels)\n",
    "    df[\"labels\"] = [src_labels.index(l) for l in df.labels.tolist()]\n",
    "\n",
    "    bert_data = []\n",
    "    texts = df[\"texts\"]\n",
    "    labels = df[\"labels\"]\n",
    "    for i, t in enumerate(texts):\n",
    "        label = labels[i]\n",
    "        bert_dict = InputExample(texts=[t], label=label)\n",
    "        bert_data += [bert_dict]\n",
    "    torch.save(bert_data, f\"bert_data/{DATASET}/sbert_{mode}.pt\")\n",
    "    if mode == \"train\":\n",
    "        return bert_data, num_labels #List[Dict[List]] = List[tokenizer output]\n",
    "    else:\n",
    "        return bert_data"
   ]
  },
  {
   "cell_type": "code",
   "execution_count": 8,
   "id": "cd613911",
   "metadata": {},
   "outputs": [
    {
     "name": "stdout",
     "output_type": "stream",
     "text": [
      "286 41\n",
      "82\n"
     ]
    }
   ],
   "source": [
    "\"\"\"get_bert_data\"\"\"\n",
    "sbert_train, num_labels = get_bert_data(\"train\", f\"data/{DATASET}/train.tsv\")\n",
    "print(len(sbert_train), num_labels)\n",
    "bert_test = get_bert_data(\"test\", f\"data/{DATASET}/test.tsv\")\n",
    "print(len(bert_test))"
   ]
  },
  {
   "cell_type": "code",
   "execution_count": 9,
   "id": "14f58ac6",
   "metadata": {},
   "outputs": [
    {
     "name": "stdout",
     "output_type": "stream",
     "text": [
      "286\n",
      "286\n",
      "41\n"
     ]
    }
   ],
   "source": [
    "\"\"\"train data\"\"\"\n",
    "sbert_train = torch.load(f\"bert_data/{DATASET}/sbert_train.pt\")\n",
    "print(len(sbert_train))\n",
    "num_labels = 41 if DATASET==\"base\" else 31\n",
    "bert_train = torch.load(f\"bert_data/{DATASET}/train.pt\")\n",
    "print(len(bert_train))\n",
    "bert_train_by_class = []\n",
    "for c in range(num_labels):\n",
    "    bert_train_by_class += [[item for item in bert_train if item[\"label\"]==c]]\n",
    "print(len(bert_train_by_class))"
   ]
  },
  {
   "cell_type": "code",
   "execution_count": 10,
   "id": "2801a495",
   "metadata": {},
   "outputs": [
    {
     "data": {
      "text/plain": [
       "82"
      ]
     },
     "execution_count": 10,
     "metadata": {},
     "output_type": "execute_result"
    }
   ],
   "source": [
    "\"\"\"testing data\"\"\"\n",
    "bert_test = torch.load(f\"bert_data/{DATASET}/test.pt\")\n",
    "len(bert_test)"
   ]
  },
  {
   "cell_type": "markdown",
   "id": "a5fd8033",
   "metadata": {},
   "source": [
    "## Model and DataSet"
   ]
  },
  {
   "cell_type": "code",
   "execution_count": 11,
   "id": "7ba748d3",
   "metadata": {},
   "outputs": [
    {
     "name": "stdout",
     "output_type": "stream",
     "text": [
      "\n",
      "    name            module\n",
      "    ----------------------\n",
      "0:auto_model\n",
      "1               Pooling()\n"
     ]
    }
   ],
   "source": [
    "bert = models.Transformer(LM, max_seq_length=128)\n",
    "bert_hidden_size = bert.get_word_embedding_dimension()\n",
    "pooler = models.Pooling(bert_hidden_size) # necessary for SentenceTransformer from scratch with dense\n",
    "# encoder_1 = models.Dense(bert_hidden_size, bert_hidden_size)\n",
    "# encoder_2 = models.Dense(bert_hidden_size, bert_hidden_size)\n",
    "# encoder_3 = models.Dense(bert_hidden_size, 50)\n",
    "\n",
    "bert_model = SentenceTransformer(modules=[bert, pooler], device=device)\n",
    "# triplet_loss = losses.BatchSemiHardTripletLoss(model=bert_model, margin=ALPHA) # bert_model loss\n",
    "# triplet_loss = losses.BatchHardTripletLoss(model=bert_model, margin=ALPHA) # bert_model loss\n",
    "triplet_loss = losses.BatchHardSoftMarginTripletLoss(model=bert_model) # bert_model loss\n",
    "# triplet_loss = losses.BatchAllTripletLoss(model=bert_model, margin=ALPHA) # bert_model loss\n",
    "\n",
    "bert_optimizer = AdamW(bert_model.parameters(), lr=3e-5, weight_decay=1e-6) # AdamW = BertAdam\n",
    "\n",
    "model_info(bert_model)"
   ]
  },
  {
   "cell_type": "code",
   "execution_count": 12,
   "id": "117f5aae",
   "metadata": {},
   "outputs": [],
   "source": [
    "class intent_classifier(nn.Module):\n",
    "    def __init__(self, encoder_hidden_size, decoder_hidden_size, num_labels):\n",
    "        super().__init__()\n",
    "        self.decoder = nn.Sequential(\n",
    "#             nn.Dropout(0.1),\n",
    "#             nn.Linear(encoder_hidden_size, decoder_hidden_size),\n",
    "#             nn.Tanh(),\n",
    "            nn.Dropout(0.1),\n",
    "            nn.Linear(decoder_hidden_size, num_labels),\n",
    "            nn.Softmax(dim=1)\n",
    "        )\n",
    "        \n",
    "    def forward(self, emb):\n",
    "        intent_cls = self.decoder(emb)\n",
    "        \n",
    "        return dotdict(\n",
    "            intent_cls=intent_cls) # batch_size * num_labels"
   ]
  },
  {
   "cell_type": "code",
   "execution_count": 13,
   "id": "b7eb8eef",
   "metadata": {},
   "outputs": [
    {
     "name": "stdout",
     "output_type": "stream",
     "text": [
      "\n",
      "    name            module\n",
      "    ----------------------\n",
      "decoder         Sequential(\n",
      "  (0): Dropout(p=0.1, inplace=False)\n",
      "  (1): Linear(in_features=768, out_features=41, bias=True)\n",
      "  (2): Softmax(dim=1)\n",
      ")\n"
     ]
    }
   ],
   "source": [
    "cls_model = intent_classifier(50, 768, num_labels)\n",
    "cls_optimizer = AdamW([{\"params\": bert_model.parameters()}, {\"params\": cls_model.decoder.parameters()}], lr=2e-4) # AdamW = BertAdam\n",
    "cls_model = cls_model.to(device)\n",
    "model_info(cls_model)"
   ]
  },
  {
   "cell_type": "markdown",
   "id": "b5477e8a",
   "metadata": {},
   "source": [
    "## Train & validate"
   ]
  },
  {
   "cell_type": "code",
   "execution_count": 14,
   "id": "02aa9655",
   "metadata": {},
   "outputs": [],
   "source": [
    "def get_predictions(bert_model, cls_model, dataloader, compute_acc, get_emb):\n",
    "    predictions = None\n",
    "    correct = 0\n",
    "    total = 0\n",
    "    embs = None\n",
    "      \n",
    "    with torch.no_grad():\n",
    "        # 遍巡整個資料集\n",
    "        for data in dataloader:\n",
    "            tokens_tensors, segments_tensors, masks_tensors,\\\n",
    "            labels = [t.to(device) for t in data if torch.is_tensor(t)]\n",
    "            \n",
    "            emb = bert_model.encode(data[4], convert_to_tensor=True)\n",
    "            outputs = cls_model(emb)\n",
    "            \n",
    "            \n",
    "            _, pred = torch.max(outputs.intent_cls.data, 1) # _: logits最大數值; pred: 最大數值的 index\n",
    "            \n",
    "            # 用來計算訓練集的分類準確率\n",
    "            if compute_acc:\n",
    "                total += labels.size(0)\n",
    "                correct += (pred == labels).sum().item()\n",
    "                \n",
    "            # 將當前 batch 記錄下來\n",
    "            if predictions is None:\n",
    "                predictions = pred\n",
    "            else:\n",
    "                predictions = torch.cat((predictions, pred))\n",
    "            \n",
    "            if get_emb:\n",
    "                if embs is None:\n",
    "                    embs = outputs.emb\n",
    "                else:\n",
    "                    embs = torch.cat((embs, emb))\n",
    "\n",
    "    if compute_acc and get_emb:\n",
    "        return predictions, acc, embs\n",
    "    if compute_acc:\n",
    "        acc = correct / total\n",
    "        return predictions, acc\n",
    "    if get_emb:\n",
    "        return predictions, embs\n",
    "    return predictions"
   ]
  },
  {
   "cell_type": "code",
   "execution_count": 15,
   "id": "72464ac8",
   "metadata": {},
   "outputs": [],
   "source": [
    "\"\"\"tensorboard logger\"\"\"\n",
    "writer = SummaryWriter(f\"runs/{DATASET}/{MODEL_NAME}/E_{EMB_EPOCHS}_E_{CLS_EPOCHS}\")"
   ]
  },
  {
   "cell_type": "code",
   "execution_count": 16,
   "id": "05334583",
   "metadata": {},
   "outputs": [],
   "source": [
    "from torch.utils.data import Dataset\n",
    "from torch.utils.data import DataLoader\n",
    "class intent_Dataset(Dataset):\n",
    "    def __init__(self, list_of_bert):\n",
    "        self.data = list_of_bert\n",
    "    def __getitem__(self, idx):\n",
    "        input_ids = torch.tensor(self.data[idx][\"input_ids\"])\n",
    "        seg_emb = torch.tensor(self.data[idx][\"token_type_ids\"])\n",
    "        att_emb = torch.tensor(self.data[idx][\"attention_mask\"])\n",
    "        label = torch.tensor(self.data[idx][\"label\"])\n",
    "        src_text = self.data[idx][\"src_texts\"]\n",
    "        src_label = self.data[idx][\"src_label\"]\n",
    "\n",
    "        return input_ids, seg_emb, att_emb, label, src_text, src_label\n",
    "\n",
    "    def __len__(self):\n",
    "        return len(self.data)"
   ]
  },
  {
   "cell_type": "code",
   "execution_count": 17,
   "id": "7ff42adb",
   "metadata": {},
   "outputs": [],
   "source": [
    "class sbert_Dataset(Dataset):\n",
    "    def __init__(self, list_of_bert):\n",
    "        self.data = list_of_bert\n",
    "    def __getitem__(self, idx):\n",
    "        input_ids = torch.tensor(self.data[idx][\"input_ids\"]).to(device)\n",
    "        seg_emb = torch.tensor(self.data[idx][\"token_type_ids\"]).to(device)\n",
    "        att_emb = torch.tensor(self.data[idx][\"attention_mask\"]).to(device)\n",
    "        label = torch.tensor(self.data[idx][\"label\"])\n",
    "\n",
    "        return ({\"input_ids\":input_ids, \"token_type_ids\":seg_emb, \"attention_mask\":att_emb}, label)\n",
    "\n",
    "    def __len__(self):\n",
    "        return len(self.data)"
   ]
  },
  {
   "cell_type": "code",
   "execution_count": 18,
   "id": "831da1d1",
   "metadata": {},
   "outputs": [],
   "source": [
    "trainSet = sbert_Dataset(bert_train)\n",
    "sTrainLoader = DataLoader(trainSet, batch_size=TRAIN_BATCH_SIZE, shuffle=True)\n",
    "trainSet = intent_Dataset(bert_train)\n",
    "trainLoader = DataLoader(trainSet, batch_size=TRAIN_BATCH_SIZE, shuffle=True)\n",
    "testSet = intent_Dataset(bert_test)\n",
    "testLoader = DataLoader(trainSet, batch_size=TEST_BATCH_SIZE)"
   ]
  },
  {
   "cell_type": "code",
   "execution_count": 19,
   "id": "3dcd1436",
   "metadata": {},
   "outputs": [],
   "source": [
    "train_from = 0\n",
    "if MODEL_PATH.find(\".pt\") != -1:\n",
    "    model.load_state_dict(torch.load(MODEL_PATH)) #######\n",
    "    p = MODEL_PATH.rfind('_')\n",
    "    train_from = int(MODEL_PATH[p+1 : -3])\n",
    "    MODEL_PATH = MODEL_PATH[: p-2]"
   ]
  },
  {
   "cell_type": "code",
   "execution_count": 20,
   "id": "93519010",
   "metadata": {},
   "outputs": [
    {
     "name": "stdout",
     "output_type": "stream",
     "text": [
      "2021-04-01 10:24:32\t[epoch 1] bert_loss: 4.101\n",
      "2021-04-01 10:24:35\t[epoch 2] bert_loss: 4.217\n",
      "2021-04-01 10:24:39\t[epoch 3] bert_loss: 3.211\n",
      "2021-04-01 10:24:42\t[epoch 4] bert_loss: 2.796\n",
      "2021-04-01 10:24:45\t[epoch 5] bert_loss: 1.121\n",
      "2021-04-01 10:24:49\t[epoch 6] bert_loss: 1.126\n",
      "2021-04-01 10:24:52\t[epoch 7] bert_loss: 1.455\n",
      "2021-04-01 10:24:55\t[epoch 8] bert_loss: 1.620\n",
      "2021-04-01 10:24:59\t[epoch 9] bert_loss: 0.816\n",
      "2021-04-01 10:25:02\t[epoch 10] bert_loss: 0.827\n"
     ]
    },
    {
     "data": {
      "image/png": "[encoded data removed]",
      "text/plain": [
       "<Figure size 425.5x360 with 1 Axes>"
      ]
     },
     "metadata": {
      "needs_background": "light"
     },
     "output_type": "display_data"
    }
   ],
   "source": [
    "bert_model.train()\n",
    "bert_model = bert_model.to(device)\n",
    "\n",
    "for epoch in range(train_from, EMB_EPOCHS):\n",
    "    running_bert_loss = 0.0\n",
    "\n",
    "    for data in sTrainLoader:\n",
    "        feature, labels = data\n",
    "        \n",
    "        bert_optimizer.zero_grad()\n",
    "        \n",
    "        bert_loss = triplet_loss([feature], labels.to(device)) # forward passing and get loss\n",
    "        \n",
    "        bert_loss.backward()\n",
    "        bert_optimizer.step()\n",
    "        running_bert_loss += bert_loss.item()\n",
    "        \n",
    "    timestamp(f\"[epoch {epoch+1}] bert_loss: {running_bert_loss:.3f}\")    \n",
    "    writer.add_scalar('Loss/bert', running_bert_loss, epoch)\n",
    "    if (epoch+1) % 10 == 0:\n",
    "            emb_visualize(bert_model, epoch+1)\n",
    "\n",
    "    if (epoch+1) >= 50 and (epoch+1) % 25 == 0:\n",
    "        bert_model.save(f\"{MODEL_PATH}_bert_E_{epoch+1}.pt\")"
   ]
  },
  {
   "cell_type": "code",
   "execution_count": 21,
   "id": "98df5f50",
   "metadata": {},
   "outputs": [
    {
     "name": "stdout",
     "output_type": "stream",
     "text": [
      "2021-04-01 10:25:05\tstart training model/tri_base/ckip_vlight_hs from epoch 1 to 20\n",
      "2021-04-01 10:25:05\t[epoch 1] cls_loss: 66.757\n",
      "[epoch 1] training acc: 0.195804\n",
      "[epoch 1] testing acc: 0.195804\n",
      "2021-04-01 10:25:07\t[epoch 2] cls_loss: 66.405\n",
      "[epoch 2] training acc: 0.430070\n",
      "[epoch 2] testing acc: 0.430070\n",
      "2021-04-01 10:25:08\t[epoch 3] cls_loss: 65.764\n",
      "[epoch 3] training acc: 0.538462\n",
      "[epoch 3] testing acc: 0.541958\n",
      "2021-04-01 10:25:10\t[epoch 4] cls_loss: 64.705\n",
      "[epoch 4] training acc: 0.639860\n",
      "[epoch 4] testing acc: 0.653846\n",
      "2021-04-01 10:25:11\t[epoch 5] cls_loss: 63.212\n",
      "[epoch 5] training acc: 0.730769\n",
      "[epoch 5] testing acc: 0.737762\n",
      "2021-04-01 10:25:13\t[epoch 6] cls_loss: 61.554\n",
      "[epoch 6] training acc: 0.772727\n",
      "[epoch 6] testing acc: 0.779720\n",
      "2021-04-01 10:25:14\t[epoch 7] cls_loss: 59.659\n",
      "[epoch 7] training acc: 0.800699\n",
      "[epoch 7] testing acc: 0.790210\n",
      "2021-04-01 10:25:16\t[epoch 8] cls_loss: 58.132\n",
      "[epoch 8] training acc: 0.818182\n",
      "[epoch 8] testing acc: 0.821678\n",
      "2021-04-01 10:25:18\t[epoch 9] cls_loss: 56.720\n",
      "[epoch 9] training acc: 0.839161\n",
      "[epoch 9] testing acc: 0.839161\n",
      "2021-04-01 10:25:19\t[epoch 10] cls_loss: 55.678\n",
      "[epoch 10] training acc: 0.870629\n",
      "[epoch 10] testing acc: 0.870629\n",
      "2021-04-01 10:25:21\t[epoch 11] cls_loss: 54.730\n",
      "[epoch 11] training acc: 0.898601\n",
      "[epoch 11] testing acc: 0.895105\n",
      "2021-04-01 10:25:22\t[epoch 12] cls_loss: 53.982\n",
      "[epoch 12] training acc: 0.926573\n",
      "[epoch 12] testing acc: 0.926573\n",
      "2021-04-01 10:25:24\t[epoch 13] cls_loss: 53.342\n",
      "[epoch 13] training acc: 0.947552\n",
      "[epoch 13] testing acc: 0.944056\n",
      "2021-04-01 10:25:25\t[epoch 14] cls_loss: 52.805\n",
      "[epoch 14] training acc: 0.954545\n",
      "[epoch 14] testing acc: 0.958042\n",
      "2021-04-01 10:25:27\t[epoch 15] cls_loss: 52.368\n",
      "[epoch 15] training acc: 0.961538\n",
      "[epoch 15] testing acc: 0.961538\n",
      "2021-04-01 10:25:28\t[epoch 16] cls_loss: 52.007\n",
      "[epoch 16] training acc: 0.961538\n",
      "[epoch 16] testing acc: 0.958042\n",
      "2021-04-01 10:25:30\t[epoch 17] cls_loss: 51.756\n",
      "[epoch 17] training acc: 0.958042\n",
      "[epoch 17] testing acc: 0.961538\n",
      "2021-04-01 10:25:31\t[epoch 18] cls_loss: 51.565\n",
      "[epoch 18] training acc: 0.968531\n",
      "[epoch 18] testing acc: 0.972028\n",
      "2021-04-01 10:25:33\t[epoch 19] cls_loss: 51.380\n",
      "[epoch 19] training acc: 0.982517\n",
      "[epoch 19] testing acc: 0.986014\n",
      "2021-04-01 10:25:34\t[epoch 20] cls_loss: 51.208\n",
      "[epoch 20] training acc: 0.989510\n",
      "[epoch 20] testing acc: 0.989510\n"
     ]
    }
   ],
   "source": [
    "timestamp(f\"start training {MODEL_PATH} from epoch {train_from+1} to {CLS_EPOCHS}\")\n",
    "for epoch in range(train_from, CLS_EPOCHS):\n",
    "    running_cls_loss = 0.0\n",
    "\n",
    "    for data in (trainLoader):\n",
    "        tokens_tensors, segments_tensors, masks_tensors, \\\n",
    "        labels = [t.to(device) for t in data if torch.is_tensor(t)]\n",
    "        \n",
    "        # 將參數梯度歸零\n",
    "        cls_optimizer.zero_grad()\n",
    "        \n",
    "        # forward pass\n",
    "        resize = labels.view(-1).shape[0]\n",
    "        emb = bert_model.encode(data[4], convert_to_tensor=True)\n",
    "        outputs = cls_model(emb)\n",
    "        \n",
    "        loss_fct = nn.CrossEntropyLoss()\n",
    "        cls_loss = loss_fct(outputs.intent_cls, labels.view(-1))\n",
    "        \n",
    "        # backward\n",
    "        cls_model.decoder.train()\n",
    "        bert_model.train()\n",
    "        cls_loss.backward()\n",
    "        cls_optimizer.step()\n",
    "        \n",
    "        # 紀錄當前 batch loss\n",
    "        running_cls_loss += cls_loss.item()\n",
    "\n",
    "    timestamp(f\"[epoch {epoch+1}] cls_loss: {running_cls_loss:.3f}\")    \n",
    "    writer.add_scalar('Loss/cls', running_cls_loss, epoch)\n",
    "    \n",
    "    _, acc = get_predictions(bert_model, cls_model, trainLoader, compute_acc=True, get_emb=False)\n",
    "    print(f\"[epoch {epoch+1}] training acc: {acc:.6f}\")\n",
    "    writer.add_scalar('Acc/train', acc, epoch)\n",
    "    \n",
    "    _, acc = get_predictions(bert_model, cls_model, testLoader, compute_acc=True, get_emb=False)\n",
    "    print(f\"[epoch {epoch+1}] testing acc: {acc:.6f}\")\n",
    "    writer.add_scalar('Acc/test', acc, epoch)"
   ]
  },
  {
   "cell_type": "code",
   "execution_count": 24,
   "id": "40c48e9a",
   "metadata": {},
   "outputs": [],
   "source": [
    "bert_model.save(F\"{MODEL_PATH}_bert_E_{EMB_EPOCHS}.pt\")\n",
    "torch.save(cls_model.state_dict(), F\"{MODEL_PATH}_cls_E_{CLS_EPOCHS}.pt\")"
   ]
  },
  {
   "cell_type": "markdown",
   "id": "3195e1dc",
   "metadata": {},
   "source": [
    "## Visualization"
   ]
  },
  {
   "cell_type": "code",
   "execution_count": 23,
   "id": "5fc50fd9",
   "metadata": {},
   "outputs": [
    {
     "data": {
      "image/png": "[encoded data removed]",
      "text/plain": [
       "<Figure size 425.5x360 with 1 Axes>"
      ]
     },
     "metadata": {
      "needs_background": "light"
     },
     "output_type": "display_data"
    }
   ],
   "source": [
    "emb_fig = emb_visualize(bert_model, EMB_EPOCHS)"
   ]
  },
  {
   "cell_type": "code",
   "execution_count": 28,
   "id": "9209a62a",
   "metadata": {},
   "outputs": [],
   "source": [
    "emb_fig.savefig(f\"runs/{DATASET}/{MODEL_NAME}/{str(ALPHA).replace('.','')}_{EMB_EPOCHS}/emb.png\")\n",
    "emb_by_cls_fig.savefig(f\"runs/{DATASET}/{MODEL_NAME}/{str(ALPHA).replace('.','')}_{EMB_EPOCHS}/emb_bycls.png\")"
   ]
  },
  {
   "cell_type": "code",
   "execution_count": null,
   "id": "90b3a2b1",
   "metadata": {},
   "outputs": [],
   "source": []
  },
  {
   "cell_type": "markdown",
   "id": "6e3d2d76",
   "metadata": {},
   "source": [
    "## Test"
   ]
  },
  {
   "cell_type": "code",
   "execution_count": null,
   "id": "0de069ce",
   "metadata": {},
   "outputs": [],
   "source": [
    "testSet = intent_Dataset(\"test\", bert_test)\n",
    "testLoader = DataLoader(testSet, batch_size=TEST_BATCH_SIZE)"
   ]
  },
  {
   "cell_type": "code",
   "execution_count": null,
   "id": "ddc6da50",
   "metadata": {},
   "outputs": [],
   "source": [
    "model = BertForSequenceClassification.from_pretrained(LM, num_labels=num_labels, return_dict=True)"
   ]
  },
  {
   "cell_type": "code",
   "execution_count": null,
   "id": "b60ae503",
   "metadata": {},
   "outputs": [],
   "source": [
    "for e in range(1,9):\n",
    "    model.load_state_dict(torch.load(f\"{MODEL_PATH}_E_{e}.pt\"))\n",
    "    model.eval()\n",
    "    model = model.to(device)\n",
    "    _, acc = get_predictions(model, testLoader, compute_acc=True)\n",
    "    print(f\"[epoch {e}] testing acc: {acc:.6f}\")"
   ]
  },
  {
   "cell_type": "markdown",
   "id": "09cad056",
   "metadata": {},
   "source": [
    "---"
   ]
  },
  {
   "cell_type": "code",
   "execution_count": null,
   "id": "35953366",
   "metadata": {},
   "outputs": [],
   "source": []
  }
 ],
 "metadata": {
  "kernelspec": {
   "display_name": "Python 3",
   "language": "python",
   "name": "python3"
  },
  "language_info": {
   "codemirror_mode": {
    "name": "ipython",
    "version": 3
   },
   "file_extension": ".py",
   "mimetype": "text/x-python",
   "name": "python",
   "nbconvert_exporter": "python",
   "pygments_lexer": "ipython3",
   "version": "3.6.13"
  }
 },
 "nbformat": 4,
 "nbformat_minor": 5
}

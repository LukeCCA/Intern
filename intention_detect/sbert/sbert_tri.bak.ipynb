{
 "cells": [
  {
   "cell_type": "code",
   "execution_count": 3,
   "id": "a3a617fe",
   "metadata": {},
   "outputs": [],
   "source": [
    "!pip install torch\n",
    "!pip install transformers\n",
    "!pip install tqdm\n",
    "!pip install opencc\n",
    "!pip install -U sentence-transformers\n",
    "!pip install tensorboard\n",
    "from IPython.display import clear_output\n",
    "clear_output()"
   ]
  },
  {
   "cell_type": "code",
   "execution_count": 1,
   "id": "46c5a185",
   "metadata": {},
   "outputs": [],
   "source": [
    "import pandas as pd\n",
    "import numpy as np\n",
    "import torch\n",
    "import torch.nn as nn\n",
    "from sentence_transformers import SentenceTransformer, models, SentencesDataset, InputExample, losses, evaluation\n",
    "from tqdm import tqdm\n",
    "import random\n",
    "import json\n",
    "import opencc\n",
    "from sklearn.manifold import TSNE\n",
    "import seaborn as sns\n",
    "from torch.utils.tensorboard import SummaryWriter\n",
    "from torch.utils.data import DataLoader\n",
    "from transformers import AdamW\n",
    "import matplotlib.pyplot as plt"
   ]
  },
  {
   "cell_type": "markdown",
   "id": "bd38a2f0",
   "metadata": {},
   "source": [
    "## Hyper parameter"
   ]
  },
  {
   "cell_type": "code",
   "execution_count": 2,
   "id": "bfb74d6d",
   "metadata": {},
   "outputs": [
    {
     "name": "stdout",
     "output_type": "stream",
     "text": [
      "device: cuda:0\n"
     ]
    }
   ],
   "source": [
    "tokenizer_LM = \"../bert-base-chinese\"\n",
    "NO = 1\n",
    "LM_SET = [\"../bert-base-chinese\", \"../ckiplab/bert-base-chinese\", \"../hfl/chinese-bert-wwm\", \"../hfl/rbtl3\"]\n",
    "MODEL_NAME_SET = [\"base\", \"ckip\", \"wwm\", \"rbtl3\"]\n",
    "LM = LM_SET[NO]\n",
    "MODEL_NAME = MODEL_NAME_SET[NO] + '_vlight' + '_hs'\n",
    "\n",
    "DATASET = \"base\"\n",
    "ALPHA = 0.2\n",
    "CLASSES_PER_BATCH = 5\n",
    "ITEMS_PER_CLASS = 30\n",
    "TRAIN_BATCH_SIZE = 16 # true batch= TRAIN_BTCH_SIZE *3\n",
    "TEST_BATCH_SIZE = 64\n",
    "MODEL_PATH = f\"model/tri_{DATASET}/{MODEL_NAME}\" # svae/load model name/path\n",
    "EMB_EPOCHS = 50\n",
    "CLS_EPOCHS = 10\n",
    "device = torch.device(\"cuda:0\" if torch.cuda.is_available() else \"cpu\")\n",
    "# device=\"cpu\"\n",
    "print(\"device:\", device)"
   ]
  },
  {
   "cell_type": "markdown",
   "id": "438f4fca",
   "metadata": {},
   "source": [
    "## Utility"
   ]
  },
  {
   "cell_type": "code",
   "execution_count": 3,
   "id": "0f794f19",
   "metadata": {},
   "outputs": [],
   "source": [
    "from datetime import datetime,timezone,timedelta\n",
    "def timestamp(msg=\"\"):\n",
    "    dt1 = datetime.utcnow().replace(tzinfo=timezone.utc)\n",
    "    dt2 = dt1.astimezone(timezone(timedelta(hours=8))) # 轉換時區 -> 東八區\n",
    "    print(str(dt2)[:-13] + '\\t' + msg)\n",
    "    return (str(dt2)[:-13] + '\\t' + msg)"
   ]
  },
  {
   "cell_type": "code",
   "execution_count": 4,
   "id": "4e6fcefd",
   "metadata": {},
   "outputs": [],
   "source": [
    "# high-level 顯示此模型裡的 modules\n",
    "def model_info(model):\n",
    "#     print(model.device)\n",
    "    print(\"\"\"\n",
    "    name            module\n",
    "    ----------------------\"\"\")\n",
    "    for name, module in model.named_children():\n",
    "        if name == \"bert\" or name==\"0\":\n",
    "            for n, _ in module.named_children():\n",
    "                print(f\"{name}:{n}\")\n",
    "    #             print(_)\n",
    "        else:\n",
    "            print(\"{:15} {}\".format(name, module))"
   ]
  },
  {
   "cell_type": "code",
   "execution_count": 5,
   "id": "573e63e3",
   "metadata": {},
   "outputs": [],
   "source": [
    "class dotdict(dict):\n",
    "    \"\"\"dot.notation access to dictionary attributes\"\"\"\n",
    "    __getattr__ = dict.get\n",
    "    __setattr__ = dict.__setitem__\n",
    "    __delattr__ = dict.__delitem__"
   ]
  },
  {
   "cell_type": "code",
   "execution_count": 6,
   "id": "7fe95584",
   "metadata": {},
   "outputs": [],
   "source": [
    "def emb_visualize(bert_model):\n",
    "    df = pd.read_csv(f\"data/{DATASET}/train.tsv\", sep='\\t')\n",
    "    # assert len(dataloader.dataset) == df.shape[0]\n",
    "    df = df.sort_values(by=\"labels\", ignore_index=True)\n",
    "    # _, emb = get_predictions(model, trainLoader, compute_acc=False, get_emb=True)\n",
    "    emb = bert_model.encode(df[\"texts\"].tolist(), convert_to_numpy=True)\n",
    "    low_dim_emb = TSNE(n_components=2, perplexity=30).fit_transform(emb)\n",
    "\n",
    "    df[\"f1\"] = low_dim_emb[:, 0]\n",
    "    df[\"f2\"] = low_dim_emb[:, 1]\n",
    "    emb_fig = sns.relplot(\n",
    "        data=df, x=\"f1\", y=\"f2\",\n",
    "        hue=\"labels\", alpha=0.7,\n",
    "        kind=\"scatter\")\n",
    "#     emb_by_cls_fig = sns.relplot(\n",
    "#         data=df, x=\"f1\", y=\"f2\",\n",
    "#         col=\"labels\", col_wrap=4,\n",
    "#         kind=\"scatter\")\n",
    "\n",
    "    emb_fig.savefig(f\"runs/{DATASET}/{MODEL_NAME}/a_{str(ALPHA).replace('.','')}_E_{EMB_EPOCHS}_E_{CLS_EPOCHS}/emb.png\")\n",
    "    return emb_fig#, emb_by_cls_fig"
   ]
  },
  {
   "cell_type": "markdown",
   "id": "15003c91",
   "metadata": {},
   "source": [
    "## Data Preprocess"
   ]
  },
  {
   "cell_type": "code",
   "execution_count": 7,
   "id": "0eb8d471",
   "metadata": {},
   "outputs": [],
   "source": [
    "def get_bert_data(mode, file_path):\n",
    "    assert mode in [\"train\", \"test\", \"dev\"]\n",
    "    df = pd.read_csv(file_path, sep='\\t')\n",
    "    df = df.sort_values(by=[\"labels\"], ignore_index=True)\n",
    "    src_labels = sorted(set(df.labels.tolist()))\n",
    "    num_labels = len(src_labels)\n",
    "    df[\"labels\"] = [src_labels.index(l) for l in df.labels.tolist()]\n",
    "\n",
    "    bert_data = []\n",
    "    texts = df[\"texts\"]\n",
    "    labels = df[\"labels\"]\n",
    "    for i, t in enumerate(texts):\n",
    "        label = labels[i]\n",
    "        bert_dict = InputExample(texts=[t], label=label)\n",
    "        bert_data += [bert_dict]\n",
    "    torch.save(bert_data, f\"bert_data/{DATASET}/sbert_{mode}.pt\")\n",
    "    if mode == \"train\":\n",
    "        return bert_data, num_labels #List[Dict[List]] = List[tokenizer output]\n",
    "    else:\n",
    "        return bert_data"
   ]
  },
  {
   "cell_type": "code",
   "execution_count": 8,
   "id": "9e1e54cb",
   "metadata": {},
   "outputs": [
    {
     "name": "stdout",
     "output_type": "stream",
     "text": [
      "286 41\n",
      "82\n"
     ]
    }
   ],
   "source": [
    "\"\"\"get_bert_data\"\"\"\n",
    "sbert_train, num_labels = get_bert_data(\"train\", f\"data/{DATASET}/train.tsv\")\n",
    "print(len(sbert_train), num_labels)\n",
    "bert_test = get_bert_data(\"test\", f\"data/{DATASET}/test.tsv\")\n",
    "print(len(bert_test))"
   ]
  },
  {
   "cell_type": "code",
   "execution_count": 9,
   "id": "073ceea7",
   "metadata": {},
   "outputs": [
    {
     "name": "stdout",
     "output_type": "stream",
     "text": [
      "286\n",
      "286\n",
      "41\n"
     ]
    }
   ],
   "source": [
    "\"\"\"train data\"\"\"\n",
    "sbert_train = torch.load(f\"bert_data/{DATASET}/sbert_train.pt\")\n",
    "print(len(sbert_train))\n",
    "num_labels = 41 if DATASET==\"base\" else 31\n",
    "bert_train = torch.load(f\"bert_data/{DATASET}/train.pt\")\n",
    "print(len(bert_train))\n",
    "bert_train_by_class = []\n",
    "for c in range(num_labels):\n",
    "    bert_train_by_class += [[item for item in bert_train if item[\"label\"]==c]]\n",
    "print(len(bert_train_by_class))"
   ]
  },
  {
   "cell_type": "code",
   "execution_count": 10,
   "id": "59a1d52b",
   "metadata": {},
   "outputs": [
    {
     "data": {
      "text/plain": [
       "82"
      ]
     },
     "execution_count": 10,
     "metadata": {},
     "output_type": "execute_result"
    }
   ],
   "source": [
    "\"\"\"testing data\"\"\"\n",
    "bert_test = torch.load(f\"bert_data/{DATASET}/test.pt\")\n",
    "len(bert_test)"
   ]
  },
  {
   "cell_type": "markdown",
   "id": "5d1fffe6",
   "metadata": {},
   "source": [
    "## Model and DataSet"
   ]
  },
  {
   "cell_type": "code",
   "execution_count": 11,
   "id": "66b54e48",
   "metadata": {},
   "outputs": [
    {
     "name": "stdout",
     "output_type": "stream",
     "text": [
      "\n",
      "    name            module\n",
      "    ----------------------\n",
      "0:auto_model\n",
      "1               Pooling()\n"
     ]
    }
   ],
   "source": [
    "bert = models.Transformer(LM, max_seq_length=128)\n",
    "bert_hidden_size = bert.get_word_embedding_dimension()\n",
    "pooler = models.Pooling(bert_hidden_size) # necessary for SentenceTransformer from scratch with dense\n",
    "# encoder_1 = models.Dense(bert_hidden_size, bert_hidden_size)\n",
    "# encoder_2 = models.Dense(bert_hidden_size, bert_hidden_size)\n",
    "# encoder_3 = models.Dense(bert_hidden_size, 50)\n",
    "\n",
    "bert_model = SentenceTransformer(modules=[bert, pooler], device=device)\n",
    "# triplet_loss = losses.BatchSemiHardTripletLoss(model=bert_model, margin=ALPHA) # bert_model loss\n",
    "# triplet_loss = losses.BatchHardTripletLoss(model=bert_model, margin=ALPHA) # bert_model loss\n",
    "triplet_loss = losses.BatchHardSoftMarginTripletLoss(model=bert_model) # bert_model loss\n",
    "# triplet_loss = losses.BatchAllTripletLoss(model=bert_model, margin=ALPHA) # bert_model loss\n",
    "\n",
    "model_info(bert_model)"
   ]
  },
  {
   "cell_type": "code",
   "execution_count": 12,
   "id": "bbaa1130",
   "metadata": {},
   "outputs": [],
   "source": [
    "class intent_classifier(nn.Module):\n",
    "    def __init__(self, encoder_hidden_size, decoder_hidden_size, num_labels):\n",
    "        super().__init__()\n",
    "        self.decoder = nn.Sequential(\n",
    "#             nn.Dropout(0.1),\n",
    "#             nn.Linear(encoder_hidden_size, decoder_hidden_size),\n",
    "#             nn.Tanh(),\n",
    "            nn.Dropout(0.1),\n",
    "            nn.Linear(encoder_hidden_size, num_labels),\n",
    "            nn.Softmax(dim=1)\n",
    "        )\n",
    "        \n",
    "    def forward(self, emb):\n",
    "        intent_cls = self.decoder(emb)\n",
    "        \n",
    "        return dotdict(\n",
    "            intent_cls=intent_cls) # batch_size * num_labels"
   ]
  },
  {
   "cell_type": "code",
   "execution_count": 13,
   "id": "e6328b72",
   "metadata": {},
   "outputs": [
    {
     "name": "stdout",
     "output_type": "stream",
     "text": [
      "\n",
      "    name            module\n",
      "    ----------------------\n",
      "decoder         Sequential(\n",
      "  (0): Dropout(p=0.1, inplace=False)\n",
      "  (1): Linear(in_features=768, out_features=41, bias=True)\n",
      "  (2): Softmax(dim=1)\n",
      ")\n"
     ]
    }
   ],
   "source": [
    "cls_model = intent_classifier(768, 64, num_labels)\n",
    "cls_optimizer = AdamW([{\"params\": bert_model.parameters()}, {\"params\": cls_model.decoder.parameters()}], lr=2e-4) # AdamW = BertAdam\n",
    "cls_model = cls_model.to(device)\n",
    "model_info(cls_model)"
   ]
  },
  {
   "cell_type": "markdown",
   "id": "5fa85255",
   "metadata": {},
   "source": [
    "## Train & validate"
   ]
  },
  {
   "cell_type": "code",
   "execution_count": 30,
   "id": "17ec3ebc",
   "metadata": {},
   "outputs": [],
   "source": [
    "def get_predictions(bert_model, cls_model, dataloader, compute_acc, get_emb):\n",
    "    predictions = None\n",
    "    correct = 0\n",
    "    total = 0\n",
    "    embs = None\n",
    "      \n",
    "    with torch.no_grad():\n",
    "        # 遍巡整個資料集\n",
    "        for data in dataloader:\n",
    "            tokens_tensors, segments_tensors, masks_tensors,\\\n",
    "            labels = [t.to(device) for t in data if torch.is_tensor(t)]\n",
    "            \n",
    "            emb = bert_model.encode(data[4], convert_to_tensor=True)\n",
    "            outputs = cls_model(emb)\n",
    "            \n",
    "            \n",
    "            _, pred = torch.max(outputs.intent_cls.data, 1) # _: logits最大數值; pred: 最大數值的 index\n",
    "            \n",
    "            # 用來計算訓練集的分類準確率\n",
    "            if compute_acc:\n",
    "                total += labels.size(0)\n",
    "                correct += (pred == labels).sum().item()\n",
    "                \n",
    "            # 將當前 batch 記錄下來\n",
    "            if predictions is None:\n",
    "                predictions = pred\n",
    "            else:\n",
    "                predictions = torch.cat((predictions, pred))\n",
    "            \n",
    "            if get_emb:\n",
    "                if embs is None:\n",
    "                    embs = outputs.emb\n",
    "                else:\n",
    "                    embs = torch.cat((embs, emb))\n",
    "\n",
    "    if compute_acc and get_emb:\n",
    "        return predictions, acc, embs\n",
    "    if compute_acc:\n",
    "        acc = correct / total\n",
    "        return predictions, acc\n",
    "    if get_emb:\n",
    "        return predictions, embs\n",
    "    return predictions"
   ]
  },
  {
   "cell_type": "code",
   "execution_count": 31,
   "id": "23258d94",
   "metadata": {},
   "outputs": [],
   "source": [
    "\"\"\"\n",
    "Select the triplets for training\n",
    "from facenet https://github.com/davidsandberg/facenet/blob/master/src/train_tripletloss.py#L271 \n",
    ":param embeddings: 2d array(nrof_example * hidden_size)\n",
    ":param nrof_items_per_class: num_per_class (List)\n",
    ":param bert_data: list of bert data by class (List[Dict{input_ids...}]) (len=num_labels)\n",
    "\"\"\"\n",
    "\n",
    "def triplet_sample(bert_data, nrof_items_per_class, class_per_batch):\n",
    "    anchor = []\n",
    "    positive = []\n",
    "    negative = []\n",
    "    \n",
    "    # VGG Face: Choosing good triplets is crucial and should strike a balance between\n",
    "    #  selecting informative (i.e. challenging) examples and swamping training with examples that\n",
    "    #  are too hard. This is achieve by extending each pair (a, p) to a triplet (a, p, n) by sampling\n",
    "    #  the image n at random, but only between the ones that violate the triplet loss margin. The\n",
    "    #  latter is a form of hard-negative mining, but it is not as aggressive (and much cheaper) than\n",
    "    #  choosing the maximally violating example, as often done in structured output learning.\n",
    "\n",
    "    for i in range(class_per_batch): # 跑 n 個 class\n",
    "        for j in range(nrof_items_per_class[i]):\n",
    "            a_idx, p_idx = random.sample(range(len(bert_data[i])), 2)\n",
    "            n = random.choice([ele for ele in range(class_per_batch) if ele != i]) \n",
    "            n_idx = random.choice(range(len(bert_data[n])))\n",
    "    #         print(i, n, a_idx, p_idx, n_idx)\n",
    "\n",
    "            anchor += [bert_data[i][a_idx][\"src_texts\"]]\n",
    "            positive += [bert_data[i][p_idx][\"src_texts\"]]\n",
    "            negative += [bert_data[n][n_idx][\"src_texts\"]]\n",
    "\n",
    "    return anchor, positive, negative"
   ]
  },
  {
   "cell_type": "code",
   "execution_count": 15,
   "id": "6b9d695c",
   "metadata": {},
   "outputs": [],
   "source": [
    "\"\"\"tensorboard logger\"\"\"\n",
    "writer = SummaryWriter(f\"runs/{DATASET}/{MODEL_NAME}/a_{str(ALPHA).replace('.','')}_E_{EMB_EPOCHS}_E_{CLS_EPOCHS}\")\n",
    "# writer = SummaryWriter(f\"runs/{DATASET}/{MODEL_NAME}/test\")"
   ]
  },
  {
   "cell_type": "code",
   "execution_count": 16,
   "id": "717496e9",
   "metadata": {},
   "outputs": [],
   "source": [
    "train_from = 0\n",
    "if MODEL_PATH.find(\".pt\") != -1:\n",
    "    model.load_state_dict(torch.load(MODEL_PATH)) #######\n",
    "    p = MODEL_PATH.rfind('_')\n",
    "    train_from = int(MODEL_PATH[p+1 : -3])\n",
    "    MODEL_PATH = MODEL_PATH[: p-2]"
   ]
  },
  {
   "cell_type": "code",
   "execution_count": 17,
   "id": "f61be0d9",
   "metadata": {},
   "outputs": [],
   "source": [
    "trainSet = SentencesDataset(sbert_train, bert_model)\n",
    "trainLoader = DataLoader(trainSet, batch_size=TRAIN_BATCH_SIZE, shuffle=True)"
   ]
  },
  {
   "cell_type": "code",
   "execution_count": 18,
   "id": "83c4a06a",
   "metadata": {},
   "outputs": [],
   "source": [
    "# sample triplet\n",
    "anchor, positive, negative = triplet_sample(bert_train_by_class, [75]*num_labels, num_labels)"
   ]
  },
  {
   "cell_type": "code",
   "execution_count": 19,
   "id": "2f1c92fd",
   "metadata": {},
   "outputs": [
    {
     "data": {
      "application/vnd.jupyter.widget-view+json": {
       "model_id": "323cd120a5f0401f9e1af168cc8d1d0d",
       "version_major": 2,
       "version_minor": 0
      },
      "text/plain": [
       "HBox(children=(FloatProgress(value=0.0, description='Epoch', max=50.0, style=ProgressStyle(description_width='…"
      ]
     },
     "metadata": {},
     "output_type": "display_data"
    },
    {
     "data": {
      "application/vnd.jupyter.widget-view+json": {
       "model_id": "727d2347108f4987bb2eaa0d0ce38e6b",
       "version_major": 2,
       "version_minor": 0
      },
      "text/plain": [
       "HBox(children=(FloatProgress(value=0.0, description='Iteration', max=18.0, style=ProgressStyle(description_wid…"
      ]
     },
     "metadata": {},
     "output_type": "display_data"
    },
    {
     "name": "stdout",
     "output_type": "stream",
     "text": [
      "\n"
     ]
    },
    {
     "data": {
      "application/vnd.jupyter.widget-view+json": {
       "model_id": "6f9cb417e02f484686a01f1a61077499",
       "version_major": 2,
       "version_minor": 0
      },
      "text/plain": [
       "HBox(children=(FloatProgress(value=0.0, description='Iteration', max=18.0, style=ProgressStyle(description_wid…"
      ]
     },
     "metadata": {},
     "output_type": "display_data"
    },
    {
     "name": "stdout",
     "output_type": "stream",
     "text": [
      "\n"
     ]
    },
    {
     "data": {
      "application/vnd.jupyter.widget-view+json": {
       "model_id": "4f980a8ab76244e7a9bf7fbbc6f1f6dd",
       "version_major": 2,
       "version_minor": 0
      },
      "text/plain": [
       "HBox(children=(FloatProgress(value=0.0, description='Iteration', max=18.0, style=ProgressStyle(description_wid…"
      ]
     },
     "metadata": {},
     "output_type": "display_data"
    },
    {
     "name": "stdout",
     "output_type": "stream",
     "text": [
      "\n"
     ]
    },
    {
     "data": {
      "application/vnd.jupyter.widget-view+json": {
       "model_id": "d87d056911fd47998b6646c7f98aab11",
       "version_major": 2,
       "version_minor": 0
      },
      "text/plain": [
       "HBox(children=(FloatProgress(value=0.0, description='Iteration', max=18.0, style=ProgressStyle(description_wid…"
      ]
     },
     "metadata": {},
     "output_type": "display_data"
    },
    {
     "name": "stdout",
     "output_type": "stream",
     "text": [
      "\n"
     ]
    },
    {
     "data": {
      "application/vnd.jupyter.widget-view+json": {
       "model_id": "1df9c8d5715a4259906021e89c7d01fc",
       "version_major": 2,
       "version_minor": 0
      },
      "text/plain": [
       "HBox(children=(FloatProgress(value=0.0, description='Iteration', max=18.0, style=ProgressStyle(description_wid…"
      ]
     },
     "metadata": {},
     "output_type": "display_data"
    },
    {
     "name": "stdout",
     "output_type": "stream",
     "text": [
      "\n"
     ]
    },
    {
     "data": {
      "application/vnd.jupyter.widget-view+json": {
       "model_id": "456a9905504b41eca4cfe91e42e2b341",
       "version_major": 2,
       "version_minor": 0
      },
      "text/plain": [
       "HBox(children=(FloatProgress(value=0.0, description='Iteration', max=18.0, style=ProgressStyle(description_wid…"
      ]
     },
     "metadata": {},
     "output_type": "display_data"
    },
    {
     "name": "stdout",
     "output_type": "stream",
     "text": [
      "\n"
     ]
    },
    {
     "data": {
      "application/vnd.jupyter.widget-view+json": {
       "model_id": "9ba9f215201842c0a1ee15665ba75213",
       "version_major": 2,
       "version_minor": 0
      },
      "text/plain": [
       "HBox(children=(FloatProgress(value=0.0, description='Iteration', max=18.0, style=ProgressStyle(description_wid…"
      ]
     },
     "metadata": {},
     "output_type": "display_data"
    },
    {
     "name": "stdout",
     "output_type": "stream",
     "text": [
      "\n"
     ]
    },
    {
     "data": {
      "application/vnd.jupyter.widget-view+json": {
       "model_id": "0b0fd39e2b0d4a40af274782595e0912",
       "version_major": 2,
       "version_minor": 0
      },
      "text/plain": [
       "HBox(children=(FloatProgress(value=0.0, description='Iteration', max=18.0, style=ProgressStyle(description_wid…"
      ]
     },
     "metadata": {},
     "output_type": "display_data"
    },
    {
     "name": "stdout",
     "output_type": "stream",
     "text": [
      "\n"
     ]
    },
    {
     "data": {
      "application/vnd.jupyter.widget-view+json": {
       "model_id": "b41016db22fd4fdaaca747871676a750",
       "version_major": 2,
       "version_minor": 0
      },
      "text/plain": [
       "HBox(children=(FloatProgress(value=0.0, description='Iteration', max=18.0, style=ProgressStyle(description_wid…"
      ]
     },
     "metadata": {},
     "output_type": "display_data"
    },
    {
     "name": "stdout",
     "output_type": "stream",
     "text": [
      "\n"
     ]
    },
    {
     "data": {
      "application/vnd.jupyter.widget-view+json": {
       "model_id": "378df86188af4702936d203579444398",
       "version_major": 2,
       "version_minor": 0
      },
      "text/plain": [
       "HBox(children=(FloatProgress(value=0.0, description='Iteration', max=18.0, style=ProgressStyle(description_wid…"
      ]
     },
     "metadata": {},
     "output_type": "display_data"
    },
    {
     "name": "stdout",
     "output_type": "stream",
     "text": [
      "\n"
     ]
    },
    {
     "data": {
      "application/vnd.jupyter.widget-view+json": {
       "model_id": "dbfefbd32b6b4a78954620c2b04dab49",
       "version_major": 2,
       "version_minor": 0
      },
      "text/plain": [
       "HBox(children=(FloatProgress(value=0.0, description='Iteration', max=18.0, style=ProgressStyle(description_wid…"
      ]
     },
     "metadata": {},
     "output_type": "display_data"
    },
    {
     "name": "stdout",
     "output_type": "stream",
     "text": [
      "\n"
     ]
    },
    {
     "data": {
      "application/vnd.jupyter.widget-view+json": {
       "model_id": "c1ab15e0900942c1b76d727c60315a71",
       "version_major": 2,
       "version_minor": 0
      },
      "text/plain": [
       "HBox(children=(FloatProgress(value=0.0, description='Iteration', max=18.0, style=ProgressStyle(description_wid…"
      ]
     },
     "metadata": {},
     "output_type": "display_data"
    },
    {
     "name": "stdout",
     "output_type": "stream",
     "text": [
      "\n"
     ]
    },
    {
     "data": {
      "application/vnd.jupyter.widget-view+json": {
       "model_id": "8f96ddf4ce0e4e03a4aee0f19669eedf",
       "version_major": 2,
       "version_minor": 0
      },
      "text/plain": [
       "HBox(children=(FloatProgress(value=0.0, description='Iteration', max=18.0, style=ProgressStyle(description_wid…"
      ]
     },
     "metadata": {},
     "output_type": "display_data"
    },
    {
     "name": "stdout",
     "output_type": "stream",
     "text": [
      "\n"
     ]
    },
    {
     "data": {
      "application/vnd.jupyter.widget-view+json": {
       "model_id": "5c338080f12841c58c1148fcaa6e789c",
       "version_major": 2,
       "version_minor": 0
      },
      "text/plain": [
       "HBox(children=(FloatProgress(value=0.0, description='Iteration', max=18.0, style=ProgressStyle(description_wid…"
      ]
     },
     "metadata": {},
     "output_type": "display_data"
    },
    {
     "name": "stdout",
     "output_type": "stream",
     "text": [
      "\n"
     ]
    },
    {
     "data": {
      "application/vnd.jupyter.widget-view+json": {
       "model_id": "2fd36c5d352d4ffd8b1016bdf8cca00b",
       "version_major": 2,
       "version_minor": 0
      },
      "text/plain": [
       "HBox(children=(FloatProgress(value=0.0, description='Iteration', max=18.0, style=ProgressStyle(description_wid…"
      ]
     },
     "metadata": {},
     "output_type": "display_data"
    },
    {
     "name": "stdout",
     "output_type": "stream",
     "text": [
      "\n"
     ]
    },
    {
     "data": {
      "application/vnd.jupyter.widget-view+json": {
       "model_id": "2f186d0573ae49b2a0a75e8070b98375",
       "version_major": 2,
       "version_minor": 0
      },
      "text/plain": [
       "HBox(children=(FloatProgress(value=0.0, description='Iteration', max=18.0, style=ProgressStyle(description_wid…"
      ]
     },
     "metadata": {},
     "output_type": "display_data"
    },
    {
     "name": "stdout",
     "output_type": "stream",
     "text": [
      "\n"
     ]
    },
    {
     "data": {
      "application/vnd.jupyter.widget-view+json": {
       "model_id": "703ef3273bf14d8fbc98aacb4c8f53e5",
       "version_major": 2,
       "version_minor": 0
      },
      "text/plain": [
       "HBox(children=(FloatProgress(value=0.0, description='Iteration', max=18.0, style=ProgressStyle(description_wid…"
      ]
     },
     "metadata": {},
     "output_type": "display_data"
    },
    {
     "name": "stdout",
     "output_type": "stream",
     "text": [
      "\n"
     ]
    },
    {
     "data": {
      "application/vnd.jupyter.widget-view+json": {
       "model_id": "aa22473e960542eaba8c537f8882620e",
       "version_major": 2,
       "version_minor": 0
      },
      "text/plain": [
       "HBox(children=(FloatProgress(value=0.0, description='Iteration', max=18.0, style=ProgressStyle(description_wid…"
      ]
     },
     "metadata": {},
     "output_type": "display_data"
    },
    {
     "name": "stdout",
     "output_type": "stream",
     "text": [
      "\n"
     ]
    },
    {
     "data": {
      "application/vnd.jupyter.widget-view+json": {
       "model_id": "b60f1c630c89420d81c4cd12f2cd7aa8",
       "version_major": 2,
       "version_minor": 0
      },
      "text/plain": [
       "HBox(children=(FloatProgress(value=0.0, description='Iteration', max=18.0, style=ProgressStyle(description_wid…"
      ]
     },
     "metadata": {},
     "output_type": "display_data"
    },
    {
     "name": "stdout",
     "output_type": "stream",
     "text": [
      "\n"
     ]
    },
    {
     "data": {
      "application/vnd.jupyter.widget-view+json": {
       "model_id": "0f20b46eae8f409db53f166b90c3c25a",
       "version_major": 2,
       "version_minor": 0
      },
      "text/plain": [
       "HBox(children=(FloatProgress(value=0.0, description='Iteration', max=18.0, style=ProgressStyle(description_wid…"
      ]
     },
     "metadata": {},
     "output_type": "display_data"
    },
    {
     "name": "stdout",
     "output_type": "stream",
     "text": [
      "\n"
     ]
    },
    {
     "data": {
      "application/vnd.jupyter.widget-view+json": {
       "model_id": "d809f9aa26d14bb6b9510dab3fe248d7",
       "version_major": 2,
       "version_minor": 0
      },
      "text/plain": [
       "HBox(children=(FloatProgress(value=0.0, description='Iteration', max=18.0, style=ProgressStyle(description_wid…"
      ]
     },
     "metadata": {},
     "output_type": "display_data"
    },
    {
     "name": "stdout",
     "output_type": "stream",
     "text": [
      "\n"
     ]
    },
    {
     "data": {
      "application/vnd.jupyter.widget-view+json": {
       "model_id": "86bf464df32d478e890d734c14faf1cf",
       "version_major": 2,
       "version_minor": 0
      },
      "text/plain": [
       "HBox(children=(FloatProgress(value=0.0, description='Iteration', max=18.0, style=ProgressStyle(description_wid…"
      ]
     },
     "metadata": {},
     "output_type": "display_data"
    },
    {
     "name": "stdout",
     "output_type": "stream",
     "text": [
      "\n"
     ]
    },
    {
     "data": {
      "application/vnd.jupyter.widget-view+json": {
       "model_id": "66b4be26a3834a318f4b19aa27079877",
       "version_major": 2,
       "version_minor": 0
      },
      "text/plain": [
       "HBox(children=(FloatProgress(value=0.0, description='Iteration', max=18.0, style=ProgressStyle(description_wid…"
      ]
     },
     "metadata": {},
     "output_type": "display_data"
    },
    {
     "name": "stdout",
     "output_type": "stream",
     "text": [
      "\n"
     ]
    },
    {
     "data": {
      "application/vnd.jupyter.widget-view+json": {
       "model_id": "ca58b9c048364597bcf27ea3fec0b58c",
       "version_major": 2,
       "version_minor": 0
      },
      "text/plain": [
       "HBox(children=(FloatProgress(value=0.0, description='Iteration', max=18.0, style=ProgressStyle(description_wid…"
      ]
     },
     "metadata": {},
     "output_type": "display_data"
    },
    {
     "name": "stdout",
     "output_type": "stream",
     "text": [
      "\n"
     ]
    },
    {
     "data": {
      "application/vnd.jupyter.widget-view+json": {
       "model_id": "2cbcce5e46334bc797d7e53608c0e854",
       "version_major": 2,
       "version_minor": 0
      },
      "text/plain": [
       "HBox(children=(FloatProgress(value=0.0, description='Iteration', max=18.0, style=ProgressStyle(description_wid…"
      ]
     },
     "metadata": {},
     "output_type": "display_data"
    },
    {
     "name": "stdout",
     "output_type": "stream",
     "text": [
      "\n"
     ]
    },
    {
     "data": {
      "application/vnd.jupyter.widget-view+json": {
       "model_id": "fa55506fa59a4e1e944cd97f54e7f410",
       "version_major": 2,
       "version_minor": 0
      },
      "text/plain": [
       "HBox(children=(FloatProgress(value=0.0, description='Iteration', max=18.0, style=ProgressStyle(description_wid…"
      ]
     },
     "metadata": {},
     "output_type": "display_data"
    },
    {
     "name": "stdout",
     "output_type": "stream",
     "text": [
      "\n"
     ]
    },
    {
     "data": {
      "application/vnd.jupyter.widget-view+json": {
       "model_id": "6062e75c2974432eb7a8706ec8f5f50a",
       "version_major": 2,
       "version_minor": 0
      },
      "text/plain": [
       "HBox(children=(FloatProgress(value=0.0, description='Iteration', max=18.0, style=ProgressStyle(description_wid…"
      ]
     },
     "metadata": {},
     "output_type": "display_data"
    },
    {
     "name": "stdout",
     "output_type": "stream",
     "text": [
      "\n"
     ]
    },
    {
     "data": {
      "application/vnd.jupyter.widget-view+json": {
       "model_id": "1a5f112e8dd64d90a5acf9ec7ea6f0d3",
       "version_major": 2,
       "version_minor": 0
      },
      "text/plain": [
       "HBox(children=(FloatProgress(value=0.0, description='Iteration', max=18.0, style=ProgressStyle(description_wid…"
      ]
     },
     "metadata": {},
     "output_type": "display_data"
    },
    {
     "name": "stdout",
     "output_type": "stream",
     "text": [
      "\n"
     ]
    },
    {
     "data": {
      "application/vnd.jupyter.widget-view+json": {
       "model_id": "8932372f78b34fbba01cb40ae210471b",
       "version_major": 2,
       "version_minor": 0
      },
      "text/plain": [
       "HBox(children=(FloatProgress(value=0.0, description='Iteration', max=18.0, style=ProgressStyle(description_wid…"
      ]
     },
     "metadata": {},
     "output_type": "display_data"
    },
    {
     "name": "stdout",
     "output_type": "stream",
     "text": [
      "\n"
     ]
    },
    {
     "data": {
      "application/vnd.jupyter.widget-view+json": {
       "model_id": "f4140901d04a4ffd963009aeb4370b5b",
       "version_major": 2,
       "version_minor": 0
      },
      "text/plain": [
       "HBox(children=(FloatProgress(value=0.0, description='Iteration', max=18.0, style=ProgressStyle(description_wid…"
      ]
     },
     "metadata": {},
     "output_type": "display_data"
    },
    {
     "name": "stdout",
     "output_type": "stream",
     "text": [
      "\n"
     ]
    },
    {
     "data": {
      "application/vnd.jupyter.widget-view+json": {
       "model_id": "e50333b8d08b41849ced7a622c53f8b0",
       "version_major": 2,
       "version_minor": 0
      },
      "text/plain": [
       "HBox(children=(FloatProgress(value=0.0, description='Iteration', max=18.0, style=ProgressStyle(description_wid…"
      ]
     },
     "metadata": {},
     "output_type": "display_data"
    },
    {
     "name": "stdout",
     "output_type": "stream",
     "text": [
      "\n"
     ]
    },
    {
     "data": {
      "application/vnd.jupyter.widget-view+json": {
       "model_id": "03c7584d609f486091d29f07279eea49",
       "version_major": 2,
       "version_minor": 0
      },
      "text/plain": [
       "HBox(children=(FloatProgress(value=0.0, description='Iteration', max=18.0, style=ProgressStyle(description_wid…"
      ]
     },
     "metadata": {},
     "output_type": "display_data"
    },
    {
     "name": "stdout",
     "output_type": "stream",
     "text": [
      "\n"
     ]
    },
    {
     "data": {
      "application/vnd.jupyter.widget-view+json": {
       "model_id": "6bdfea8827b340488c2006ec6a0c7c95",
       "version_major": 2,
       "version_minor": 0
      },
      "text/plain": [
       "HBox(children=(FloatProgress(value=0.0, description='Iteration', max=18.0, style=ProgressStyle(description_wid…"
      ]
     },
     "metadata": {},
     "output_type": "display_data"
    },
    {
     "name": "stdout",
     "output_type": "stream",
     "text": [
      "\n"
     ]
    },
    {
     "data": {
      "application/vnd.jupyter.widget-view+json": {
       "model_id": "76366c8b7e8e449eb5a19056d6b1afd7",
       "version_major": 2,
       "version_minor": 0
      },
      "text/plain": [
       "HBox(children=(FloatProgress(value=0.0, description='Iteration', max=18.0, style=ProgressStyle(description_wid…"
      ]
     },
     "metadata": {},
     "output_type": "display_data"
    },
    {
     "name": "stdout",
     "output_type": "stream",
     "text": [
      "\n"
     ]
    },
    {
     "data": {
      "application/vnd.jupyter.widget-view+json": {
       "model_id": "195225851b5e462591067dc15719f27b",
       "version_major": 2,
       "version_minor": 0
      },
      "text/plain": [
       "HBox(children=(FloatProgress(value=0.0, description='Iteration', max=18.0, style=ProgressStyle(description_wid…"
      ]
     },
     "metadata": {},
     "output_type": "display_data"
    },
    {
     "name": "stdout",
     "output_type": "stream",
     "text": [
      "\n"
     ]
    },
    {
     "data": {
      "application/vnd.jupyter.widget-view+json": {
       "model_id": "2504fb71626a4b1aadbd48dfb96d263c",
       "version_major": 2,
       "version_minor": 0
      },
      "text/plain": [
       "HBox(children=(FloatProgress(value=0.0, description='Iteration', max=18.0, style=ProgressStyle(description_wid…"
      ]
     },
     "metadata": {},
     "output_type": "display_data"
    },
    {
     "name": "stdout",
     "output_type": "stream",
     "text": [
      "\n"
     ]
    },
    {
     "data": {
      "application/vnd.jupyter.widget-view+json": {
       "model_id": "a9b8215ec0ce4294b74f02746573f4e6",
       "version_major": 2,
       "version_minor": 0
      },
      "text/plain": [
       "HBox(children=(FloatProgress(value=0.0, description='Iteration', max=18.0, style=ProgressStyle(description_wid…"
      ]
     },
     "metadata": {},
     "output_type": "display_data"
    },
    {
     "name": "stdout",
     "output_type": "stream",
     "text": [
      "\n"
     ]
    },
    {
     "data": {
      "application/vnd.jupyter.widget-view+json": {
       "model_id": "646a906f5f074f7d8f75f3f5a2fe4d9f",
       "version_major": 2,
       "version_minor": 0
      },
      "text/plain": [
       "HBox(children=(FloatProgress(value=0.0, description='Iteration', max=18.0, style=ProgressStyle(description_wid…"
      ]
     },
     "metadata": {},
     "output_type": "display_data"
    },
    {
     "name": "stdout",
     "output_type": "stream",
     "text": [
      "\n"
     ]
    },
    {
     "data": {
      "application/vnd.jupyter.widget-view+json": {
       "model_id": "a025e4969930480cbaef7b4d3e40b4b0",
       "version_major": 2,
       "version_minor": 0
      },
      "text/plain": [
       "HBox(children=(FloatProgress(value=0.0, description='Iteration', max=18.0, style=ProgressStyle(description_wid…"
      ]
     },
     "metadata": {},
     "output_type": "display_data"
    },
    {
     "name": "stdout",
     "output_type": "stream",
     "text": [
      "\n"
     ]
    },
    {
     "data": {
      "application/vnd.jupyter.widget-view+json": {
       "model_id": "cd3b88bc7ca349798fbda63618afe46a",
       "version_major": 2,
       "version_minor": 0
      },
      "text/plain": [
       "HBox(children=(FloatProgress(value=0.0, description='Iteration', max=18.0, style=ProgressStyle(description_wid…"
      ]
     },
     "metadata": {},
     "output_type": "display_data"
    },
    {
     "name": "stdout",
     "output_type": "stream",
     "text": [
      "\n"
     ]
    },
    {
     "data": {
      "application/vnd.jupyter.widget-view+json": {
       "model_id": "d829c7ff30584571955ccad0ef9fe937",
       "version_major": 2,
       "version_minor": 0
      },
      "text/plain": [
       "HBox(children=(FloatProgress(value=0.0, description='Iteration', max=18.0, style=ProgressStyle(description_wid…"
      ]
     },
     "metadata": {},
     "output_type": "display_data"
    },
    {
     "name": "stdout",
     "output_type": "stream",
     "text": [
      "\n"
     ]
    },
    {
     "data": {
      "application/vnd.jupyter.widget-view+json": {
       "model_id": "6477579aa71f4de88f0419f04f3fe2b4",
       "version_major": 2,
       "version_minor": 0
      },
      "text/plain": [
       "HBox(children=(FloatProgress(value=0.0, description='Iteration', max=18.0, style=ProgressStyle(description_wid…"
      ]
     },
     "metadata": {},
     "output_type": "display_data"
    },
    {
     "name": "stdout",
     "output_type": "stream",
     "text": [
      "\n"
     ]
    },
    {
     "data": {
      "application/vnd.jupyter.widget-view+json": {
       "model_id": "72f5aa73f12c41b5b76e748c4899e146",
       "version_major": 2,
       "version_minor": 0
      },
      "text/plain": [
       "HBox(children=(FloatProgress(value=0.0, description='Iteration', max=18.0, style=ProgressStyle(description_wid…"
      ]
     },
     "metadata": {},
     "output_type": "display_data"
    },
    {
     "name": "stdout",
     "output_type": "stream",
     "text": [
      "\n"
     ]
    },
    {
     "data": {
      "application/vnd.jupyter.widget-view+json": {
       "model_id": "5f343e30f4e44d6c957f5269d83f14df",
       "version_major": 2,
       "version_minor": 0
      },
      "text/plain": [
       "HBox(children=(FloatProgress(value=0.0, description='Iteration', max=18.0, style=ProgressStyle(description_wid…"
      ]
     },
     "metadata": {},
     "output_type": "display_data"
    },
    {
     "name": "stdout",
     "output_type": "stream",
     "text": [
      "\n"
     ]
    },
    {
     "data": {
      "application/vnd.jupyter.widget-view+json": {
       "model_id": "05653d5ab8a54206a5057b8e74c1bbb7",
       "version_major": 2,
       "version_minor": 0
      },
      "text/plain": [
       "HBox(children=(FloatProgress(value=0.0, description='Iteration', max=18.0, style=ProgressStyle(description_wid…"
      ]
     },
     "metadata": {},
     "output_type": "display_data"
    },
    {
     "name": "stdout",
     "output_type": "stream",
     "text": [
      "\n"
     ]
    },
    {
     "data": {
      "application/vnd.jupyter.widget-view+json": {
       "model_id": "8c8b857017ef4bdf9d979d6ba8d50443",
       "version_major": 2,
       "version_minor": 0
      },
      "text/plain": [
       "HBox(children=(FloatProgress(value=0.0, description='Iteration', max=18.0, style=ProgressStyle(description_wid…"
      ]
     },
     "metadata": {},
     "output_type": "display_data"
    },
    {
     "name": "stdout",
     "output_type": "stream",
     "text": [
      "\n"
     ]
    },
    {
     "data": {
      "application/vnd.jupyter.widget-view+json": {
       "model_id": "87ac699e10f447aaaddb57c1c65993fb",
       "version_major": 2,
       "version_minor": 0
      },
      "text/plain": [
       "HBox(children=(FloatProgress(value=0.0, description='Iteration', max=18.0, style=ProgressStyle(description_wid…"
      ]
     },
     "metadata": {},
     "output_type": "display_data"
    },
    {
     "name": "stdout",
     "output_type": "stream",
     "text": [
      "\n"
     ]
    },
    {
     "data": {
      "application/vnd.jupyter.widget-view+json": {
       "model_id": "fd77c7035c25439ca9ae7f0ded1a477f",
       "version_major": 2,
       "version_minor": 0
      },
      "text/plain": [
       "HBox(children=(FloatProgress(value=0.0, description='Iteration', max=18.0, style=ProgressStyle(description_wid…"
      ]
     },
     "metadata": {},
     "output_type": "display_data"
    },
    {
     "name": "stdout",
     "output_type": "stream",
     "text": [
      "\n"
     ]
    },
    {
     "data": {
      "application/vnd.jupyter.widget-view+json": {
       "model_id": "efd8df0998884e30b7a4f86e1922d7b8",
       "version_major": 2,
       "version_minor": 0
      },
      "text/plain": [
       "HBox(children=(FloatProgress(value=0.0, description='Iteration', max=18.0, style=ProgressStyle(description_wid…"
      ]
     },
     "metadata": {},
     "output_type": "display_data"
    },
    {
     "name": "stdout",
     "output_type": "stream",
     "text": [
      "\n"
     ]
    },
    {
     "data": {
      "application/vnd.jupyter.widget-view+json": {
       "model_id": "17e00058c8b54cae92ea48f1cafc0a29",
       "version_major": 2,
       "version_minor": 0
      },
      "text/plain": [
       "HBox(children=(FloatProgress(value=0.0, description='Iteration', max=18.0, style=ProgressStyle(description_wid…"
      ]
     },
     "metadata": {},
     "output_type": "display_data"
    },
    {
     "name": "stdout",
     "output_type": "stream",
     "text": [
      "\n",
      "\n"
     ]
    }
   ],
   "source": [
    "# evaluator = evaluation.TripletEvaluator(anchor, positive, negative, 1) # 1 for EUCLIDEAN distance\n",
    "bert_model.fit(train_objectives=[(trainLoader, triplet_loss)], epochs=EMB_EPOCHS, \\\n",
    "               optimizer_params={'lr':3e-5}, weight_decay=1e-6, \\\n",
    "               output_path=f\"{MODEL_PATH}_bert_a_{str(ALPHA).replace('.','')}_E_{EMB_EPOCHS}_E_{CLS_EPOCHS}\")"
   ]
  },
  {
   "cell_type": "code",
   "execution_count": 20,
   "id": "3bf9aafd",
   "metadata": {},
   "outputs": [
    {
     "data": {
      "text/plain": [
       "<seaborn.axisgrid.FacetGrid at 0x7fa78a622e48>"
      ]
     },
     "execution_count": 20,
     "metadata": {},
     "output_type": "execute_result"
    },
    {
     "data": {
      "image/png": "[encoded data removed]",
      "text/plain": [
       "<Figure size 425.5x360 with 1 Axes>"
      ]
     },
     "metadata": {
      "needs_background": "light"
     },
     "output_type": "display_data"
    }
   ],
   "source": [
    "emb_visualize(bert_model)"
   ]
  },
  {
   "cell_type": "code",
   "execution_count": 23,
   "id": "e72152b7",
   "metadata": {},
   "outputs": [],
   "source": [
    "from torch.utils.data import Dataset\n",
    "from torch.utils.data import DataLoader\n",
    "class intent_Dataset(Dataset):\n",
    "    def __init__(self, list_of_bert):\n",
    "        self.data = list_of_bert\n",
    "    def __getitem__(self, idx):\n",
    "        input_ids = torch.tensor(self.data[idx][\"input_ids\"])\n",
    "        seg_emb = torch.tensor(self.data[idx][\"token_type_ids\"])\n",
    "        att_emb = torch.tensor(self.data[idx][\"attention_mask\"])\n",
    "        label = torch.tensor(self.data[idx][\"label\"])\n",
    "        src_text = self.data[idx][\"src_texts\"]\n",
    "        src_label = self.data[idx][\"src_label\"]\n",
    "\n",
    "        return input_ids, seg_emb, att_emb, label, src_text, src_label\n",
    "\n",
    "    def __len__(self):\n",
    "        return len(self.data)"
   ]
  },
  {
   "cell_type": "code",
   "execution_count": 24,
   "id": "41e02445",
   "metadata": {},
   "outputs": [],
   "source": [
    "trainSet = intent_Dataset(bert_train)\n",
    "trainLoader = DataLoader(trainSet, batch_size=TRAIN_BATCH_SIZE, shuffle=True)\n",
    "testSet = intent_Dataset(bert_test)\n",
    "testLoader = DataLoader(trainSet, batch_size=TEST_BATCH_SIZE)"
   ]
  },
  {
   "cell_type": "code",
   "execution_count": 24,
   "id": "1fbfec04",
   "metadata": {},
   "outputs": [
    {
     "name": "stdout",
     "output_type": "stream",
     "text": [
      "2021-03-31 11:36:59\tstart training model/tri_base/ckip_vlight_hs from epoch 1 to 10\n",
      "2021-03-31 11:37:00\t[epoch 1] cls_loss: 66.755\n",
      "[epoch 1] training acc: 0.129371\n",
      "[epoch 1] testing acc: 0.115385\n",
      "2021-03-31 11:37:02\t[epoch 2] cls_loss: 66.463\n",
      "[epoch 2] training acc: 0.346154\n",
      "[epoch 2] testing acc: 0.318182\n",
      "2021-03-31 11:37:03\t[epoch 3] cls_loss: 65.996\n",
      "[epoch 3] training acc: 0.489510\n",
      "[epoch 3] testing acc: 0.486014\n",
      "2021-03-31 11:37:05\t[epoch 4] cls_loss: 65.206\n",
      "[epoch 4] training acc: 0.569930\n",
      "[epoch 4] testing acc: 0.587413\n",
      "2021-03-31 11:37:06\t[epoch 5] cls_loss: 63.961\n",
      "[epoch 5] training acc: 0.664336\n",
      "[epoch 5] testing acc: 0.674825\n",
      "2021-03-31 11:37:08\t[epoch 6] cls_loss: 62.551\n",
      "[epoch 6] training acc: 0.702797\n",
      "[epoch 6] testing acc: 0.695804\n",
      "2021-03-31 11:37:09\t[epoch 7] cls_loss: 61.004\n",
      "[epoch 7] training acc: 0.741259\n",
      "[epoch 7] testing acc: 0.751748\n",
      "2021-03-31 11:37:11\t[epoch 8] cls_loss: 59.542\n",
      "[epoch 8] training acc: 0.797203\n",
      "[epoch 8] testing acc: 0.800699\n",
      "2021-03-31 11:37:12\t[epoch 9] cls_loss: 58.172\n",
      "[epoch 9] training acc: 0.839161\n",
      "[epoch 9] testing acc: 0.835664\n",
      "2021-03-31 11:37:14\t[epoch 10] cls_loss: 56.966\n",
      "[epoch 10] training acc: 0.856643\n",
      "[epoch 10] testing acc: 0.860140\n"
     ]
    }
   ],
   "source": [
    "\n",
    "timestamp(f\"start training {MODEL_PATH} from epoch {train_from+1} to {CLS_EPOCHS}\")\n",
    "for epoch in range(train_from, CLS_EPOCHS):\n",
    "    running_bert_loss = 0.0\n",
    "    running_cls_loss = 0.0\n",
    "\n",
    "    for data in (trainLoader):\n",
    "        tokens_tensors, segments_tensors, masks_tensors, \\\n",
    "        labels = [t.to(device) for t in data if torch.is_tensor(t)]\n",
    "        \n",
    "        # 將參數梯度歸零\n",
    "        cls_optimizer.zero_grad()\n",
    "        \n",
    "        # forward pass\n",
    "        resize = labels.view(-1).shape[0]\n",
    "        emb = bert_model.encode(data[4], convert_to_tensor=True)\n",
    "        outputs = cls_model(emb)\n",
    "        \n",
    "        loss_fct = nn.CrossEntropyLoss()\n",
    "        cls_loss = loss_fct(outputs.intent_cls, labels.view(-1))\n",
    "        \n",
    "        # backward\n",
    "        cls_model.decoder.train()\n",
    "        bert_model.train()\n",
    "        cls_loss.backward()\n",
    "        cls_optimizer.step()\n",
    "        \n",
    "        # 紀錄當前 batch loss\n",
    "        running_cls_loss += cls_loss.item()\n",
    "\n",
    "    timestamp(f\"[epoch {epoch+1}] cls_loss: {running_cls_loss:.3f}\")    \n",
    "    writer.add_scalar('Loss/cls', running_cls_loss, epoch)\n",
    "    \n",
    "    _, acc = get_predictions(bert_model, cls_model, trainLoader, compute_acc=True, get_emb=False)\n",
    "    print(f\"[epoch {epoch+1}] training acc: {acc:.6f}\")\n",
    "    writer.add_scalar('Acc/train', acc, epoch)\n",
    "    \n",
    "    _, acc = get_predictions(bert_model, cls_model, testLoader, compute_acc=True, get_emb=False)\n",
    "    print(f\"[epoch {epoch+1}] testing acc: {acc:.6f}\")\n",
    "    writer.add_scalar('Acc/test', acc, epoch)"
   ]
  },
  {
   "cell_type": "code",
   "execution_count": 25,
   "id": "829cc5ac",
   "metadata": {},
   "outputs": [],
   "source": [
    "# torch.save(bert_model.state_dict(), F\"{MODEL_PATH}_bert_a_02_E_10.pt\")\n",
    "torch.save(cls_model.state_dict(), F\"{MODEL_PATH}_cls_a_{str(ALPHA).replace('.','')}_E_{EMB_EPOCHS}_E_{CLS_EPOCHS}.pt\")"
   ]
  },
  {
   "cell_type": "markdown",
   "id": "112ea981",
   "metadata": {},
   "source": [
    "## Visualization"
   ]
  },
  {
   "cell_type": "code",
   "execution_count": null,
   "id": "e3204aa0",
   "metadata": {},
   "outputs": [],
   "source": [
    "emb_fig = emb_visualize(bert_model)"
   ]
  },
  {
   "cell_type": "code",
   "execution_count": 27,
   "id": "f822b446",
   "metadata": {},
   "outputs": [],
   "source": [
    "emb_fig.savefig(f\"runs/{DATASET}/{MODEL_NAME}/a_{str(ALPHA).replace('.','')}_E_{EMB_EPOCHS}_E_{CLS_EPOCHS}/emb.png\")\n",
    "emb_by_cls_fig.savefig(f\"runs/{DATASET}/{MODEL_NAME}/a_{str(ALPHA).replace('.','')}_E_{EMB_EPOCHS}_E_{CLS_EPOCHS}/emb_bycls.png\")"
   ]
  },
  {
   "cell_type": "code",
   "execution_count": null,
   "id": "c74a6c6f",
   "metadata": {},
   "outputs": [],
   "source": []
  },
  {
   "cell_type": "markdown",
   "id": "8c6a3139",
   "metadata": {},
   "source": [
    "---"
   ]
  },
  {
   "cell_type": "code",
   "execution_count": null,
   "id": "dc925c52",
   "metadata": {},
   "outputs": [],
   "source": []
  }
 ],
 "metadata": {
  "kernelspec": {
   "display_name": "Python 3",
   "language": "python",
   "name": "python3"
  },
  "language_info": {
   "codemirror_mode": {
    "name": "ipython",
    "version": 3
   },
   "file_extension": ".py",
   "mimetype": "text/x-python",
   "name": "python",
   "nbconvert_exporter": "python",
   "pygments_lexer": "ipython3",
   "version": "3.6.13"
  }
 },
 "nbformat": 4,
 "nbformat_minor": 5
}
